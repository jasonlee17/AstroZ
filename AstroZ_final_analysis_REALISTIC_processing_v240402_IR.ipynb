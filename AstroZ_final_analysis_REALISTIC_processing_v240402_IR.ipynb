{
 "cells": [
  {
   "cell_type": "code",
   "execution_count": 1,
   "id": "80f33e7b-8310-4de8-bdda-9074728cd2de",
   "metadata": {},
   "outputs": [],
   "source": [
    "#LSST z-pred for realistic sims run with SALT3 on NERSC ugrizY\n",
    "\n",
    "%load_ext autoreload\n",
    "%autoreload 2"
   ]
  },
  {
   "cell_type": "code",
   "execution_count": 2,
   "id": "dbef9fd6-648c-4aa7-89f9-9de3878d922b",
   "metadata": {},
   "outputs": [
    {
     "name": "stdout",
     "output_type": "stream",
     "text": [
      "(1838554.9580025, -5258914.42492168, -3099898.78073271) m\n"
     ]
    }
   ],
   "source": [
    "import numpy as np\n",
    "import math\n",
    "import matplotlib.pyplot as plt\n",
    "import astropy\n",
    "from astropy.utils.data import get_pkg_data_filename\n",
    "from astropy.io import fits\n",
    "from astropy.table import Table\n",
    "import matplotlib\n",
    "import glob\n",
    "\n",
    "import time\n",
    "import sys\n",
    "import os\n",
    "import pandas as pd\n",
    "\n",
    "import astropy.units as u\n",
    "from astropy.coordinates import Angle, SkyCoord, AltAz, EarthLocation\n",
    "from astropy.time import Time\n",
    "from astropy.coordinates import Angle\n",
    "\n",
    "from scipy import interpolate\n",
    "\n",
    "import galsim\n",
    "from scipy import ndimage\n",
    "\n",
    "# location of CTIO\n",
    "earth_location = EarthLocation.of_site('La Silla Observatory')\n",
    "\n",
    "print(earth_location)"
   ]
  },
  {
   "cell_type": "code",
   "execution_count": 3,
   "id": "b3e393b5-1ad1-475d-a873-7dc50b473e30",
   "metadata": {
    "tags": []
   },
   "outputs": [],
   "source": [
    "from scipy.stats import chi2\n",
    "from scipy.interpolate import interp1d\n",
    "from scipy.integrate import trapz"
   ]
  },
  {
   "cell_type": "code",
   "execution_count": 4,
   "id": "b3870676-21ee-47ca-9b3e-2005a8d2c1e9",
   "metadata": {
    "tags": []
   },
   "outputs": [],
   "source": [
    "font = {'family' : 'serif', 'weight' : 'bold', 'style'  : 'normal', 'size'   : 12}\n",
    "matplotlib.rc('font', **font)"
   ]
  },
  {
   "cell_type": "code",
   "execution_count": 5,
   "id": "7d280544-d2df-44da-87a5-378df2fdb781",
   "metadata": {
    "tags": []
   },
   "outputs": [],
   "source": [
    "ref_star_SED = np.loadtxt('/global/cfs/cdirs/des/jlee/SN_Ia/star_SEDs/ukk5v.dat')\n",
    "\n",
    "f_source = interp1d(ref_star_SED.transpose()[0], ref_star_SED.transpose()[1])\n",
    "\n",
    "LSST_bands = ['u', 'g', 'r', 'i', 'z', 'Y']\n",
    "band_colors = ['blue', 'green', 'red', 'orange', 'violet']\n",
    "\n",
    "SNANA_lsst_bands = []\n",
    "for i in range(len(LSST_bands[:-1])):\n",
    "    SNANA_lsst_bands.append(np.loadtxt('DCR_AstroZ/filter_functions/LSST_baseline_1.9/LSST_' + LSST_bands[i] + '.dat', skiprows = 7))\n"
   ]
  },
  {
   "cell_type": "code",
   "execution_count": 6,
   "id": "b8d5e296-e17d-4f8b-a8d9-62e1012f951e",
   "metadata": {
    "tags": []
   },
   "outputs": [],
   "source": [
    "def sky_to_alt_az_coords(SN_fid_pos, mjd, loc = earth_location):\n",
    "    coord0 = SkyCoord(SN_fid_pos[0] * u.deg, SN_fid_pos[1] * u.deg)\n",
    "    aa = AltAz(location=loc, obstime=Time(mjd, scale = 'utc', format = 'mjd', location = loc))\n",
    "    alt, az = coord0.transform_to(aa).alt, coord0.transform_to(aa).az \n",
    "    return alt, az\n",
    "\n",
    "def sky_to_alt_az_shift(DCR_shift_RA, DCR_shift_DEC, SN_fid_pos, mjd, loc = earth_location):\n",
    "    coord0 = SkyCoord(SN_fid_pos[0] * u.deg, SN_fid_pos[1] * u.deg)\n",
    "    aa = AltAz(location=loc, obstime=Time(mjd, scale = 'utc', format = 'mjd', location = loc))\n",
    "    coord = SkyCoord((coord0.ra.value + DCR_shift_RA) * u.deg, (coord0.dec.value + DCR_shift_DEC) * u.deg)\n",
    "    alt_shift, az_shift = coord.transform_to(aa).alt - coord0.transform_to(aa).alt, coord.transform_to(aa).az - coord0.transform_to(aa).az\n",
    "    return alt_shift, az_shift\n",
    "\n",
    "def find_nearest(array, values):\n",
    "    array = np.asarray(array)\n",
    "    idxs = np.zeros(len(values))\n",
    "    for i in range(len(values)):\n",
    "        idxs[i] = (np.abs(array - values[i])).argmin()\n",
    "    idxs = idxs.astype(int)\n",
    "    return idxs, array[idxs]"
   ]
  },
  {
   "cell_type": "code",
   "execution_count": 7,
   "id": "393096ae-ef85-4f49-859f-08c1236e1267",
   "metadata": {
    "tags": []
   },
   "outputs": [],
   "source": [
    "dir_str = 'JASON_DCR_ASTROZ_COADD_REALISTIC_v1113/'\n",
    "SIM_dir_str = '/pscratch/sd/a/astjason/DCR_AstroZ/' + dir_str\n",
    "t_head = Table.read(glob.glob(SIM_dir_str + '*HEAD.FITS*')[0])\n",
    "t_phot = Table.read(glob.glob(SIM_dir_str + '*PHOT.FITS*')[0])\n",
    "t_DCR = pd.read_csv(glob.glob(SIM_dir_str + '*.DCR*')[0], delim_whitespace=True, skiprows = 6)\n",
    "t_DUMP = pd.read_csv(glob.glob(SIM_dir_str + '*.DUMP*')[0], delim_whitespace=True, skiprows = 5)"
   ]
  },
  {
   "cell_type": "code",
   "execution_count": 8,
   "id": "22e203ab-c33d-44fc-a1e7-b6fcb82ea924",
   "metadata": {
    "tags": []
   },
   "outputs": [
    {
     "data": {
      "text/html": [
       "<div><i>Table length=20000</i>\n",
       "<table id=\"table139776896447824\" class=\"table-striped table-bordered table-condensed\">\n",
       "<thead><tr><th>SNID</th><th>IAUC</th><th>FAKE</th><th>RA</th><th>DEC</th><th>RA_AVG_u</th><th>RA_AVG_g</th><th>RA_AVG_r</th><th>RA_AVG_i</th><th>RA_AVG_z</th><th>RA_AVG_Y</th><th>DEC_AVG_u</th><th>DEC_AVG_g</th><th>DEC_AVG_r</th><th>DEC_AVG_i</th><th>DEC_AVG_z</th><th>DEC_AVG_Y</th><th>PIXSIZE</th><th>NXPIX</th><th>NYPIX</th><th>SNTYPE</th><th>NOBS</th><th>PTROBS_MIN</th><th>PTROBS_MAX</th><th>MWEBV</th><th>MWEBV_ERR</th><th>REDSHIFT_HELIO</th><th>REDSHIFT_HELIO_ERR</th><th>REDSHIFT_FINAL</th><th>REDSHIFT_FINAL_ERR</th><th>VPEC</th><th>VPEC_ERR</th><th>HOSTGAL_NMATCH</th><th>HOSTGAL_NMATCH2</th><th>HOSTGAL_OBJID</th><th>HOSTGAL_FLAG</th><th>HOSTGAL_PHOTOZ</th><th>HOSTGAL_PHOTOZ_ERR</th><th>HOSTGAL_SPECZ</th><th>HOSTGAL_SPECZ_ERR</th><th>HOSTGAL_RA</th><th>HOSTGAL_DEC</th><th>HOSTGAL_SNSEP</th><th>HOSTGAL_DDLR</th><th>HOSTGAL_CONFUSION</th><th>HOSTGAL_LOGMASS</th><th>HOSTGAL_LOGMASS_ERR</th><th>HOSTGAL_LOGSFR</th><th>HOSTGAL_LOGSFR_ERR</th><th>HOSTGAL_LOGsSFR</th><th>HOSTGAL_LOGsSFR_ERR</th><th>HOSTGAL_COLOR</th><th>HOSTGAL_COLOR_ERR</th><th>HOSTGAL_ELLIPTICITY</th><th>HOSTGAL_OBJID2</th><th>HOSTGAL_SQRADIUS</th><th>HOSTGAL_OBJID_UNIQUE</th><th>HOSTGAL_ZPHOT_Q000</th><th>HOSTGAL_ZPHOT_Q010</th><th>HOSTGAL_ZPHOT_Q020</th><th>HOSTGAL_ZPHOT_Q030</th><th>HOSTGAL_ZPHOT_Q040</th><th>HOSTGAL_ZPHOT_Q050</th><th>HOSTGAL_ZPHOT_Q060</th><th>HOSTGAL_ZPHOT_Q070</th><th>HOSTGAL_ZPHOT_Q080</th><th>HOSTGAL_ZPHOT_Q090</th><th>HOSTGAL_ZPHOT_Q100</th><th>HOSTGAL_MAG_u</th><th>HOSTGAL_MAG_g</th><th>HOSTGAL_MAG_r</th><th>HOSTGAL_MAG_i</th><th>HOSTGAL_MAG_z</th><th>HOSTGAL_MAG_Y</th><th>HOSTGAL_MAGERR_u</th><th>HOSTGAL_MAGERR_g</th><th>HOSTGAL_MAGERR_r</th><th>HOSTGAL_MAGERR_i</th><th>HOSTGAL_MAGERR_z</th><th>HOSTGAL_MAGERR_Y</th><th>HOSTGAL2_OBJID</th><th>HOSTGAL2_FLAG</th><th>HOSTGAL2_PHOTOZ</th><th>HOSTGAL2_PHOTOZ_ERR</th><th>HOSTGAL2_SPECZ</th><th>HOSTGAL2_SPECZ_ERR</th><th>HOSTGAL2_RA</th><th>HOSTGAL2_DEC</th><th>HOSTGAL2_SNSEP</th><th>HOSTGAL2_DDLR</th><th>HOSTGAL2_LOGMASS</th><th>HOSTGAL2_LOGMASS_ERR</th><th>HOSTGAL2_LOGSFR</th><th>HOSTGAL2_LOGSFR_ERR</th><th>HOSTGAL2_LOGsSFR</th><th>HOSTGAL2_LOGsSFR_ERR</th><th>HOSTGAL2_COLOR</th><th>HOSTGAL2_COLOR_ERR</th><th>HOSTGAL2_ELLIPTICITY</th><th>HOSTGAL2_OBJID2</th><th>HOSTGAL2_SQRADIUS</th><th>HOSTGAL2_OBJID_UNIQUE</th><th>HOSTGAL2_MAG_u</th><th>HOSTGAL2_MAG_g</th><th>HOSTGAL2_MAG_r</th><th>HOSTGAL2_MAG_i</th><th>HOSTGAL2_MAG_z</th><th>HOSTGAL2_MAG_Y</th><th>HOSTGAL2_MAGERR_u</th><th>HOSTGAL2_MAGERR_g</th><th>HOSTGAL2_MAGERR_r</th><th>HOSTGAL2_MAGERR_i</th><th>HOSTGAL2_MAGERR_z</th><th>HOSTGAL2_MAGERR_Y</th><th>HOSTGAL2_ZPHOT_Q000</th><th>HOSTGAL2_ZPHOT_Q010</th><th>HOSTGAL2_ZPHOT_Q020</th><th>HOSTGAL2_ZPHOT_Q030</th><th>HOSTGAL2_ZPHOT_Q040</th><th>HOSTGAL2_ZPHOT_Q050</th><th>HOSTGAL2_ZPHOT_Q060</th><th>HOSTGAL2_ZPHOT_Q070</th><th>HOSTGAL2_ZPHOT_Q080</th><th>HOSTGAL2_ZPHOT_Q090</th><th>HOSTGAL2_ZPHOT_Q100</th><th>HOSTGAL_SB_FLUXCAL_u</th><th>HOSTGAL_SB_FLUXCAL_g</th><th>HOSTGAL_SB_FLUXCAL_r</th><th>HOSTGAL_SB_FLUXCAL_i</th><th>HOSTGAL_SB_FLUXCAL_z</th><th>HOSTGAL_SB_FLUXCAL_Y</th><th>PEAKMJD</th><th>MJD_TRIGGER</th><th>MJD_DETECT_FIRST</th><th>MJD_DETECT_LAST</th><th>SEARCH_TYPE</th><th>SIM_MODEL_NAME</th><th>SIM_MODEL_INDEX</th><th>SIM_GENTYPE</th><th>SIM_TYPE_INDEX</th><th>SIM_TYPE_NAME</th><th>SIM_TEMPLATE_INDEX</th><th>SIM_LIBID</th><th>SIM_NGEN_LIBID</th><th>SIM_NOBS_UNDEFINED</th><th>SIM_SEARCHEFF_MASK</th><th>SIM_REDSHIFT_HELIO</th><th>SIM_REDSHIFT_CMB</th><th>SIM_REDSHIFT_HOST</th><th>SIM_REDSHIFT_FLAG</th><th>SIM_VPEC</th><th>SIM_HOSTLIB_GALID</th><th>SIM_HOSTLIB(LOGMASS_TRUE)</th><th>SIM_HOSTLIB(LOG_SFR)</th><th>SIM_DLMU</th><th>SIM_LENSDMU</th><th>SIM_RA</th><th>SIM_DEC</th><th>SIM_MWEBV</th><th>SIM_PEAKMJD</th><th>SIM_MJD_EXPLODE</th><th>SIM_MAGSMEAR_COH</th><th>SIM_AV</th><th>SIM_RV</th><th>SIM_SALT2x0</th><th>SIM_SALT2x1</th><th>SIM_SALT2c</th><th>SIM_SALT2mB</th><th>SIM_SALT2alpha</th><th>SIM_SALT2beta</th><th>SIM_SALT2gammaDM</th><th>SIM_PEAKMAG_u</th><th>SIM_PEAKMAG_g</th><th>SIM_PEAKMAG_r</th><th>SIM_PEAKMAG_i</th><th>SIM_PEAKMAG_z</th><th>SIM_PEAKMAG_Y</th><th>SIM_EXPOSURE_u</th><th>SIM_EXPOSURE_g</th><th>SIM_EXPOSURE_r</th><th>SIM_EXPOSURE_i</th><th>SIM_EXPOSURE_z</th><th>SIM_EXPOSURE_Y</th><th>SIM_GALFRAC_u</th><th>SIM_GALFRAC_g</th><th>SIM_GALFRAC_r</th><th>SIM_GALFRAC_i</th><th>SIM_GALFRAC_z</th><th>SIM_GALFRAC_Y</th><th>SIM_SUBSAMPLE_INDEX</th></tr></thead>\n",
       "<thead><tr><th>bytes16</th><th>bytes16</th><th>int16</th><th>float64</th><th>float64</th><th>float64</th><th>float64</th><th>float64</th><th>float64</th><th>float64</th><th>float64</th><th>float64</th><th>float64</th><th>float64</th><th>float64</th><th>float64</th><th>float64</th><th>float32</th><th>int16</th><th>int16</th><th>int32</th><th>int32</th><th>int32</th><th>int32</th><th>float32</th><th>float32</th><th>float32</th><th>float32</th><th>float32</th><th>float32</th><th>float32</th><th>float32</th><th>int16</th><th>int16</th><th>int64</th><th>int16</th><th>float32</th><th>float32</th><th>float32</th><th>float32</th><th>float64</th><th>float64</th><th>float32</th><th>float32</th><th>float32</th><th>float32</th><th>float32</th><th>float32</th><th>float32</th><th>float32</th><th>float32</th><th>float32</th><th>float32</th><th>float32</th><th>int64</th><th>float32</th><th>int64</th><th>float32</th><th>float32</th><th>float32</th><th>float32</th><th>float32</th><th>float32</th><th>float32</th><th>float32</th><th>float32</th><th>float32</th><th>float32</th><th>float32</th><th>float32</th><th>float32</th><th>float32</th><th>float32</th><th>float32</th><th>float32</th><th>float32</th><th>float32</th><th>float32</th><th>float32</th><th>float32</th><th>int64</th><th>int16</th><th>float32</th><th>float32</th><th>float32</th><th>float32</th><th>float64</th><th>float64</th><th>float32</th><th>float32</th><th>float32</th><th>float32</th><th>float32</th><th>float32</th><th>float32</th><th>float32</th><th>float32</th><th>float32</th><th>float32</th><th>int64</th><th>float32</th><th>int64</th><th>float32</th><th>float32</th><th>float32</th><th>float32</th><th>float32</th><th>float32</th><th>float32</th><th>float32</th><th>float32</th><th>float32</th><th>float32</th><th>float32</th><th>float32</th><th>float32</th><th>float32</th><th>float32</th><th>float32</th><th>float32</th><th>float32</th><th>float32</th><th>float32</th><th>float32</th><th>float32</th><th>float32</th><th>float32</th><th>float32</th><th>float32</th><th>float32</th><th>float32</th><th>float32</th><th>float32</th><th>float32</th><th>float32</th><th>int32</th><th>bytes32</th><th>int16</th><th>int16</th><th>int16</th><th>bytes8</th><th>int32</th><th>int32</th><th>int32</th><th>int32</th><th>int32</th><th>float32</th><th>float32</th><th>float32</th><th>int16</th><th>float32</th><th>int64</th><th>float32</th><th>float32</th><th>float32</th><th>float32</th><th>float64</th><th>float64</th><th>float32</th><th>float32</th><th>float32</th><th>float32</th><th>float32</th><th>float32</th><th>float32</th><th>float32</th><th>float32</th><th>float32</th><th>float32</th><th>float32</th><th>float32</th><th>float32</th><th>float32</th><th>float32</th><th>float32</th><th>float32</th><th>float32</th><th>float32</th><th>float32</th><th>float32</th><th>float32</th><th>float32</th><th>float32</th><th>float32</th><th>float32</th><th>float32</th><th>float32</th><th>float32</th><th>float32</th><th>int16</th></tr></thead>\n",
       "<tr><td>1</td><td>NULL</td><td>2</td><td>8.199153</td><td>-45.783966</td><td>0.0</td><td>8.199130211302636</td><td>8.199154386203512</td><td>8.199153911668438</td><td>8.199154320692232</td><td>8.199154132300613</td><td>0.0</td><td>-45.783967381924576</td><td>-45.783965995530856</td><td>-45.78396596833855</td><td>-45.7839660741271</td><td>-45.78396602911927</td><td>0.2</td><td>-9</td><td>-9</td><td>10</td><td>5</td><td>1</td><td>5</td><td>0.011925084</td><td>0.0019080134</td><td>0.4890688</td><td>0.0</td><td>0.48803583</td><td>0.0</td><td>0.0</td><td>0.0</td><td>1</td><td>1</td><td>8750524037</td><td>0</td><td>0.5661088</td><td>0.57764</td><td>0.4890688</td><td>0.0</td><td>8.199234449995389</td><td>-45.78389489433254</td><td>0.3276217</td><td>0.3478479</td><td>-99.0</td><td>10.2824</td><td>-9999.0</td><td>-9999.0</td><td>-9999.0</td><td>-9999.0</td><td>-9999.0</td><td>-9999.0</td><td>-9999.0</td><td>0.3055</td><td>-9</td><td>30.8633</td><td>-9</td><td>0.09762814</td><td>0.36511147</td><td>0.43285424</td><td>0.52005816</td><td>0.54816544</td><td>0.5643342</td><td>0.58087426</td><td>0.5980884</td><td>0.6198747</td><td>0.65333575</td><td>0.77335596</td><td>24.76996</td><td>23.292013</td><td>22.022243</td><td>21.289183</td><td>20.973207</td><td>20.78419</td><td>0.45781</td><td>0.02856</td><td>0.01746</td><td>0.01711</td><td>0.01744</td><td>0.02094</td><td>0</td><td>0</td><td>-9.0</td><td>-9.0</td><td>-9.0</td><td>-9.0</td><td>-999.0</td><td>-999.0</td><td>-9.0</td><td>-9.0</td><td>-9999.0</td><td>-9999.0</td><td>-9999.0</td><td>-9999.0</td><td>-9999.0</td><td>-9999.0</td><td>-9999.0</td><td>-9999.0</td><td>-9999.0</td><td>0</td><td>-9999.0</td><td>0</td><td>999.0</td><td>999.0</td><td>999.0</td><td>999.0</td><td>999.0</td><td>999.0</td><td>999.0</td><td>999.0</td><td>999.0</td><td>999.0</td><td>999.0</td><td>999.0</td><td>-9.0</td><td>-9.0</td><td>-9.0</td><td>-9.0</td><td>-9.0</td><td>-9.0</td><td>-9.0</td><td>-9.0</td><td>-9.0</td><td>-9.0</td><td>-9.0</td><td>0.0</td><td>0.0</td><td>0.0</td><td>0.0</td><td>0.0</td><td>0.0</td><td>61774.105</td><td>1000000.0</td><td>1000000.0</td><td>1000000.0</td><td>-9</td><td>SALT3.P22-NIR</td><td>6</td><td>10</td><td>10</td><td>UNKNOWN</td><td>0</td><td>555</td><td>1</td><td>0</td><td>3</td><td>0.4890688</td><td>0.48803583</td><td>0.5006</td><td>1</td><td>0.0</td><td>8750524037</td><td>10.2824</td><td>-0.4141</td><td>42.188675</td><td>0.0</td><td>8.199152946472168</td><td>-45.783966064453125</td><td>0.012933566</td><td>61765.465</td><td>-9.0</td><td>0.030332182</td><td>-9.0</td><td>-9.0</td><td>1.675124e-05</td><td>0.34896168</td><td>-0.06449651</td><td>22.574883</td><td>0.14</td><td>3.1</td><td>0.0</td><td>-9.0</td><td>23.29329</td><td>22.36313</td><td>22.556263</td><td>22.48481</td><td>22.665558</td><td>1.0</td><td>1.0</td><td>1.0</td><td>1.0</td><td>1.0</td><td>1.0</td><td>-9.0</td><td>-9.0</td><td>-9.0</td><td>-9.0</td><td>-9.0</td><td>-9.0</td><td>-9</td></tr>\n",
       "<tr><td>2</td><td>NULL</td><td>2</td><td>151.875</td><td>3.134927</td><td>0.0</td><td>0.0</td><td>151.87500183573397</td><td>151.87499980324804</td><td>151.87499946909824</td><td>0.0</td><td>0.0</td><td>0.0</td><td>3.1349290216141448</td><td>3.1349264041304643</td><td>3.1349264571513693</td><td>0.0</td><td>0.2</td><td>-9</td><td>-9</td><td>10</td><td>59</td><td>7</td><td>65</td><td>0.022209205</td><td>0.0035534727</td><td>0.7844805</td><td>0.0</td><td>0.78656495</td><td>0.0</td><td>0.0</td><td>0.0</td><td>1</td><td>1</td><td>6000767250</td><td>0</td><td>0.71756047</td><td>0.72588</td><td>0.7844805</td><td>0.0</td><td>151.8749865826605</td><td>3.134882691275154</td><td>0.16665521</td><td>1.0188046</td><td>-99.0</td><td>10.3609</td><td>-9999.0</td><td>-9999.0</td><td>-9999.0</td><td>-9999.0</td><td>-9999.0</td><td>-9999.0</td><td>-9999.0</td><td>0.2087</td><td>-9</td><td>3.8911</td><td>-9</td><td>0.07920997</td><td>0.20596571</td><td>0.63837</td><td>0.68979466</td><td>0.70656675</td><td>0.71826273</td><td>0.728989</td><td>0.7415656</td><td>0.75929755</td><td>0.79273295</td><td>0.9211907</td><td>23.135004</td><td>22.681982</td><td>21.929024</td><td>21.276379</td><td>21.06762</td><td>20.824347</td><td>0.09549</td><td>0.02034</td><td>0.01712</td><td>0.0169</td><td>0.01759</td><td>0.02029</td><td>0</td><td>0</td><td>-9.0</td><td>-9.0</td><td>-9.0</td><td>-9.0</td><td>-999.0</td><td>-999.0</td><td>-9.0</td><td>-9.0</td><td>-9999.0</td><td>-9999.0</td><td>-9999.0</td><td>-9999.0</td><td>-9999.0</td><td>-9999.0</td><td>-9999.0</td><td>-9999.0</td><td>-9999.0</td><td>0</td><td>-9999.0</td><td>0</td><td>999.0</td><td>999.0</td><td>999.0</td><td>999.0</td><td>999.0</td><td>999.0</td><td>999.0</td><td>999.0</td><td>999.0</td><td>999.0</td><td>999.0</td><td>999.0</td><td>-9.0</td><td>-9.0</td><td>-9.0</td><td>-9.0</td><td>-9.0</td><td>-9.0</td><td>-9.0</td><td>-9.0</td><td>-9.0</td><td>-9.0</td><td>-9.0</td><td>0.0</td><td>0.0</td><td>0.0</td><td>0.0</td><td>0.0</td><td>0.0</td><td>63619.28</td><td>1000000.0</td><td>1000000.0</td><td>1000000.0</td><td>-9</td><td>SALT3.P22-NIR</td><td>6</td><td>10</td><td>10</td><td>UNKNOWN</td><td>0</td><td>647</td><td>1</td><td>0</td><td>3</td><td>0.7844805</td><td>0.78656495</td><td>0.7928</td><td>1</td><td>-0.0</td><td>6000767250</td><td>10.3609</td><td>0.4434</td><td>43.438694</td><td>0.0</td><td>151.875</td><td>3.1349270343780518</td><td>0.024909487</td><td>63607.125</td><td>-9.0</td><td>0.02261772</td><td>-9.0</td><td>-9.0</td><td>4.1319545e-06</td><td>0.3418319</td><td>0.022185393</td><td>24.094612</td><td>0.14</td><td>3.1</td><td>0.0</td><td>-9.0</td><td>-9.0</td><td>24.47127</td><td>23.638002</td><td>23.788877</td><td>23.762491</td><td>1.0</td><td>1.0</td><td>1.0</td><td>1.0</td><td>1.0</td><td>1.0</td><td>-9.0</td><td>-9.0</td><td>-9.0</td><td>-9.0</td><td>-9.0</td><td>-9.0</td><td>-9</td></tr>\n",
       "<tr><td>3</td><td>NULL</td><td>2</td><td>64.140274</td><td>-48.727589</td><td>0.0</td><td>0.0</td><td>64.14030026325565</td><td>64.14027402964393</td><td>64.14027215889926</td><td>0.0</td><td>0.0</td><td>0.0</td><td>-48.727585565118375</td><td>-48.727589309661546</td><td>-48.727589171403125</td><td>0.0</td><td>0.2</td><td>-9</td><td>-9</td><td>10</td><td>106</td><td>67</td><td>172</td><td>0.013692474</td><td>0.0021907957</td><td>0.8501149</td><td>0.0</td><td>0.84996575</td><td>0.0</td><td>0.0</td><td>0.0</td><td>1</td><td>1</td><td>8751175493</td><td>0</td><td>0.7745349</td><td>0.80252</td><td>0.8501149</td><td>0.0</td><td>64.14083085272301</td><td>-48.72741942399886</td><td>1.4564707</td><td>1.7894802</td><td>-99.0</td><td>10.4815</td><td>-9999.0</td><td>-9999.0</td><td>-9999.0</td><td>-9999.0</td><td>-9999.0</td><td>-9999.0</td><td>-9999.0</td><td>0.24</td><td>-9</td><td>12.8569</td><td>-9</td><td>0.7133956</td><td>0.7402515</td><td>0.75230473</td><td>0.76071775</td><td>0.76865643</td><td>0.7769436</td><td>0.7863538</td><td>0.7957641</td><td>0.8096471</td><td>0.82785755</td><td>0.8891886</td><td>23.24823</td><td>22.961964</td><td>22.470222</td><td>21.672304</td><td>21.360327</td><td>21.245743</td><td>0.11133</td><td>0.02458</td><td>0.01882</td><td>0.01765</td><td>0.0189</td><td>0.02676</td><td>0</td><td>0</td><td>-9.0</td><td>-9.0</td><td>-9.0</td><td>-9.0</td><td>-999.0</td><td>-999.0</td><td>-9.0</td><td>-9.0</td><td>-9999.0</td><td>-9999.0</td><td>-9999.0</td><td>-9999.0</td><td>-9999.0</td><td>-9999.0</td><td>-9999.0</td><td>-9999.0</td><td>-9999.0</td><td>0</td><td>-9999.0</td><td>0</td><td>999.0</td><td>999.0</td><td>999.0</td><td>999.0</td><td>999.0</td><td>999.0</td><td>999.0</td><td>999.0</td><td>999.0</td><td>999.0</td><td>999.0</td><td>999.0</td><td>-9.0</td><td>-9.0</td><td>-9.0</td><td>-9.0</td><td>-9.0</td><td>-9.0</td><td>-9.0</td><td>-9.0</td><td>-9.0</td><td>-9.0</td><td>-9.0</td><td>0.0</td><td>0.0</td><td>0.0</td><td>0.0</td><td>0.0</td><td>0.0</td><td>63126.19</td><td>1000000.0</td><td>1000000.0</td><td>1000000.0</td><td>-9</td><td>SALT3.P22-NIR</td><td>6</td><td>10</td><td>10</td><td>UNKNOWN</td><td>0</td><td>829</td><td>1</td><td>0</td><td>3</td><td>0.8501149</td><td>0.84996575</td><td>0.8781</td><td>1</td><td>-0.0</td><td>8751175493</td><td>10.4815</td><td>1.265</td><td>43.647617</td><td>0.0</td><td>64.14027404785156</td><td>-48.72758865356445</td><td>0.014278228</td><td>63119.402</td><td>-9.0</td><td>0.021817185</td><td>-9.0</td><td>-9.0</td><td>2.4976953e-06</td><td>1.0823046</td><td>0.16453484</td><td>24.641151</td><td>0.14</td><td>3.1</td><td>0.0</td><td>-9.0</td><td>-9.0</td><td>25.44158</td><td>24.330637</td><td>24.141844</td><td>24.076372</td><td>1.0</td><td>1.0</td><td>1.0</td><td>1.0</td><td>1.0</td><td>1.0</td><td>-9.0</td><td>-9.0</td><td>-9.0</td><td>-9.0</td><td>-9.0</td><td>-9.0</td><td>-9</td></tr>\n",
       "<tr><td>4</td><td>NULL</td><td>2</td><td>149.238281</td><td>1.492246</td><td>0.0</td><td>0.0</td><td>149.23829159016378</td><td>149.23828167947374</td><td>149.2382809466598</td><td>149.23828144692877</td><td>0.0</td><td>0.0</td><td>1.4922550064395712</td><td>1.4922466337694253</td><td>1.4922459548125213</td><td>1.4922464578871013</td><td>0.2</td><td>-9</td><td>-9</td><td>10</td><td>71</td><td>174</td><td>244</td><td>0.020555519</td><td>0.003288883</td><td>0.8926923</td><td>0.0</td><td>0.89488196</td><td>0.0</td><td>0.0</td><td>0.0</td><td>0</td><td>1</td><td>5876982236</td><td>0</td><td>0.8870923</td><td>0.8747</td><td>0.8926923</td><td>0.0</td><td>149.23795712265232</td><td>1.4924036003445436</td><td>1.2963171</td><td>4.8533816</td><td>-99.0</td><td>10.0698</td><td>-9999.0</td><td>-9999.0</td><td>-9999.0</td><td>-9999.0</td><td>-9999.0</td><td>-9999.0</td><td>-9999.0</td><td>0.8569</td><td>-9</td><td>21.3842</td><td>-9</td><td>0.7197313</td><td>0.79622316</td><td>0.8197497</td><td>0.84282</td><td>0.8642576</td><td>0.8870135</td><td>0.9118685</td><td>0.9316126</td><td>0.9512857</td><td>0.9805824</td><td>1.1780639</td><td>24.396305</td><td>24.475115</td><td>23.794092</td><td>22.88479</td><td>22.268612</td><td>22.155416</td><td>0.26915</td><td>0.06305</td><td>0.03503</td><td>0.02581</td><td>0.02534</td><td>0.04583</td><td>0</td><td>0</td><td>-9.0</td><td>-9.0</td><td>-9.0</td><td>-9.0</td><td>-999.0</td><td>-999.0</td><td>-9.0</td><td>-9.0</td><td>-9999.0</td><td>-9999.0</td><td>-9999.0</td><td>-9999.0</td><td>-9999.0</td><td>-9999.0</td><td>-9999.0</td><td>-9999.0</td><td>-9999.0</td><td>0</td><td>-9999.0</td><td>0</td><td>999.0</td><td>999.0</td><td>999.0</td><td>999.0</td><td>999.0</td><td>999.0</td><td>999.0</td><td>999.0</td><td>999.0</td><td>999.0</td><td>999.0</td><td>999.0</td><td>-9.0</td><td>-9.0</td><td>-9.0</td><td>-9.0</td><td>-9.0</td><td>-9.0</td><td>-9.0</td><td>-9.0</td><td>-9.0</td><td>-9.0</td><td>-9.0</td><td>0.0</td><td>0.0</td><td>0.0</td><td>0.0</td><td>0.0</td><td>0.0</td><td>62094.324</td><td>1000000.0</td><td>1000000.0</td><td>1000000.0</td><td>-9</td><td>SALT3.P22-NIR</td><td>6</td><td>10</td><td>10</td><td>UNKNOWN</td><td>0</td><td>1273</td><td>1</td><td>0</td><td>3</td><td>0.8926923</td><td>0.89488196</td><td>0.8803</td><td>1</td><td>0.0</td><td>5876982236</td><td>10.0698</td><td>-0.0281</td><td>43.78216</td><td>0.0</td><td>149.23828125</td><td>1.4922460317611694</td><td>0.029242668</td><td>62077.625</td><td>-9.0</td><td>-0.009715053</td><td>-9.0</td><td>-9.0</td><td>4.106377e-06</td><td>1.5142279</td><td>-0.033489812</td><td>24.101353</td><td>0.14</td><td>3.1</td><td>0.0</td><td>-9.0</td><td>-9.0</td><td>24.276924</td><td>23.678318</td><td>23.634502</td><td>23.715023</td><td>1.0</td><td>1.0</td><td>1.0</td><td>1.0</td><td>1.0</td><td>1.0</td><td>-9.0</td><td>-9.0</td><td>-9.0</td><td>-9.0</td><td>-9.0</td><td>-9.0</td><td>-9</td></tr>\n",
       "<tr><td>5</td><td>NULL</td><td>2</td><td>10.662651</td><td>-43.207821</td><td>0.0</td><td>0.0</td><td>10.662657227466696</td><td>10.662651255109777</td><td>10.662651926248902</td><td>10.662650159868573</td><td>0.0</td><td>0.0</td><td>-43.20782013665294</td><td>-43.20782103561908</td><td>-43.20782092609315</td><td>-43.207820930549076</td><td>0.2</td><td>-9</td><td>-9</td><td>10</td><td>61</td><td>246</td><td>306</td><td>0.008005731</td><td>0.001280917</td><td>0.7316188</td><td>0.0</td><td>0.730371</td><td>0.0</td><td>0.0</td><td>0.0</td><td>1</td><td>1</td><td>8000632269</td><td>0</td><td>0.7956488</td><td>0.77453</td><td>0.7316188</td><td>0.0</td><td>10.661911315392988</td><td>-43.207100762987594</td><td>3.238815</td><td>2.7532792</td><td>-99.0</td><td>10.7968</td><td>-9999.0</td><td>-9999.0</td><td>-9999.0</td><td>-9999.0</td><td>-9999.0</td><td>-9999.0</td><td>-9999.0</td><td>0.2919</td><td>-9</td><td>16.3173</td><td>-9</td><td>0.44403756</td><td>0.715792</td><td>0.74881524</td><td>0.76738113</td><td>0.7826108</td><td>0.79755205</td><td>0.81285375</td><td>0.8289998</td><td>0.8469994</td><td>0.8808773</td><td>0.99690664</td><td>22.09406</td><td>21.813206</td><td>21.233324</td><td>20.654474</td><td>20.482792</td><td>20.223682</td><td>0.03964</td><td>0.01734</td><td>0.01623</td><td>0.01612</td><td>0.01673</td><td>0.01737</td><td>0</td><td>0</td><td>-9.0</td><td>-9.0</td><td>-9.0</td><td>-9.0</td><td>-999.0</td><td>-999.0</td><td>-9.0</td><td>-9.0</td><td>-9999.0</td><td>-9999.0</td><td>-9999.0</td><td>-9999.0</td><td>-9999.0</td><td>-9999.0</td><td>-9999.0</td><td>-9999.0</td><td>-9999.0</td><td>0</td><td>-9999.0</td><td>0</td><td>999.0</td><td>999.0</td><td>999.0</td><td>999.0</td><td>999.0</td><td>999.0</td><td>999.0</td><td>999.0</td><td>999.0</td><td>999.0</td><td>999.0</td><td>999.0</td><td>-9.0</td><td>-9.0</td><td>-9.0</td><td>-9.0</td><td>-9.0</td><td>-9.0</td><td>-9.0</td><td>-9.0</td><td>-9.0</td><td>-9.0</td><td>-9.0</td><td>0.0</td><td>0.0</td><td>0.0</td><td>0.0</td><td>0.0</td><td>0.0</td><td>60848.266</td><td>1000000.0</td><td>1000000.0</td><td>1000000.0</td><td>-9</td><td>SALT3.P22-NIR</td><td>6</td><td>10</td><td>10</td><td>UNKNOWN</td><td>0</td><td>2205</td><td>1</td><td>0</td><td>3</td><td>0.7316188</td><td>0.730371</td><td>0.7105</td><td>1</td><td>-0.0</td><td>8000632269</td><td>10.7968</td><td>0.8563</td><td>43.246128</td><td>0.0</td><td>10.662651062011719</td><td>-43.207820892333984</td><td>0.0066580647</td><td>60847.46</td><td>-9.0</td><td>-0.20660341</td><td>-9.0</td><td>-9.0</td><td>4.2844586e-06</td><td>-1.4283123</td><td>-0.008332573</td><td>24.05526</td><td>0.14</td><td>3.1</td><td>0.0</td><td>-9.0</td><td>-9.0</td><td>23.940351</td><td>23.375603</td><td>23.575907</td><td>23.496807</td><td>1.0</td><td>1.0</td><td>1.0</td><td>1.0</td><td>1.0</td><td>1.0</td><td>-9.0</td><td>-9.0</td><td>-9.0</td><td>-9.0</td><td>-9.0</td><td>-9.0</td><td>-9</td></tr>\n",
       "<tr><td>6</td><td>NULL</td><td>2</td><td>64.978447</td><td>-46.571846</td><td>0.0</td><td>0.0</td><td>64.97844200150851</td><td>64.97844600350128</td><td>64.97844777825938</td><td>0.0</td><td>0.0</td><td>0.0</td><td>-46.571847324252595</td><td>-46.57184621025295</td><td>-46.5718459110434</td><td>0.0</td><td>0.2</td><td>-9</td><td>-9</td><td>10</td><td>44</td><td>308</td><td>351</td><td>0.01489672</td><td>0.0023834752</td><td>1.0443417</td><td>0.0</td><td>1.044177</td><td>0.0</td><td>0.0</td><td>0.0</td><td>0</td><td>0</td><td>0</td><td>0</td><td>-9.0</td><td>-9.0</td><td>-9.0</td><td>-9.0</td><td>-999.0</td><td>-999.0</td><td>-9.0</td><td>-9.0</td><td>-99.0</td><td>-9.0</td><td>-9.0</td><td>-9999.0</td><td>-9999.0</td><td>-9999.0</td><td>-9999.0</td><td>-9999.0</td><td>-9999.0</td><td>-9999.0</td><td>0</td><td>-9999.0</td><td>0</td><td>-9.0</td><td>-9.0</td><td>-9.0</td><td>-9.0</td><td>-9.0</td><td>-9.0</td><td>-9.0</td><td>-9.0</td><td>-9.0</td><td>-9.0</td><td>-9.0</td><td>999.0</td><td>999.0</td><td>999.0</td><td>999.0</td><td>999.0</td><td>999.0</td><td>999.0</td><td>999.0</td><td>999.0</td><td>999.0</td><td>999.0</td><td>999.0</td><td>0</td><td>0</td><td>-9.0</td><td>-9.0</td><td>-9.0</td><td>-9.0</td><td>-999.0</td><td>-999.0</td><td>-9.0</td><td>-9.0</td><td>-9999.0</td><td>-9999.0</td><td>-9999.0</td><td>-9999.0</td><td>-9999.0</td><td>-9999.0</td><td>-9999.0</td><td>-9999.0</td><td>-9999.0</td><td>0</td><td>-9999.0</td><td>0</td><td>999.0</td><td>999.0</td><td>999.0</td><td>999.0</td><td>999.0</td><td>999.0</td><td>999.0</td><td>999.0</td><td>999.0</td><td>999.0</td><td>999.0</td><td>999.0</td><td>-9.0</td><td>-9.0</td><td>-9.0</td><td>-9.0</td><td>-9.0</td><td>-9.0</td><td>-9.0</td><td>-9.0</td><td>-9.0</td><td>-9.0</td><td>-9.0</td><td>0.0</td><td>0.0</td><td>0.0</td><td>0.0</td><td>0.0</td><td>0.0</td><td>62913.082</td><td>1000000.0</td><td>1000000.0</td><td>1000000.0</td><td>-9</td><td>SALT3.P22-NIR</td><td>6</td><td>10</td><td>10</td><td>UNKNOWN</td><td>0</td><td>2980</td><td>1</td><td>0</td><td>3</td><td>1.0443417</td><td>1.044177</td><td>1.0169</td><td>1</td><td>0.0</td><td>9754035948</td><td>10.8488</td><td>0.2222</td><td>44.19687</td><td>0.0</td><td>64.97844696044922</td><td>-46.57184600830078</td><td>0.01298401</td><td>62924.777</td><td>-9.0</td><td>-0.098665975</td><td>-9.0</td><td>-9.0</td><td>2.2438167e-06</td><td>0.84478945</td><td>0.014171532</td><td>24.757532</td><td>0.14</td><td>3.1</td><td>0.0</td><td>-9.0</td><td>-9.0</td><td>25.731438</td><td>24.38798</td><td>24.01969</td><td>24.109741</td><td>1.0</td><td>1.0</td><td>1.0</td><td>1.0</td><td>1.0</td><td>1.0</td><td>-9.0</td><td>-9.0</td><td>-9.0</td><td>-9.0</td><td>-9.0</td><td>-9.0</td><td>-9</td></tr>\n",
       "<tr><td>7</td><td>NULL</td><td>2</td><td>10.732218</td><td>-45.191612</td><td>10.732217223015136</td><td>10.73221951952794</td><td>10.732219550907418</td><td>10.73221867708551</td><td>10.732218873888344</td><td>10.732218367682467</td><td>-45.1916131896506</td><td>-45.1916104986351</td><td>-45.19161105181632</td><td>-45.19161157544437</td><td>-45.19161177527135</td><td>-45.19161199653432</td><td>0.2</td><td>-9</td><td>-9</td><td>10</td><td>43</td><td>353</td><td>395</td><td>0.009388495</td><td>0.0015021593</td><td>0.25772154</td><td>0.0</td><td>0.25685462</td><td>0.0</td><td>0.0</td><td>0.0</td><td>1</td><td>1</td><td>8875082719</td><td>0</td><td>0.30921155</td><td>0.30219</td><td>0.25772154</td><td>0.0</td><td>10.731666525233242</td><td>-45.19103014255086</td><td>2.518977</td><td>2.6366</td><td>-99.0</td><td>9.7921</td><td>-9999.0</td><td>-9999.0</td><td>-9999.0</td><td>-9999.0</td><td>-9999.0</td><td>-9999.0</td><td>-9999.0</td><td>0.7484</td><td>-9</td><td>41.1159</td><td>-9</td><td>0.03954746</td><td>0.15399556</td><td>0.20561182</td><td>0.24589945</td><td>0.2845217</td><td>0.31065366</td><td>0.34293312</td><td>0.3988156</td><td>0.5263605</td><td>0.62160546</td><td>0.81928104</td><td>22.619831</td><td>21.803381</td><td>20.88022</td><td>20.476923</td><td>20.282602</td><td>20.102436</td><td>0.05775</td><td>0.01743</td><td>0.01643</td><td>0.01591</td><td>0.01606</td><td>0.01687</td><td>0</td><td>0</td><td>-9.0</td><td>-9.0</td><td>-9.0</td><td>-9.0</td><td>-999.0</td><td>-999.0</td><td>-9.0</td><td>-9.0</td><td>-9999.0</td><td>-9999.0</td><td>-9999.0</td><td>-9999.0</td><td>-9999.0</td><td>-9999.0</td><td>-9999.0</td><td>-9999.0</td><td>-9999.0</td><td>0</td><td>-9999.0</td><td>0</td><td>999.0</td><td>999.0</td><td>999.0</td><td>999.0</td><td>999.0</td><td>999.0</td><td>999.0</td><td>999.0</td><td>999.0</td><td>999.0</td><td>999.0</td><td>999.0</td><td>-9.0</td><td>-9.0</td><td>-9.0</td><td>-9.0</td><td>-9.0</td><td>-9.0</td><td>-9.0</td><td>-9.0</td><td>-9.0</td><td>-9.0</td><td>-9.0</td><td>0.0</td><td>0.0</td><td>0.0</td><td>0.0</td><td>0.0</td><td>0.0</td><td>63206.06</td><td>1000000.0</td><td>1000000.0</td><td>1000000.0</td><td>-9</td><td>SALT3.P22-NIR</td><td>6</td><td>10</td><td>10</td><td>UNKNOWN</td><td>0</td><td>3077</td><td>1</td><td>0</td><td>3</td><td>0.25772154</td><td>0.25685462</td><td>0.2507</td><td>1</td><td>-0.0</td><td>8875082719</td><td>9.7921</td><td>-0.2802</td><td>40.564384</td><td>0.0</td><td>10.732217788696289</td><td>-45.191612243652344</td><td>0.009127673</td><td>63204.047</td><td>-9.0</td><td>0.18719445</td><td>-9.0</td><td>-9.0</td><td>6.5423745e-05</td><td>0.8153026</td><td>0.003360973</td><td>21.095661</td><td>0.14</td><td>3.1</td><td>0.0</td><td>22.922033</td><td>21.50481</td><td>21.28697</td><td>21.262573</td><td>21.65485</td><td>21.98183</td><td>1.0</td><td>1.0</td><td>1.0</td><td>1.0</td><td>1.0</td><td>1.0</td><td>-9.0</td><td>-9.0</td><td>-9.0</td><td>-9.0</td><td>-9.0</td><td>-9.0</td><td>-9</td></tr>\n",
       "<tr><td>8</td><td>NULL</td><td>2</td><td>62.879463</td><td>-48.141209</td><td>0.0</td><td>62.879464095037456</td><td>62.8794672732396</td><td>62.87946293168883</td><td>62.87946290498797</td><td>62.879463052622015</td><td>0.0</td><td>-48.141216373591504</td><td>-48.14120916446639</td><td>-48.14120854884864</td><td>-48.141209143899545</td><td>-48.14120889234289</td><td>0.2</td><td>-9</td><td>-9</td><td>10</td><td>113</td><td>397</td><td>509</td><td>0.015269276</td><td>0.002443084</td><td>0.6910283</td><td>0.0</td><td>0.69085705</td><td>0.0</td><td>0.0</td><td>0.0</td><td>1</td><td>1</td><td>9688365210</td><td>0</td><td>0.91624826</td><td>0.88932</td><td>0.6910283</td><td>0.0</td><td>62.879332591955944</td><td>-48.14116051793642</td><td>0.35859665</td><td>1.4387095</td><td>-99.0</td><td>8.6115</td><td>-9999.0</td><td>-9999.0</td><td>-9999.0</td><td>-9999.0</td><td>-9999.0</td><td>-9999.0</td><td>-9999.0</td><td>0.4307</td><td>-9</td><td>7.2177</td><td>-9</td><td>0.72849846</td><td>0.88087636</td><td>0.8937479</td><td>0.906068</td><td>0.91572434</td><td>0.92538065</td><td>0.9367746</td><td>0.94951093</td><td>0.9639954</td><td>0.98007184</td><td>1.0271567</td><td>25.559212</td><td>25.57407</td><td>25.016056</td><td>24.27886</td><td>24.19949</td><td>23.671001</td><td>0.75103</td><td>0.16203</td><td>0.09249</td><td>0.06854</td><td>0.11473</td><td>0.17586</td><td>0</td><td>0</td><td>-9.0</td><td>-9.0</td><td>-9.0</td><td>-9.0</td><td>-999.0</td><td>-999.0</td><td>-9.0</td><td>-9.0</td><td>-9999.0</td><td>-9999.0</td><td>-9999.0</td><td>-9999.0</td><td>-9999.0</td><td>-9999.0</td><td>-9999.0</td><td>-9999.0</td><td>-9999.0</td><td>0</td><td>-9999.0</td><td>0</td><td>999.0</td><td>999.0</td><td>999.0</td><td>999.0</td><td>999.0</td><td>999.0</td><td>999.0</td><td>999.0</td><td>999.0</td><td>999.0</td><td>999.0</td><td>999.0</td><td>-9.0</td><td>-9.0</td><td>-9.0</td><td>-9.0</td><td>-9.0</td><td>-9.0</td><td>-9.0</td><td>-9.0</td><td>-9.0</td><td>-9.0</td><td>-9.0</td><td>0.0</td><td>0.0</td><td>0.0</td><td>0.0</td><td>0.0</td><td>0.0</td><td>63147.332</td><td>1000000.0</td><td>1000000.0</td><td>1000000.0</td><td>-9</td><td>SALT3.P22-NIR</td><td>6</td><td>10</td><td>10</td><td>UNKNOWN</td><td>0</td><td>4050</td><td>1</td><td>0</td><td>3</td><td>0.6910283</td><td>0.69085705</td><td>0.6641</td><td>1</td><td>-0.0</td><td>9688365210</td><td>8.6115</td><td>-0.2605</td><td>43.09759</td><td>0.0</td><td>62.87946319580078</td><td>-48.14120864868164</td><td>0.01652242</td><td>63132.836</td><td>-9.0</td><td>0.12633152</td><td>-9.0</td><td>-9.0</td><td>5.365478e-06</td><td>-0.3755749</td><td>0.008325471</td><td>23.81098</td><td>0.14</td><td>3.1</td><td>0.0</td><td>-9.0</td><td>25.709257</td><td>23.954033</td><td>23.580917</td><td>23.683344</td><td>23.552906</td><td>1.0</td><td>1.0</td><td>1.0</td><td>1.0</td><td>1.0</td><td>1.0</td><td>-9.0</td><td>-9.0</td><td>-9.0</td><td>-9.0</td><td>-9.0</td><td>-9.0</td><td>-9</td></tr>\n",
       "<tr><td>9</td><td>NULL</td><td>2</td><td>33.925781</td><td>-5.379379</td><td>0.0</td><td>0.0</td><td>33.92578005380822</td><td>33.9257807617273</td><td>33.92578123419791</td><td>33.925780905143945</td><td>0.0</td><td>0.0</td><td>-5.379376615290188</td><td>-5.379379378826777</td><td>-5.379378567360671</td><td>-5.379379120641646</td><td>0.2</td><td>-9</td><td>-9</td><td>10</td><td>85</td><td>511</td><td>595</td><td>0.021053854</td><td>0.0033686168</td><td>0.7041576</td><td>0.0</td><td>0.7027388</td><td>0.0</td><td>0.0</td><td>0.0</td><td>0</td><td>1</td><td>8817673560</td><td>0</td><td>0.3525476</td><td>0.32249</td><td>0.7041576</td><td>0.0</td><td>33.92574815599263</td><td>-5.379449393629024</td><td>0.27944282</td><td>6.488023</td><td>-99.0</td><td>8.2102</td><td>-9999.0</td><td>-9999.0</td><td>-9999.0</td><td>-9999.0</td><td>-9999.0</td><td>-9999.0</td><td>-9999.0</td><td>0.0996</td><td>-9</td><td>0.7677</td><td>-9</td><td>0.092769966</td><td>0.32917094</td><td>0.33109298</td><td>0.33301502</td><td>0.33494753</td><td>0.33686957</td><td>0.33882296</td><td>0.34077632</td><td>0.3427193</td><td>0.34467265</td><td>0.3553797</td><td>25.708887</td><td>25.296803</td><td>25.759077</td><td>25.619734</td><td>26.511595</td><td>30.14483</td><td>1.02092</td><td>0.12386</td><td>0.17599</td><td>0.21998</td><td>1.06037</td><td>-0.79349</td><td>0</td><td>0</td><td>-9.0</td><td>-9.0</td><td>-9.0</td><td>-9.0</td><td>-999.0</td><td>-999.0</td><td>-9.0</td><td>-9.0</td><td>-9999.0</td><td>-9999.0</td><td>-9999.0</td><td>-9999.0</td><td>-9999.0</td><td>-9999.0</td><td>-9999.0</td><td>-9999.0</td><td>-9999.0</td><td>0</td><td>-9999.0</td><td>0</td><td>999.0</td><td>999.0</td><td>999.0</td><td>999.0</td><td>999.0</td><td>999.0</td><td>999.0</td><td>999.0</td><td>999.0</td><td>999.0</td><td>999.0</td><td>999.0</td><td>-9.0</td><td>-9.0</td><td>-9.0</td><td>-9.0</td><td>-9.0</td><td>-9.0</td><td>-9.0</td><td>-9.0</td><td>-9.0</td><td>-9.0</td><td>-9.0</td><td>0.0</td><td>0.0</td><td>0.0</td><td>0.0</td><td>0.0</td><td>0.0</td><td>62806.168</td><td>1000000.0</td><td>1000000.0</td><td>1000000.0</td><td>-9</td><td>SALT3.P22-NIR</td><td>6</td><td>10</td><td>10</td><td>UNKNOWN</td><td>0</td><td>5598</td><td>1</td><td>0</td><td>3</td><td>0.7041576</td><td>0.7027388</td><td>0.6741</td><td>1</td><td>0.0</td><td>8817673560</td><td>8.2102</td><td>0.1614</td><td>43.144268</td><td>0.0</td><td>33.92578125</td><td>-5.379378795623779</td><td>0.022571273</td><td>62803.785</td><td>-9.0</td><td>0.09155106</td><td>-9.0</td><td>-9.0</td><td>7.797352e-06</td><td>0.8185535</td><td>-0.08372218</td><td>23.405132</td><td>0.14</td><td>3.1</td><td>0.0</td><td>-9.0</td><td>24.984926</td><td>23.40455</td><td>23.114267</td><td>23.310858</td><td>23.232141</td><td>1.0</td><td>1.0</td><td>1.0</td><td>1.0</td><td>1.0</td><td>1.0</td><td>-9.0</td><td>-9.0</td><td>-9.0</td><td>-9.0</td><td>-9.0</td><td>-9.0</td><td>-9</td></tr>\n",
       "<tr><td>10</td><td>NULL</td><td>2</td><td>65.290176</td><td>-48.141209</td><td>0.0</td><td>0.0</td><td>65.29017502505494</td><td>65.2901757866916</td><td>65.29017654078409</td><td>0.0</td><td>0.0</td><td>0.0</td><td>-48.141210292736396</td><td>-48.14120920063783</td><td>-48.14120880520051</td><td>0.0</td><td>0.2</td><td>-9</td><td>-9</td><td>10</td><td>51</td><td>597</td><td>647</td><td>0.012399501</td><td>0.00198392</td><td>1.0379145</td><td>0.0</td><td>1.0377761</td><td>0.0</td><td>0.0</td><td>0.0</td><td>1</td><td>1</td><td>6813637175</td><td>0</td><td>0.81061447</td><td>0.7806</td><td>1.0379145</td><td>0.0</td><td>65.29016090744192</td><td>-48.14115193583862</td><td>0.20861924</td><td>0.6219859</td><td>-99.0</td><td>10.6726</td><td>-9999.0</td><td>-9999.0</td><td>-9999.0</td><td>-9999.0</td><td>-9999.0</td><td>-9999.0</td><td>-9999.0</td><td>0.1855</td><td>-9</td><td>5.3801</td><td>-9</td><td>0.66429</td><td>0.75787634</td><td>0.7710472</td><td>0.78304416</td><td>0.7934655</td><td>0.80384564</td><td>0.8140611</td><td>0.824328</td><td>0.83784896</td><td>0.86103964</td><td>1.016701</td><td>23.186073</td><td>22.890444</td><td>22.189636</td><td>21.222332</td><td>20.851015</td><td>20.576643</td><td>0.09033</td><td>0.02189</td><td>0.01762</td><td>0.01645</td><td>0.01709</td><td>0.01884</td><td>0</td><td>0</td><td>-9.0</td><td>-9.0</td><td>-9.0</td><td>-9.0</td><td>-999.0</td><td>-999.0</td><td>-9.0</td><td>-9.0</td><td>-9999.0</td><td>-9999.0</td><td>-9999.0</td><td>-9999.0</td><td>-9999.0</td><td>-9999.0</td><td>-9999.0</td><td>-9999.0</td><td>-9999.0</td><td>0</td><td>-9999.0</td><td>0</td><td>999.0</td><td>999.0</td><td>999.0</td><td>999.0</td><td>999.0</td><td>999.0</td><td>999.0</td><td>999.0</td><td>999.0</td><td>999.0</td><td>999.0</td><td>999.0</td><td>-9.0</td><td>-9.0</td><td>-9.0</td><td>-9.0</td><td>-9.0</td><td>-9.0</td><td>-9.0</td><td>-9.0</td><td>-9.0</td><td>-9.0</td><td>-9.0</td><td>0.0</td><td>0.0</td><td>0.0</td><td>0.0</td><td>0.0</td><td>0.0</td><td>62891.07</td><td>1000000.0</td><td>1000000.0</td><td>1000000.0</td><td>-9</td><td>SALT3.P22-NIR</td><td>6</td><td>10</td><td>10</td><td>UNKNOWN</td><td>0</td><td>5631</td><td>1</td><td>0</td><td>3</td><td>1.0379145</td><td>1.0377761</td><td>1.0079</td><td>1</td><td>-0.0</td><td>6813637175</td><td>10.6726</td><td>0.3775</td><td>44.180405</td><td>0.0</td><td>65.29017639160156</td><td>-48.14120864868164</td><td>0.012977808</td><td>62896.48</td><td>-9.0</td><td>0.12284838</td><td>-9.0</td><td>-9.0</td><td>1.4109056e-06</td><td>-2.3337197</td><td>0.038428556</td><td>25.261255</td><td>0.14</td><td>3.1</td><td>0.0</td><td>-9.0</td><td>-9.0</td><td>26.43107</td><td>25.132463</td><td>24.752892</td><td>24.885712</td><td>1.0</td><td>1.0</td><td>1.0</td><td>1.0</td><td>1.0</td><td>1.0</td><td>-9.0</td><td>-9.0</td><td>-9.0</td><td>-9.0</td><td>-9.0</td><td>-9.0</td><td>-9</td></tr>\n",
       "<tr><td>...</td><td>...</td><td>...</td><td>...</td><td>...</td><td>...</td><td>...</td><td>...</td><td>...</td><td>...</td><td>...</td><td>...</td><td>...</td><td>...</td><td>...</td><td>...</td><td>...</td><td>...</td><td>...</td><td>...</td><td>...</td><td>...</td><td>...</td><td>...</td><td>...</td><td>...</td><td>...</td><td>...</td><td>...</td><td>...</td><td>...</td><td>...</td><td>...</td><td>...</td><td>...</td><td>...</td><td>...</td><td>...</td><td>...</td><td>...</td><td>...</td><td>...</td><td>...</td><td>...</td><td>...</td><td>...</td><td>...</td><td>...</td><td>...</td><td>...</td><td>...</td><td>...</td><td>...</td><td>...</td><td>...</td><td>...</td><td>...</td><td>...</td><td>...</td><td>...</td><td>...</td><td>...</td><td>...</td><td>...</td><td>...</td><td>...</td><td>...</td><td>...</td><td>...</td><td>...</td><td>...</td><td>...</td><td>...</td><td>...</td><td>...</td><td>...</td><td>...</td><td>...</td><td>...</td><td>...</td><td>...</td><td>...</td><td>...</td><td>...</td><td>...</td><td>...</td><td>...</td><td>...</td><td>...</td><td>...</td><td>...</td><td>...</td><td>...</td><td>...</td><td>...</td><td>...</td><td>...</td><td>...</td><td>...</td><td>...</td><td>...</td><td>...</td><td>...</td><td>...</td><td>...</td><td>...</td><td>...</td><td>...</td><td>...</td><td>...</td><td>...</td><td>...</td><td>...</td><td>...</td><td>...</td><td>...</td><td>...</td><td>...</td><td>...</td><td>...</td><td>...</td><td>...</td><td>...</td><td>...</td><td>...</td><td>...</td><td>...</td><td>...</td><td>...</td><td>...</td><td>...</td><td>...</td><td>...</td><td>...</td><td>...</td><td>...</td><td>...</td><td>...</td><td>...</td><td>...</td><td>...</td><td>...</td><td>...</td><td>...</td><td>...</td><td>...</td><td>...</td><td>...</td><td>...</td><td>...</td><td>...</td><td>...</td><td>...</td><td>...</td><td>...</td><td>...</td><td>...</td><td>...</td><td>...</td><td>...</td><td>...</td><td>...</td><td>...</td><td>...</td><td>...</td><td>...</td><td>...</td><td>...</td><td>...</td><td>...</td><td>...</td><td>...</td><td>...</td><td>...</td><td>...</td><td>...</td><td>...</td><td>...</td><td>...</td><td>...</td><td>...</td><td>...</td><td>...</td><td>...</td><td>...</td><td>...</td><td>...</td><td>...</td><td>...</td><td>...</td></tr>\n",
       "<tr><td>19991</td><td>NULL</td><td>2</td><td>6.880165</td><td>-44.597992</td><td>0.0</td><td>0.0</td><td>6.88015611304017</td><td>6.88016418263983</td><td>6.880164949058364</td><td>0.0</td><td>0.0</td><td>0.0</td><td>-44.597994413034655</td><td>-44.59799227512224</td><td>-44.59799200861585</td><td>0.0</td><td>0.2</td><td>-9</td><td>-9</td><td>10</td><td>23</td><td>1296335</td><td>1296357</td><td>0.00977958</td><td>0.0015647328</td><td>1.1705228</td><td>0.0</td><td>1.1689612</td><td>0.0</td><td>0.0</td><td>0.0</td><td>1</td><td>1</td><td>8878087360</td><td>0</td><td>1.2175728</td><td>1.18995</td><td>1.1705228</td><td>0.0</td><td>6.880151450014726</td><td>-44.597980876189936</td><td>0.053058304</td><td>0.3523484</td><td>-99.0</td><td>9.2011</td><td>-9999.0</td><td>-9999.0</td><td>-9999.0</td><td>-9999.0</td><td>-9999.0</td><td>-9999.0</td><td>-9999.0</td><td>0.7904</td><td>-9</td><td>4.9823</td><td>-9</td><td>0.9939663</td><td>1.1188637</td><td>1.1471307</td><td>1.1669996</td><td>1.1895826</td><td>1.21871</td><td>1.2471101</td><td>1.2641728</td><td>1.2827</td><td>1.3028659</td><td>2.024311</td><td>26.527742</td><td>26.42806</td><td>25.70261</td><td>24.7594</td><td>24.006418</td><td>23.504007</td><td>1.17734</td><td>0.42992</td><td>0.18207</td><td>0.10781</td><td>0.10019</td><td>0.16009</td><td>0</td><td>0</td><td>-9.0</td><td>-9.0</td><td>-9.0</td><td>-9.0</td><td>-999.0</td><td>-999.0</td><td>-9.0</td><td>-9.0</td><td>-9999.0</td><td>-9999.0</td><td>-9999.0</td><td>-9999.0</td><td>-9999.0</td><td>-9999.0</td><td>-9999.0</td><td>-9999.0</td><td>-9999.0</td><td>0</td><td>-9999.0</td><td>0</td><td>999.0</td><td>999.0</td><td>999.0</td><td>999.0</td><td>999.0</td><td>999.0</td><td>999.0</td><td>999.0</td><td>999.0</td><td>999.0</td><td>999.0</td><td>999.0</td><td>-9.0</td><td>-9.0</td><td>-9.0</td><td>-9.0</td><td>-9.0</td><td>-9.0</td><td>-9.0</td><td>-9.0</td><td>-9.0</td><td>-9.0</td><td>-9.0</td><td>0.0</td><td>0.0</td><td>0.0</td><td>0.0</td><td>0.0</td><td>0.0</td><td>63578.062</td><td>1000000.0</td><td>1000000.0</td><td>1000000.0</td><td>-9</td><td>SALT3.P22-NIR</td><td>6</td><td>10</td><td>10</td><td>UNKNOWN</td><td>0</td><td>48717</td><td>1</td><td>0</td><td>3</td><td>1.1705228</td><td>1.1689612</td><td>1.1429</td><td>1</td><td>-0.0</td><td>8878087360</td><td>9.2011</td><td>-0.74</td><td>44.500134</td><td>0.0</td><td>6.880165100097656</td><td>-44.597991943359375</td><td>0.0106711155</td><td>63594.35</td><td>-9.0</td><td>-0.042392608</td><td>-9.0</td><td>-9.0</td><td>1.9233632e-06</td><td>0.41874483</td><td>-0.048923813</td><td>24.924847</td><td>0.14</td><td>3.1</td><td>0.0</td><td>-9.0</td><td>-9.0</td><td>26.09207</td><td>24.775894</td><td>24.185513</td><td>24.258951</td><td>1.0</td><td>1.0</td><td>1.0</td><td>1.0</td><td>1.0</td><td>1.0</td><td>-9.0</td><td>-9.0</td><td>-9.0</td><td>-9.0</td><td>-9.0</td><td>-9.0</td><td>-9</td></tr>\n",
       "<tr><td>19992</td><td>NULL</td><td>2</td><td>152.226562</td><td>1.64151</td><td>0.0</td><td>0.0</td><td>152.22656361649612</td><td>152.22655954451238</td><td>152.22656210852253</td><td>152.22656159904554</td><td>0.0</td><td>0.0</td><td>1.6415115788452455</td><td>1.6415080362688461</td><td>1.6415103824074613</td><td>1.6415096282016337</td><td>0.2</td><td>-9</td><td>-9</td><td>10</td><td>24</td><td>1296359</td><td>1296382</td><td>0.045164913</td><td>0.007226386</td><td>0.68445605</td><td>0.0</td><td>0.6864359</td><td>0.0</td><td>0.0</td><td>0.0</td><td>1</td><td>1</td><td>9001969517</td><td>0</td><td>0.96832603</td><td>0.96937</td><td>0.68445605</td><td>0.0</td><td>152.22659209543892</td><td>1.6414659246542234</td><td>0.19209293</td><td>0.74942446</td><td>-99.0</td><td>10.4975</td><td>-9999.0</td><td>-9999.0</td><td>-9999.0</td><td>-9999.0</td><td>-9999.0</td><td>-9999.0</td><td>-9999.0</td><td>0.4113</td><td>-9</td><td>7.6647</td><td>-9</td><td>0.768418</td><td>0.89675224</td><td>0.9202564</td><td>0.93570286</td><td>0.95161855</td><td>0.9678937</td><td>0.98115355</td><td>0.9942236</td><td>1.008402</td><td>1.0227301</td><td>1.1110554</td><td>24.808994</td><td>24.503263</td><td>23.585457</td><td>22.613895</td><td>21.955933</td><td>21.707571</td><td>0.35914</td><td>0.06354</td><td>0.0299</td><td>0.02233</td><td>0.02245</td><td>0.03274</td><td>0</td><td>0</td><td>-9.0</td><td>-9.0</td><td>-9.0</td><td>-9.0</td><td>-999.0</td><td>-999.0</td><td>-9.0</td><td>-9.0</td><td>-9999.0</td><td>-9999.0</td><td>-9999.0</td><td>-9999.0</td><td>-9999.0</td><td>-9999.0</td><td>-9999.0</td><td>-9999.0</td><td>-9999.0</td><td>0</td><td>-9999.0</td><td>0</td><td>999.0</td><td>999.0</td><td>999.0</td><td>999.0</td><td>999.0</td><td>999.0</td><td>999.0</td><td>999.0</td><td>999.0</td><td>999.0</td><td>999.0</td><td>999.0</td><td>-9.0</td><td>-9.0</td><td>-9.0</td><td>-9.0</td><td>-9.0</td><td>-9.0</td><td>-9.0</td><td>-9.0</td><td>-9.0</td><td>-9.0</td><td>-9.0</td><td>0.0</td><td>0.0</td><td>0.0</td><td>0.0</td><td>0.0</td><td>0.0</td><td>61744.3</td><td>1000000.0</td><td>1000000.0</td><td>1000000.0</td><td>-9</td><td>SALT3.P22-NIR</td><td>6</td><td>10</td><td>10</td><td>UNKNOWN</td><td>0</td><td>48882</td><td>1</td><td>0</td><td>3</td><td>0.68445605</td><td>0.6864359</td><td>0.6855</td><td>1</td><td>-0.0</td><td>9001969517</td><td>10.4975</td><td>-0.1219</td><td>43.07785</td><td>0.0</td><td>152.2265625</td><td>1.641510009765625</td><td>0.04269414</td><td>61747.152</td><td>-9.0</td><td>0.043582134</td><td>-9.0</td><td>-9.0</td><td>7.4789173e-06</td><td>-0.41072404</td><td>-0.10320961</td><td>23.450403</td><td>0.14</td><td>3.1</td><td>0.0</td><td>-9.0</td><td>24.67198</td><td>23.386915</td><td>23.224834</td><td>23.381704</td><td>23.3206</td><td>1.0</td><td>1.0</td><td>1.0</td><td>1.0</td><td>1.0</td><td>1.0</td><td>-9.0</td><td>-9.0</td><td>-9.0</td><td>-9.0</td><td>-9.0</td><td>-9.0</td><td>-9</td></tr>\n",
       "<tr><td>19993</td><td>NULL</td><td>2</td><td>33.574219</td><td>-4.780192</td><td>0.0</td><td>33.574216879757124</td><td>33.57421838476991</td><td>33.57421924574658</td><td>33.574218901824985</td><td>0.0</td><td>0.0</td><td>-4.780189393353363</td><td>-4.780191193890447</td><td>-4.780192828205109</td><td>-4.780191967309386</td><td>0.0</td><td>0.2</td><td>-9</td><td>-9</td><td>10</td><td>41</td><td>1296384</td><td>1296424</td><td>0.021646127</td><td>0.0034633803</td><td>0.6282251</td><td>0.0</td><td>0.62685704</td><td>0.0</td><td>0.0</td><td>0.0</td><td>1</td><td>1</td><td>10313044734</td><td>0</td><td>2.566615</td><td>2.55609</td><td>0.6282251</td><td>0.0</td><td>33.57423923963494</td><td>-4.780200240156426</td><td>0.078481816</td><td>0.61215436</td><td>-99.0</td><td>8.5107</td><td>-9999.0</td><td>-9999.0</td><td>-9999.0</td><td>-9999.0</td><td>-9999.0</td><td>-9999.0</td><td>-9999.0</td><td>0.2</td><td>-9</td><td>0.3656</td><td>-9</td><td>0.01478775</td><td>0.44883975</td><td>2.4688728</td><td>2.540025</td><td>2.5733025</td><td>2.5996437</td><td>2.6214085</td><td>2.6431627</td><td>2.6713145</td><td>2.715637</td><td>2.9548752</td><td>27.145134</td><td>25.378572</td><td>24.441027</td><td>24.078733</td><td>23.73385</td><td>23.665941</td><td>4.52597</td><td>0.14528</td><td>0.05741</td><td>0.06125</td><td>0.07778</td><td>0.15843</td><td>0</td><td>0</td><td>-9.0</td><td>-9.0</td><td>-9.0</td><td>-9.0</td><td>-999.0</td><td>-999.0</td><td>-9.0</td><td>-9.0</td><td>-9999.0</td><td>-9999.0</td><td>-9999.0</td><td>-9999.0</td><td>-9999.0</td><td>-9999.0</td><td>-9999.0</td><td>-9999.0</td><td>-9999.0</td><td>0</td><td>-9999.0</td><td>0</td><td>999.0</td><td>999.0</td><td>999.0</td><td>999.0</td><td>999.0</td><td>999.0</td><td>999.0</td><td>999.0</td><td>999.0</td><td>999.0</td><td>999.0</td><td>999.0</td><td>-9.0</td><td>-9.0</td><td>-9.0</td><td>-9.0</td><td>-9.0</td><td>-9.0</td><td>-9.0</td><td>-9.0</td><td>-9.0</td><td>-9.0</td><td>-9.0</td><td>0.0</td><td>0.0</td><td>0.0</td><td>0.0</td><td>0.0</td><td>0.0</td><td>60993.09</td><td>1000000.0</td><td>1000000.0</td><td>1000000.0</td><td>-9</td><td>SALT3.P22-NIR</td><td>6</td><td>10</td><td>10</td><td>UNKNOWN</td><td>0</td><td>49182</td><td>1</td><td>0</td><td>3</td><td>0.6282251</td><td>0.62685704</td><td>0.6177</td><td>1</td><td>0.0</td><td>10313044734</td><td>8.5107</td><td>-0.7896</td><td>42.842827</td><td>0.0</td><td>33.57421875</td><td>-4.780191898345947</td><td>0.02367729</td><td>60995.33</td><td>-9.0</td><td>0.09560768</td><td>-9.0</td><td>-9.0</td><td>9.592972e-06</td><td>-0.07729509</td><td>-0.09952578</td><td>23.180117</td><td>0.14</td><td>3.1</td><td>0.0</td><td>-9.0</td><td>24.345953</td><td>23.043823</td><td>23.079636</td><td>23.104847</td><td>23.156914</td><td>1.0</td><td>1.0</td><td>1.0</td><td>1.0</td><td>1.0</td><td>1.0</td><td>-9.0</td><td>-9.0</td><td>-9.0</td><td>-9.0</td><td>-9.0</td><td>-9.0</td><td>-9</td></tr>\n",
       "<tr><td>19994</td><td>NULL</td><td>2</td><td>150.820312</td><td>2.836105</td><td>0.0</td><td>0.0</td><td>150.8203121200082</td><td>150.82031212735004</td><td>150.82031193433656</td><td>0.0</td><td>0.0</td><td>0.0</td><td>2.836106625112493</td><td>2.8361044718359327</td><td>2.83610513654952</td><td>0.0</td><td>0.2</td><td>-9</td><td>-9</td><td>10</td><td>34</td><td>1296426</td><td>1296459</td><td>0.023405889</td><td>0.0037449421</td><td>0.75241107</td><td>0.0</td><td>0.7544487</td><td>0.0</td><td>0.0</td><td>0.0</td><td>1</td><td>1</td><td>10563247530</td><td>0</td><td>0.73999107</td><td>0.71208</td><td>0.75241107</td><td>0.0</td><td>150.82029006524857</td><td>2.8361804804872186</td><td>0.2829368</td><td>0.23326774</td><td>-99.0</td><td>10.6872</td><td>-9999.0</td><td>-9999.0</td><td>-9999.0</td><td>-9999.0</td><td>-9999.0</td><td>-9999.0</td><td>-9999.0</td><td>0.0799</td><td>-9</td><td>15.3363</td><td>-9</td><td>0.41093382</td><td>0.6625268</td><td>0.68994385</td><td>0.7079207</td><td>0.7225639</td><td>0.7395126</td><td>0.76300406</td><td>0.8051058</td><td>0.8637617</td><td>0.9129566</td><td>1.0056969</td><td>21.894098</td><td>21.805923</td><td>21.389515</td><td>20.868933</td><td>20.807558</td><td>20.55269</td><td>0.03157</td><td>0.01658</td><td>0.01596</td><td>0.01611</td><td>0.01709</td><td>0.01846</td><td>0</td><td>0</td><td>-9.0</td><td>-9.0</td><td>-9.0</td><td>-9.0</td><td>-999.0</td><td>-999.0</td><td>-9.0</td><td>-9.0</td><td>-9999.0</td><td>-9999.0</td><td>-9999.0</td><td>-9999.0</td><td>-9999.0</td><td>-9999.0</td><td>-9999.0</td><td>-9999.0</td><td>-9999.0</td><td>0</td><td>-9999.0</td><td>0</td><td>999.0</td><td>999.0</td><td>999.0</td><td>999.0</td><td>999.0</td><td>999.0</td><td>999.0</td><td>999.0</td><td>999.0</td><td>999.0</td><td>999.0</td><td>999.0</td><td>-9.0</td><td>-9.0</td><td>-9.0</td><td>-9.0</td><td>-9.0</td><td>-9.0</td><td>-9.0</td><td>-9.0</td><td>-9.0</td><td>-9.0</td><td>-9.0</td><td>0.0</td><td>0.0</td><td>0.0</td><td>0.0</td><td>0.0</td><td>0.0</td><td>64388.156</td><td>1000000.0</td><td>1000000.0</td><td>1000000.0</td><td>-9</td><td>SALT3.P22-NIR</td><td>6</td><td>10</td><td>10</td><td>UNKNOWN</td><td>0</td><td>49273</td><td>1</td><td>0</td><td>3</td><td>0.75241107</td><td>0.7544487</td><td>0.7245</td><td>1</td><td>-0.0</td><td>10563247530</td><td>10.6872</td><td>1.0293</td><td>43.32803</td><td>0.0</td><td>150.8203125</td><td>2.8361051082611084</td><td>0.024021469</td><td>64393.875</td><td>-9.0</td><td>-0.21579614</td><td>-9.0</td><td>-9.0</td><td>3.871272e-06</td><td>-0.8221696</td><td>0.028139744</td><td>24.165365</td><td>0.14</td><td>3.1</td><td>0.0</td><td>-9.0</td><td>-9.0</td><td>24.166569</td><td>23.465284</td><td>23.653564</td><td>23.58645</td><td>1.0</td><td>1.0</td><td>1.0</td><td>1.0</td><td>1.0</td><td>1.0</td><td>-9.0</td><td>-9.0</td><td>-9.0</td><td>-9.0</td><td>-9.0</td><td>-9.0</td><td>-9</td></tr>\n",
       "<tr><td>19995</td><td>NULL</td><td>2</td><td>149.765625</td><td>4.331149</td><td>0.0</td><td>0.0</td><td>149.76562542943554</td><td>149.76562630958097</td><td>149.76562501890277</td><td>0.0</td><td>0.0</td><td>0.0</td><td>4.331151303047747</td><td>4.331150617431264</td><td>4.331148566990513</td><td>0.0</td><td>0.2</td><td>-9</td><td>-9</td><td>10</td><td>30</td><td>1296461</td><td>1296490</td><td>0.024044871</td><td>0.0038471795</td><td>1.0408934</td><td>0.0</td><td>1.0432407</td><td>0.0</td><td>0.0</td><td>0.0</td><td>1</td><td>1</td><td>10438842811</td><td>0</td><td>0.8625135</td><td>0.82482</td><td>1.0408934</td><td>0.0</td><td>149.76552929547353</td><td>4.331111695816684</td><td>0.36888143</td><td>1.4456606</td><td>-99.0</td><td>8.6048</td><td>-9999.0</td><td>-9999.0</td><td>-9999.0</td><td>-9999.0</td><td>-9999.0</td><td>-9999.0</td><td>-9999.0</td><td>0.323</td><td>-9</td><td>1.7557</td><td>-9</td><td>0.56413895</td><td>0.8083837</td><td>0.8218721</td><td>0.8343541</td><td>0.8451553</td><td>0.8558111</td><td>0.86594826</td><td>0.8760957</td><td>0.88979167</td><td>0.9064551</td><td>0.99381876</td><td>25.967777</td><td>25.997805</td><td>25.343342</td><td>24.341585</td><td>24.093966</td><td>23.965687</td><td>1.13567</td><td>0.23984</td><td>0.1246</td><td>0.0715</td><td>0.10209</td><td>0.20803</td><td>0</td><td>0</td><td>-9.0</td><td>-9.0</td><td>-9.0</td><td>-9.0</td><td>-999.0</td><td>-999.0</td><td>-9.0</td><td>-9.0</td><td>-9999.0</td><td>-9999.0</td><td>-9999.0</td><td>-9999.0</td><td>-9999.0</td><td>-9999.0</td><td>-9999.0</td><td>-9999.0</td><td>-9999.0</td><td>0</td><td>-9999.0</td><td>0</td><td>999.0</td><td>999.0</td><td>999.0</td><td>999.0</td><td>999.0</td><td>999.0</td><td>999.0</td><td>999.0</td><td>999.0</td><td>999.0</td><td>999.0</td><td>999.0</td><td>-9.0</td><td>-9.0</td><td>-9.0</td><td>-9.0</td><td>-9.0</td><td>-9.0</td><td>-9.0</td><td>-9.0</td><td>-9.0</td><td>-9.0</td><td>-9.0</td><td>0.0</td><td>0.0</td><td>0.0</td><td>0.0</td><td>0.0</td><td>0.0</td><td>62557.16</td><td>1000000.0</td><td>1000000.0</td><td>1000000.0</td><td>-9</td><td>SALT3.P22-NIR</td><td>6</td><td>10</td><td>10</td><td>UNKNOWN</td><td>0</td><td>49752</td><td>1</td><td>0</td><td>3</td><td>1.0408934</td><td>1.0432407</td><td>1.0032</td><td>1</td><td>0.0</td><td>10438842811</td><td>8.6048</td><td>0.5283</td><td>44.191803</td><td>0.0</td><td>149.765625</td><td>4.331149101257324</td><td>0.028422894</td><td>62561.715</td><td>-9.0</td><td>-0.2683139</td><td>-9.0</td><td>-9.0</td><td>2.9191713e-06</td><td>0.43586427</td><td>-0.094815925</td><td>24.471851</td><td>0.14</td><td>3.1</td><td>0.0</td><td>-9.0</td><td>-9.0</td><td>24.775251</td><td>23.809206</td><td>23.581179</td><td>23.74669</td><td>1.0</td><td>1.0</td><td>1.0</td><td>1.0</td><td>1.0</td><td>1.0</td><td>-9.0</td><td>-9.0</td><td>-9.0</td><td>-9.0</td><td>-9.0</td><td>-9.0</td><td>-9</td></tr>\n",
       "<tr><td>19996</td><td>NULL</td><td>2</td><td>151.875</td><td>3.134927</td><td>151.87499773775997</td><td>151.8749999663992</td><td>151.8750003996603</td><td>151.8750000809287</td><td>151.87500031771035</td><td>151.87500009676717</td><td>3.1349352138946385</td><td>3.1349266632763966</td><td>3.1349254892418124</td><td>3.1349260676864947</td><td>3.1349260998394457</td><td>3.134926609503252</td><td>0.2</td><td>-9</td><td>-9</td><td>10</td><td>33</td><td>1296492</td><td>1296524</td><td>0.022209205</td><td>0.0035534727</td><td>0.2533023</td><td>0.0</td><td>0.2547663</td><td>0.0</td><td>0.0</td><td>0.0</td><td>1</td><td>1</td><td>8000191387</td><td>0</td><td>0.3594223</td><td>0.35812</td><td>0.2533023</td><td>0.0</td><td>151.87507144754585</td><td>3.1348803197434045</td><td>0.30692792</td><td>0.34123927</td><td>-99.0</td><td>10.5303</td><td>-9999.0</td><td>-9999.0</td><td>-9999.0</td><td>-9999.0</td><td>-9999.0</td><td>-9999.0</td><td>-9999.0</td><td>0.5639</td><td>-9</td><td>30.9462</td><td>-9</td><td>0.05611852</td><td>0.19188654</td><td>0.28287435</td><td>0.31349173</td><td>0.33611807</td><td>0.35997072</td><td>0.39074895</td><td>0.4601759</td><td>0.55586785</td><td>0.6195754</td><td>0.81420606</td><td>23.267183</td><td>21.94253</td><td>20.663977</td><td>20.153137</td><td>19.921568</td><td>19.733114</td><td>0.10273</td><td>0.0175</td><td>0.01597</td><td>0.01523</td><td>0.01628</td><td>0.01678</td><td>0</td><td>0</td><td>-9.0</td><td>-9.0</td><td>-9.0</td><td>-9.0</td><td>-999.0</td><td>-999.0</td><td>-9.0</td><td>-9.0</td><td>-9999.0</td><td>-9999.0</td><td>-9999.0</td><td>-9999.0</td><td>-9999.0</td><td>-9999.0</td><td>-9999.0</td><td>-9999.0</td><td>-9999.0</td><td>0</td><td>-9999.0</td><td>0</td><td>999.0</td><td>999.0</td><td>999.0</td><td>999.0</td><td>999.0</td><td>999.0</td><td>999.0</td><td>999.0</td><td>999.0</td><td>999.0</td><td>999.0</td><td>999.0</td><td>-9.0</td><td>-9.0</td><td>-9.0</td><td>-9.0</td><td>-9.0</td><td>-9.0</td><td>-9.0</td><td>-9.0</td><td>-9.0</td><td>-9.0</td><td>-9.0</td><td>0.0</td><td>0.0</td><td>0.0</td><td>0.0</td><td>0.0</td><td>0.0</td><td>62536.312</td><td>1000000.0</td><td>1000000.0</td><td>1000000.0</td><td>-9</td><td>SALT3.P22-NIR</td><td>6</td><td>10</td><td>10</td><td>UNKNOWN</td><td>0</td><td>647</td><td>1</td><td>0</td><td>3</td><td>0.2533023</td><td>0.2547663</td><td>0.252</td><td>1</td><td>0.0</td><td>8000191387</td><td>10.5303</td><td>-0.1769</td><td>40.540215</td><td>0.0</td><td>151.875</td><td>3.1349270343780518</td><td>0.019573666</td><td>62528.77</td><td>-9.0</td><td>-0.13829637</td><td>-9.0</td><td>-9.0</td><td>6.5633365e-05</td><td>0.079947114</td><td>-0.023172168</td><td>21.092188</td><td>0.14</td><td>3.1</td><td>0.0</td><td>22.756989</td><td>21.186035</td><td>20.996927</td><td>21.02607</td><td>21.446178</td><td>21.810625</td><td>1.0</td><td>1.0</td><td>1.0</td><td>1.0</td><td>1.0</td><td>1.0</td><td>-9.0</td><td>-9.0</td><td>-9.0</td><td>-9.0</td><td>-9.0</td><td>-9.0</td><td>-9</td></tr>\n",
       "<tr><td>19997</td><td>NULL</td><td>2</td><td>37.441406</td><td>-3.882372</td><td>0.0</td><td>37.441394437285034</td><td>37.441407399380374</td><td>37.44140793258247</td><td>0.0</td><td>0.0</td><td>0.0</td><td>-3.8823616773687055</td><td>-3.882373102014831</td><td>-3.8823736265400424</td><td>0.0</td><td>0.0</td><td>0.2</td><td>-9</td><td>-9</td><td>10</td><td>5</td><td>1296526</td><td>1296530</td><td>0.026995426</td><td>0.0043192683</td><td>0.31949148</td><td>0.0</td><td>0.31845856</td><td>0.0</td><td>0.0</td><td>0.0</td><td>1</td><td>1</td><td>10562649832</td><td>0</td><td>0.33884147</td><td>0.32435</td><td>0.31949148</td><td>0.0</td><td>37.44137879418523</td><td>-3.8822634942890595</td><td>0.40265137</td><td>1.020167</td><td>-99.0</td><td>9.047</td><td>-9999.0</td><td>-9999.0</td><td>-9999.0</td><td>-9999.0</td><td>-9999.0</td><td>-9999.0</td><td>-9999.0</td><td>0.2197</td><td>-9</td><td>11.0842</td><td>-9</td><td>0.0863046</td><td>0.20720856</td><td>0.23377348</td><td>0.2659426</td><td>0.2982898</td><td>0.33976084</td><td>0.38144138</td><td>0.43805948</td><td>0.7568805</td><td>0.87228507</td><td>1.9018228</td><td>24.588295</td><td>23.521133</td><td>22.73226</td><td>22.38342</td><td>22.077093</td><td>21.88215</td><td>0.32075</td><td>0.02828</td><td>0.01984</td><td>0.0195</td><td>0.02229</td><td>0.03445</td><td>0</td><td>0</td><td>-9.0</td><td>-9.0</td><td>-9.0</td><td>-9.0</td><td>-999.0</td><td>-999.0</td><td>-9.0</td><td>-9.0</td><td>-9999.0</td><td>-9999.0</td><td>-9999.0</td><td>-9999.0</td><td>-9999.0</td><td>-9999.0</td><td>-9999.0</td><td>-9999.0</td><td>-9999.0</td><td>0</td><td>-9999.0</td><td>0</td><td>999.0</td><td>999.0</td><td>999.0</td><td>999.0</td><td>999.0</td><td>999.0</td><td>999.0</td><td>999.0</td><td>999.0</td><td>999.0</td><td>999.0</td><td>999.0</td><td>-9.0</td><td>-9.0</td><td>-9.0</td><td>-9.0</td><td>-9.0</td><td>-9.0</td><td>-9.0</td><td>-9.0</td><td>-9.0</td><td>-9.0</td><td>-9.0</td><td>0.0</td><td>0.0</td><td>0.0</td><td>0.0</td><td>0.0</td><td>0.0</td><td>61793.08</td><td>1000000.0</td><td>1000000.0</td><td>1000000.0</td><td>-9</td><td>SALT3.P22-NIR</td><td>6</td><td>10</td><td>10</td><td>UNKNOWN</td><td>0</td><td>771</td><td>1</td><td>0</td><td>3</td><td>0.31949148</td><td>0.31845856</td><td>0.305</td><td>1</td><td>0.0</td><td>10562649832</td><td>9.047</td><td>0.0185</td><td>41.099617</td><td>0.0</td><td>37.44140625</td><td>-3.8823719024658203</td><td>0.03205711</td><td>61813.562</td><td>-9.0</td><td>-0.040626235</td><td>-9.0</td><td>-9.0</td><td>2.2828757e-05</td><td>-0.5204315</td><td>0.13913438</td><td>22.238794</td><td>0.14</td><td>3.1</td><td>0.0</td><td>25.759758</td><td>22.740534</td><td>22.156242</td><td>22.085886</td><td>22.130554</td><td>-9.0</td><td>1.0</td><td>1.0</td><td>1.0</td><td>1.0</td><td>1.0</td><td>1.0</td><td>-9.0</td><td>-9.0</td><td>-9.0</td><td>-9.0</td><td>-9.0</td><td>-9.0</td><td>-9</td></tr>\n",
       "<tr><td>19998</td><td>NULL</td><td>2</td><td>64.140274</td><td>-48.727589</td><td>0.0</td><td>0.0</td><td>64.14027349758479</td><td>64.14027390156332</td><td>64.14027390687428</td><td>64.14027403392863</td><td>0.0</td><td>0.0</td><td>-48.727590587093694</td><td>-48.72758856575016</td><td>-48.72758907898429</td><td>-48.727588946118395</td><td>0.2</td><td>-9</td><td>-9</td><td>10</td><td>114</td><td>1296532</td><td>1296645</td><td>0.013692474</td><td>0.0021907957</td><td>0.71716654</td><td>0.0</td><td>0.71702814</td><td>0.0</td><td>0.0</td><td>0.0</td><td>1</td><td>1</td><td>8751544541</td><td>0</td><td>0.8489666</td><td>0.8579</td><td>0.71716654</td><td>0.0</td><td>64.14029326232234</td><td>-48.727603988276734</td><td>0.070759244</td><td>0.3040142</td><td>-99.0</td><td>10.1967</td><td>-9999.0</td><td>-9999.0</td><td>-9999.0</td><td>-9999.0</td><td>-9999.0</td><td>-9999.0</td><td>-9999.0</td><td>0.1741</td><td>-9</td><td>3.9658</td><td>-9</td><td>0.7488025</td><td>0.8127855</td><td>0.8229983</td><td>0.83321106</td><td>0.840599</td><td>0.847345</td><td>0.8540811</td><td>0.86187404</td><td>0.8715831</td><td>0.881302</td><td>0.92445445</td><td>23.338547</td><td>23.124508</td><td>22.63048</td><td>21.727808</td><td>21.457775</td><td>21.413595</td><td>0.10956</td><td>0.02587</td><td>0.01985</td><td>0.01761</td><td>0.01919</td><td>0.02812</td><td>0</td><td>0</td><td>-9.0</td><td>-9.0</td><td>-9.0</td><td>-9.0</td><td>-999.0</td><td>-999.0</td><td>-9.0</td><td>-9.0</td><td>-9999.0</td><td>-9999.0</td><td>-9999.0</td><td>-9999.0</td><td>-9999.0</td><td>-9999.0</td><td>-9999.0</td><td>-9999.0</td><td>-9999.0</td><td>0</td><td>-9999.0</td><td>0</td><td>999.0</td><td>999.0</td><td>999.0</td><td>999.0</td><td>999.0</td><td>999.0</td><td>999.0</td><td>999.0</td><td>999.0</td><td>999.0</td><td>999.0</td><td>999.0</td><td>-9.0</td><td>-9.0</td><td>-9.0</td><td>-9.0</td><td>-9.0</td><td>-9.0</td><td>-9.0</td><td>-9.0</td><td>-9.0</td><td>-9.0</td><td>-9.0</td><td>0.0</td><td>0.0</td><td>0.0</td><td>0.0</td><td>0.0</td><td>0.0</td><td>63193.207</td><td>1000000.0</td><td>1000000.0</td><td>1000000.0</td><td>-9</td><td>SALT3.P22-NIR</td><td>6</td><td>10</td><td>10</td><td>UNKNOWN</td><td>0</td><td>829</td><td>1</td><td>0</td><td>3</td><td>0.71716654</td><td>0.71702814</td><td>0.7261</td><td>1</td><td>-0.0</td><td>8751544541</td><td>10.1967</td><td>0.2302</td><td>43.195904</td><td>0.0</td><td>64.14027404785156</td><td>-48.72758865356445</td><td>0.0131104775</td><td>63204.535</td><td>-9.0</td><td>0.17904453</td><td>-9.0</td><td>-9.0</td><td>6.7475667e-06</td><td>1.0618615</td><td>-0.03874606</td><td>23.562132</td><td>0.14</td><td>3.1</td><td>0.0</td><td>-9.0</td><td>-9.0</td><td>23.73257</td><td>23.289816</td><td>23.486248</td><td>23.387108</td><td>1.0</td><td>1.0</td><td>1.0</td><td>1.0</td><td>1.0</td><td>1.0</td><td>-9.0</td><td>-9.0</td><td>-9.0</td><td>-9.0</td><td>-9.0</td><td>-9.0</td><td>-9</td></tr>\n",
       "<tr><td>19999</td><td>NULL</td><td>2</td><td>149.238281</td><td>1.492246</td><td>149.23827744166647</td><td>149.23828107536426</td><td>149.23828069847355</td><td>149.23828097493762</td><td>149.23828101417</td><td>149.23828099001094</td><td>1.4922579358054295</td><td>1.4922489603276077</td><td>1.4922442859745344</td><td>1.492244972458883</td><td>1.4922451204151028</td><td>1.4922458870383546</td><td>0.2</td><td>-9</td><td>-9</td><td>10</td><td>92</td><td>1296647</td><td>1296738</td><td>0.020555519</td><td>0.003288883</td><td>0.2794891</td><td>0.0</td><td>0.28096932</td><td>0.0</td><td>0.0</td><td>0.0</td><td>1</td><td>1</td><td>9687515927</td><td>0</td><td>0.1669391</td><td>0.15605</td><td>0.2794891</td><td>0.0</td><td>149.23837402230438</td><td>1.4921756752335311</td><td>0.41972166</td><td>0.48171702</td><td>-99.0</td><td>9.6119</td><td>-9999.0</td><td>-9999.0</td><td>-9999.0</td><td>-9999.0</td><td>-9999.0</td><td>-9999.0</td><td>-9999.0</td><td>0.1768</td><td>-9</td><td>14.9096</td><td>-9</td><td>0.0414135</td><td>0.10003754</td><td>0.123127125</td><td>0.13816293</td><td>0.15034765</td><td>0.1623763</td><td>0.17485237</td><td>0.19026278</td><td>0.20692183</td><td>0.23293534</td><td>0.4308981</td><td>22.1004</td><td>20.846869</td><td>20.060051</td><td>19.673025</td><td>19.37008</td><td>19.09683</td><td>0.03713</td><td>0.01592</td><td>0.01574</td><td>0.01615</td><td>0.01608</td><td>0.01589</td><td>0</td><td>0</td><td>-9.0</td><td>-9.0</td><td>-9.0</td><td>-9.0</td><td>-999.0</td><td>-999.0</td><td>-9.0</td><td>-9.0</td><td>-9999.0</td><td>-9999.0</td><td>-9999.0</td><td>-9999.0</td><td>-9999.0</td><td>-9999.0</td><td>-9999.0</td><td>-9999.0</td><td>-9999.0</td><td>0</td><td>-9999.0</td><td>0</td><td>999.0</td><td>999.0</td><td>999.0</td><td>999.0</td><td>999.0</td><td>999.0</td><td>999.0</td><td>999.0</td><td>999.0</td><td>999.0</td><td>999.0</td><td>999.0</td><td>-9.0</td><td>-9.0</td><td>-9.0</td><td>-9.0</td><td>-9.0</td><td>-9.0</td><td>-9.0</td><td>-9.0</td><td>-9.0</td><td>-9.0</td><td>-9.0</td><td>0.0</td><td>0.0</td><td>0.0</td><td>0.0</td><td>0.0</td><td>0.0</td><td>61873.22</td><td>1000000.0</td><td>1000000.0</td><td>1000000.0</td><td>-9</td><td>SALT3.P22-NIR</td><td>6</td><td>10</td><td>10</td><td>UNKNOWN</td><td>0</td><td>1273</td><td>1</td><td>0</td><td>3</td><td>0.2794891</td><td>0.28096932</td><td>0.2686</td><td>1</td><td>-0.0</td><td>9687515927</td><td>9.6119</td><td>-0.1922</td><td>40.782593</td><td>0.0</td><td>149.23828125</td><td>1.4922460317611694</td><td>0.017888747</td><td>61871.637</td><td>-9.0</td><td>0.18667576</td><td>-9.0</td><td>-9.0</td><td>3.8035585e-05</td><td>0.40501514</td><td>0.10439812</td><td>21.684525</td><td>0.14</td><td>3.1</td><td>0.0</td><td>24.485098</td><td>22.206573</td><td>21.827438</td><td>21.764175</td><td>22.040844</td><td>22.45833</td><td>1.0</td><td>1.0</td><td>1.0</td><td>1.0</td><td>1.0</td><td>1.0</td><td>-9.0</td><td>-9.0</td><td>-9.0</td><td>-9.0</td><td>-9.0</td><td>-9.0</td><td>-9</td></tr>\n",
       "<tr><td>20000</td><td>NULL</td><td>2</td><td>55.019531</td><td>-28.29155</td><td>0.0</td><td>0.0</td><td>55.019531892057245</td><td>55.01953112508515</td><td>55.01953106328065</td><td>55.019530893270584</td><td>0.0</td><td>0.0</td><td>-28.291549800994066</td><td>-28.291549960335846</td><td>-28.291550021838955</td><td>-28.29155002428683</td><td>0.2</td><td>-9</td><td>-9</td><td>10</td><td>93</td><td>1296740</td><td>1296832</td><td>0.010743946</td><td>0.0017190314</td><td>1.0249755</td><td>0.0</td><td>1.0242684</td><td>0.0</td><td>0.0</td><td>0.0</td><td>0</td><td>0</td><td>0</td><td>0</td><td>-9.0</td><td>-9.0</td><td>-9.0</td><td>-9.0</td><td>-999.0</td><td>-999.0</td><td>-9.0</td><td>-9.0</td><td>-99.0</td><td>-9.0</td><td>-9.0</td><td>-9999.0</td><td>-9999.0</td><td>-9999.0</td><td>-9999.0</td><td>-9999.0</td><td>-9999.0</td><td>-9999.0</td><td>0</td><td>-9999.0</td><td>0</td><td>-9.0</td><td>-9.0</td><td>-9.0</td><td>-9.0</td><td>-9.0</td><td>-9.0</td><td>-9.0</td><td>-9.0</td><td>-9.0</td><td>-9.0</td><td>-9.0</td><td>999.0</td><td>999.0</td><td>999.0</td><td>999.0</td><td>999.0</td><td>999.0</td><td>999.0</td><td>999.0</td><td>999.0</td><td>999.0</td><td>999.0</td><td>999.0</td><td>0</td><td>0</td><td>-9.0</td><td>-9.0</td><td>-9.0</td><td>-9.0</td><td>-999.0</td><td>-999.0</td><td>-9.0</td><td>-9.0</td><td>-9999.0</td><td>-9999.0</td><td>-9999.0</td><td>-9999.0</td><td>-9999.0</td><td>-9999.0</td><td>-9999.0</td><td>-9999.0</td><td>-9999.0</td><td>0</td><td>-9999.0</td><td>0</td><td>999.0</td><td>999.0</td><td>999.0</td><td>999.0</td><td>999.0</td><td>999.0</td><td>999.0</td><td>999.0</td><td>999.0</td><td>999.0</td><td>999.0</td><td>999.0</td><td>-9.0</td><td>-9.0</td><td>-9.0</td><td>-9.0</td><td>-9.0</td><td>-9.0</td><td>-9.0</td><td>-9.0</td><td>-9.0</td><td>-9.0</td><td>-9.0</td><td>0.0</td><td>0.0</td><td>0.0</td><td>0.0</td><td>0.0</td><td>0.0</td><td>63946.094</td><td>1000000.0</td><td>1000000.0</td><td>1000000.0</td><td>-9</td><td>SALT3.P22-NIR</td><td>6</td><td>10</td><td>10</td><td>UNKNOWN</td><td>0</td><td>1289</td><td>1</td><td>0</td><td>3</td><td>1.0249755</td><td>1.0242684</td><td>0.9873</td><td>1</td><td>0.0</td><td>10314024425</td><td>10.5447</td><td>0.1542</td><td>44.145996</td><td>0.0</td><td>55.01953125</td><td>-28.291549682617188</td><td>0.0070483913</td><td>63952.39</td><td>-9.0</td><td>0.14855143</td><td>-9.0</td><td>-9.0</td><td>2.660301e-06</td><td>0.5094819</td><td>-0.044192657</td><td>24.572674</td><td>0.14</td><td>3.1</td><td>0.0</td><td>-9.0</td><td>-9.0</td><td>25.475904</td><td>24.353884</td><td>24.081806</td><td>24.247488</td><td>1.0</td><td>1.0</td><td>1.0</td><td>1.0</td><td>1.0</td><td>1.0</td><td>-9.0</td><td>-9.0</td><td>-9.0</td><td>-9.0</td><td>-9.0</td><td>-9.0</td><td>-9</td></tr>\n",
       "</table></div>"
      ],
      "text/plain": [
       "<Table length=20000>\n",
       "      SNID             IAUC        FAKE ... SIM_GALFRAC_Y SIM_SUBSAMPLE_INDEX\n",
       "    bytes16          bytes16      int16 ...    float32           int16       \n",
       "---------------- ---------------- ----- ... ------------- -------------------\n",
       "1                NULL                 2 ...          -9.0                  -9\n",
       "2                NULL                 2 ...          -9.0                  -9\n",
       "3                NULL                 2 ...          -9.0                  -9\n",
       "4                NULL                 2 ...          -9.0                  -9\n",
       "5                NULL                 2 ...          -9.0                  -9\n",
       "6                NULL                 2 ...          -9.0                  -9\n",
       "7                NULL                 2 ...          -9.0                  -9\n",
       "8                NULL                 2 ...          -9.0                  -9\n",
       "9                NULL                 2 ...          -9.0                  -9\n",
       "10               NULL                 2 ...          -9.0                  -9\n",
       "             ...              ...   ... ...           ...                 ...\n",
       "19991            NULL                 2 ...          -9.0                  -9\n",
       "19992            NULL                 2 ...          -9.0                  -9\n",
       "19993            NULL                 2 ...          -9.0                  -9\n",
       "19994            NULL                 2 ...          -9.0                  -9\n",
       "19995            NULL                 2 ...          -9.0                  -9\n",
       "19996            NULL                 2 ...          -9.0                  -9\n",
       "19997            NULL                 2 ...          -9.0                  -9\n",
       "19998            NULL                 2 ...          -9.0                  -9\n",
       "19999            NULL                 2 ...          -9.0                  -9\n",
       "20000            NULL                 2 ...          -9.0                  -9"
      ]
     },
     "execution_count": 8,
     "metadata": {},
     "output_type": "execute_result"
    }
   ],
   "source": [
    "t_head"
   ]
  },
  {
   "cell_type": "code",
   "execution_count": 8,
   "id": "0f3b657b-a401-400e-bff3-d64662cb2e94",
   "metadata": {
    "tags": []
   },
   "outputs": [
    {
     "data": {
      "image/png": "[encoded data removed]",
      "text/plain": [
       "<Figure size 792x648 with 4 Axes>"
      ]
     },
     "metadata": {
      "needs_background": "light"
     },
     "output_type": "display_data"
    }
   ],
   "source": [
    "z_range = np.arange(0.01, 1.22, 0.02)\n",
    "x1_vals, x1_vals_bins = np.arange(-3.0, 2.5, 0.5), np.arange(-3.0, 3.0, 0.5) - 0.5/2\n",
    "c_vals, c_vals_bins = np.arange(-0.3, 0.55, 0.05), np.arange(-0.3, 0.60, 0.05) - 0.05/2\n",
    "\n",
    "plt.subplots(2, 2, figsize = [11, 9])\n",
    "\n",
    "plt.subplot(2, 2, 1)\n",
    "plt.hist(t_head['REDSHIFT_FINAL'], bins = z_range);\n",
    "plt.xlabel('Redshift (z)')\n",
    "\n",
    "plt.subplot(2, 2, 2)\n",
    "plt.hist(t_DCR['AIRMASS'].values, density = True, bins = np.arange(1.0, 2.5, 0.05))\n",
    "plt.xlabel('Air Mass (AM)')\n",
    "\n",
    "plt.subplot(2, 2, 3)\n",
    "plt.hist(t_head['SIM_SALT2c'], bins = c_vals)\n",
    "plt.xlabel('color (c)')\n",
    "\n",
    "plt.subplot(2, 2, 4)\n",
    "plt.hist(t_head['SIM_SALT2x1'], bins = x1_vals)\n",
    "plt.xlabel('stretch (x1)')\n",
    "\n",
    "\n",
    "plt.tight_layout()"
   ]
  },
  {
   "cell_type": "code",
   "execution_count": 9,
   "id": "10318cbf-0353-41f6-a2e0-9b0d41a640d9",
   "metadata": {
    "tags": []
   },
   "outputs": [],
   "source": [
    "c_prior = np.histogram(t_head['SIM_SALT2c'], bins = c_vals_bins, density = True)[0]\n",
    "x1_prior = np.histogram(t_head['SIM_SALT2x1'], bins = x1_vals_bins, density = True)[0]"
   ]
  },
  {
   "cell_type": "code",
   "execution_count": 10,
   "id": "cd6c1dca-f4b0-406f-975b-a44127cd671d",
   "metadata": {},
   "outputs": [],
   "source": [
    "#DCR properties: CID, MJD, BAND, LAMAVG_SED_WGTED, SNR, PSF_FWHM, TOBS, AIRMASS, SIM_DCR are important\n"
   ]
  },
  {
   "cell_type": "code",
   "execution_count": 11,
   "id": "b411479d-514e-49e3-991b-b10aa4867fbf",
   "metadata": {
    "tags": []
   },
   "outputs": [],
   "source": [
    "z_range, z_bin_CIDs = np.linspace(0.00, 1.2, num = 13), []\n",
    "for i in range(len(z_range)-1):\n",
    "    z_bin_inds = np.where((t_head['REDSHIFT_FINAL'] > z_range[i]) & (t_head['REDSHIFT_FINAL'] < z_range[i+1]) )[0]\n",
    "    z_bin_CIDs.append(t_head['SNID'][z_bin_inds].astype(int).value)"
   ]
  },
  {
   "cell_type": "code",
   "execution_count": 12,
   "id": "9799c6a9-b9a9-493f-8755-794ebf1dbc12",
   "metadata": {
    "tags": []
   },
   "outputs": [],
   "source": [
    "where_bands = []\n",
    "\n",
    "for b in range(len(LSST_bands)):\n",
    "    where_bands.append(np.where(t_DCR['BAND'] == LSST_bands[b])[0])"
   ]
  },
  {
   "cell_type": "code",
   "execution_count": 13,
   "id": "86e250c5-6f35-4104-ab82-3fecbb05e45c",
   "metadata": {
    "tags": []
   },
   "outputs": [],
   "source": [
    "t_DCR_inds_CID = np.load('DCR_AstroZ/' + dir_str + 't_DCR_inds_CID.npy', allow_pickle=True)\n",
    "t_DCR_inds_band_CID = np.load('DCR_AstroZ/' + dir_str + 't_DCR_inds_band_CID.npy', allow_pickle=True)"
   ]
  },
  {
   "cell_type": "code",
   "execution_count": 14,
   "id": "139b7cca-a6f1-4e7f-a6f5-6a7762e37833",
   "metadata": {
    "tags": []
   },
   "outputs": [
    {
     "data": {
      "image/png": "[encoded data removed]",
      "text/plain": [
       "<Figure size 432x288 with 1 Axes>"
      ]
     },
     "metadata": {
      "needs_background": "light"
     },
     "output_type": "display_data"
    }
   ],
   "source": [
    "def flatten_comprehension(matrix):\n",
    "    return [item for row in matrix for item in row]\n",
    "\n",
    "TOBS_real = []\n",
    "\n",
    "for i in range(len(t_head)):\n",
    "    TOBS_real.append(t_DCR['MJD'].values[t_DCR_inds_CID[i]] - t_head['PEAKMJD'][i])\n",
    "    \n",
    "tobs_obs = np.array(flatten_comprehension(TOBS_real))\n",
    "\n",
    "plt.plot(tobs_obs, t_DCR['TOBS'], '.', alpha = 0.01)\n",
    "plt.plot(np.arange(-40, 100), np.arange(-40, 100))\n",
    "plt.xlabel('From PEAKMJD')\n",
    "plt.ylabel('TRUE TOBS')\n",
    "\n",
    "plt.xlim(-40, 100)\n",
    "plt.ylim(-40, 100)\n",
    "\n",
    "#tobs_obs = np.loadtxt('/pscratch/sd/a/astjason/DCR_AstroZ/' + dir_str + 'TOBS_obs.txt')\n",
    "\n",
    "where_epoch_condition = []\n",
    "for h in range(len(t_head)):\n",
    "    if TOBS_real[h].min() >= -3/2.2 or TOBS_real[h].max() <= 10/2.2:\n",
    "        pass\n",
    "    else:\n",
    "        where_epoch_condition.append(h)\n",
    "        "
   ]
  },
  {
   "cell_type": "code",
   "execution_count": 15,
   "id": "d2b9e2be-e9f2-48a2-95c9-748ec37f2546",
   "metadata": {
    "tags": []
   },
   "outputs": [],
   "source": [
    "z_true = t_head['REDSHIFT_FINAL']"
   ]
  },
  {
   "cell_type": "code",
   "execution_count": 16,
   "id": "eafa49ad-570e-438f-bf1a-64f4d235173b",
   "metadata": {
    "tags": []
   },
   "outputs": [],
   "source": [
    "t_DCR = pd.read_csv('DCR_AstroZ/' + dir_str + dir_str[:-1] + '_with_band_obs.csv')\n",
    "AM_range = np.arange(1.00, 3.00, 0.01)"
   ]
  },
  {
   "cell_type": "code",
   "execution_count": 17,
   "id": "95064efb-9d9d-496e-8018-9b2e5ad20078",
   "metadata": {
    "tags": []
   },
   "outputs": [
    {
     "name": "stdout",
     "output_type": "stream",
     "text": [
      "0.00041675567626953125 0\n",
      "0.6112618446350098 5000\n",
      "1.1498851776123047 10000\n",
      "1.703920841217041 15000\n"
     ]
    }
   ],
   "source": [
    "#Run only the first time\n",
    "\n",
    "t_st = time.time()\n",
    "\n",
    "SNRs_all = [] #np.zeros([len(t_heads[0]), len(DES_bands)])\n",
    "no_obs_all = np.zeros([len(t_head), len(LSST_bands)])\n",
    "AMs_all = []\n",
    "\n",
    "for head_ind in range(len(t_head)): #range(len(t_heads[0])): #range(20):\n",
    "    SNID_sim = int(t_head[head_ind]['SNID'])\n",
    "    t_DCR_band_inds_used = t_DCR_inds_band_CID[len(LSST_bands)*head_ind:len(LSST_bands)*(head_ind+1)] #[]\n",
    "    \n",
    "    if head_ind % 5000 == 0:\n",
    "        print(time.time() - t_st, head_ind)\n",
    "    \n",
    "    #For one SN candidate\n",
    "    SNRs_band, AMs_band = [], []\n",
    "    for i in range(len(LSST_bands)):\n",
    "        AM_inds = find_nearest(AM_range, t_DCR['AIRMASS'].values[t_DCR_band_inds_used[i]])[0]\n",
    "        SNRs_band.append(t_DCR['SNR'].values[t_DCR_band_inds_used[i]])\n",
    "        no_obs_all[head_ind][i] = len(SNRs_band[i])\n",
    "        AMs_band.append(t_DCR['AIRMASS'].values[t_DCR_band_inds_used[i]])\n",
    "    SNRs_all.append(SNRs_band)\n",
    "    AMs_all.append(AMs_band)"
   ]
  },
  {
   "cell_type": "code",
   "execution_count": 18,
   "id": "53da7409-b5a9-49bc-899a-bb373ad71a96",
   "metadata": {
    "tags": []
   },
   "outputs": [
    {
     "name": "stderr",
     "output_type": "stream",
     "text": [
      "/global/homes/a/astjason/.conda/envs/SN_Ia/lib/python3.7/site-packages/numpy/lib/npyio.py:528: VisibleDeprecationWarning: Creating an ndarray from ragged nested sequences (which is a list-or-tuple of lists-or-tuples-or ndarrays with different lengths or shapes) is deprecated. If you meant to do this, you must specify 'dtype=object' when creating the ndarray.\n",
      "  arr = np.asanyarray(arr)\n"
     ]
    }
   ],
   "source": [
    "np.savetxt('DCR_AstroZ/' + dir_str + dir_str[:-1] + '_no_obs_all.txt', no_obs_all)\n",
    "np.save('DCR_AstroZ/' + dir_str + dir_str[:-1] + '_SNRs_all.npy', SNRs_all)\n",
    "np.save('DCR_AstroZ/' + dir_str + dir_str[:-1] + '_AMs_all.npy', AMs_all)\n",
    "\n",
    "#no_obs_all = np.loadtxt('DCR_AstroZ/' + dir_str + dir_str[:-1] + '_no_obs_all.txt')\n",
    "#SNRs_all = np.load('DCR_AstroZ/' + dir_str + dir_str[:-1] + '_SNRs_all.npy', allow_pickle=True)\n",
    "#AMs_all = np.load('DCR_AstroZ/' + dir_str + dir_str[:-1] + '_AMs_all.npy', allow_pickle=True)"
   ]
  },
  {
   "cell_type": "code",
   "execution_count": 19,
   "id": "73913691-4301-4ccb-ab91-e690f6f22d67",
   "metadata": {
    "tags": []
   },
   "outputs": [
    {
     "data": {
      "text/plain": [
       "Text(0.5, 0, '# obs per SN Ia where epoch condition')"
      ]
     },
     "execution_count": 19,
     "metadata": {},
     "output_type": "execute_result"
    },
    {
     "data": {
      "image/png": "[encoded data removed]",
      "text/plain": [
       "<Figure size 864x360 with 2 Axes>"
      ]
     },
     "metadata": {
      "needs_background": "light"
     },
     "output_type": "display_data"
    }
   ],
   "source": [
    "plt.subplots(1, 2, figsize = [12, 5])\n",
    "\n",
    "plt.subplot(1, 2, 1)\n",
    "plt.hist(no_obs_all.transpose()[:-1].sum(axis = 0), bins = np.arange(60))\n",
    "plt.xlabel('# obs per SN Ia')\n",
    "\n",
    "plt.subplot(1, 2, 2)\n",
    "plt.hist(no_obs_all[where_epoch_condition].transpose()[:-1].sum(axis = 0), bins = np.arange(60))\n",
    "plt.xlabel('# obs per SN Ia where epoch condition')\n"
   ]
  },
  {
   "cell_type": "code",
   "execution_count": 20,
   "id": "9bb7a79c-470a-4a57-ba20-39bfb392f736",
   "metadata": {
    "tags": []
   },
   "outputs": [],
   "source": [
    "#For realistic sims only\n",
    "\n",
    "where_SNR_selection_cut = []\n",
    "\n",
    "SNR_cut_obs = 8\n",
    "\n",
    "for head_ind in range(len(t_head)):\n",
    "    for b in range(len(LSST_bands)):\n",
    "        if len(np.where(SNRs_all[head_ind][b] >= SNR_cut_obs)[0]) != 0:\n",
    "            where_SNR_selection_cut.append(head_ind)\n",
    "            \n",
    "where_SNR_stringent_cut = []\n",
    "for head_ind in range(len(t_head)):\n",
    "    if where_SNR_selection_cut.count(head_ind) >= 3:\n",
    "        where_SNR_stringent_cut.append(head_ind)\n",
    "        \n",
    "where_SNR_stringent_cut_array = np.array(where_SNR_stringent_cut)\n",
    "\n",
    "\n",
    "min_AM = 1.4\n",
    "where_AM_selection_cut = []\n",
    "for head_ind in range(len(t_head)):\n",
    "    for b in range(len(LSST_bands)):\n",
    "        if len(np.where(AMs_all[head_ind][b] > min_AM)[0]) != 0:\n",
    "            where_AM_selection_cut.append(head_ind)\n",
    "            \n",
    "where_AM_stringent_cut = []\n",
    "for head_ind in range(len(t_head)):\n",
    "    if where_AM_selection_cut.count(head_ind) >= 1:\n",
    "        where_AM_stringent_cut.append(head_ind)\n",
    "        \n",
    "where_AM_stringent_cut_array = np.array(where_AM_stringent_cut)\n",
    "\n"
   ]
  },
  {
   "cell_type": "code",
   "execution_count": 21,
   "id": "5f1c3c91-5929-4b70-af63-9f5e5a1d17e9",
   "metadata": {
    "tags": []
   },
   "outputs": [
    {
     "data": {
      "text/plain": [
       "8622"
      ]
     },
     "execution_count": 21,
     "metadata": {},
     "output_type": "execute_result"
    }
   ],
   "source": [
    "where_epoch_and_SNR = np.intersect1d(where_epoch_condition, where_SNR_stringent_cut)\n",
    "len(where_epoch_and_SNR)"
   ]
  },
  {
   "cell_type": "code",
   "execution_count": 22,
   "id": "02346bbb-b89f-4217-a26b-ba36988a174c",
   "metadata": {
    "tags": []
   },
   "outputs": [],
   "source": [
    "where_epoch_and_SNR_and_AM = np.intersect1d(where_epoch_and_SNR, where_AM_stringent_cut)"
   ]
  },
  {
   "cell_type": "code",
   "execution_count": 23,
   "id": "85261451-f9a9-4929-8b40-0d3c14b851f6",
   "metadata": {
    "tags": []
   },
   "outputs": [],
   "source": [
    "z_range = np.arange(0.00, 1.21, 0.01)"
   ]
  },
  {
   "cell_type": "code",
   "execution_count": 24,
   "id": "1b9c8615-960d-43f4-b3a0-79912a2caa55",
   "metadata": {
    "tags": []
   },
   "outputs": [],
   "source": [
    "#lcfit_CIDs = np.loadtxt(SIM_dir_str + 'lcfit_CIDs.txt')\n",
    "#tobs_lcfit = np.loadtxt(SIM_dir_str + 'lcfit_TOBS.txt')\n",
    "lcfit_CIDs_3iter = np.loadtxt(SIM_dir_str + 'lcfit_CIDs_v240111.txt')\n",
    "tobs_lcfit_3iter = np.loadtxt(SIM_dir_str + 'lcfit_TOBS_v240111.txt')\n"
   ]
  },
  {
   "cell_type": "code",
   "execution_count": 25,
   "id": "20ea9e1f-645f-4042-a02e-d2978d71466d",
   "metadata": {
    "tags": []
   },
   "outputs": [],
   "source": [
    "#Getting rid of SNe where predicted z = 0.01 because of all the NaNs\n",
    "def nan_helper(y):\n",
    "    \"\"\"Helper to handle indices and logical indices of NaNs.\n",
    "\n",
    "    Input:\n",
    "        - y, 1d numpy array with possible NaNs\n",
    "    Output:\n",
    "        - nans, logical indices of NaNs\n",
    "        - index, a function, with signature indices= index(logical_indices),\n",
    "          to convert logical indices of NaNs to 'equivalent' indices\n",
    "    Example:\n",
    "        >>> # linear interpolation of NaNs\n",
    "        >>> nans, x= nan_helper(y)\n",
    "        >>> y[nans]= np.interp(x(nans), x(~nans), y[~nans])\"\"\"\n",
    "    return np.isnan(y), lambda z: z.nonzero()[0]"
   ]
  },
  {
   "cell_type": "code",
   "execution_count": 26,
   "id": "936c11b5-4cfb-4f33-8360-5a28586cf264",
   "metadata": {
    "tags": []
   },
   "outputs": [],
   "source": [
    "def z_pred(chi2_all, z_range, host_photo_z, no_obs_all = no_obs_all, sig = 0.34135, zmin = 0.00, zmax = 1.2001, zprecision = 1e-4, no_quantiles = 11):\n",
    "    z_interp = np.arange(zmin, zmax, zprecision)\n",
    "    z_pred_CDF50, z_pred_peaks = np.zeros([len(chi2_all), 3]), np.zeros([len(chi2_all), 3]) #value, +- 1sigma\n",
    "    z_quantiles = np.zeros([len(chi2_all), no_quantiles])\n",
    "    total_post = np.zeros([len(chi2_all), len(z_range)])\n",
    "    for h in range(len(chi2_all)):\n",
    "        where_not_zero = np.where(no_obs_all[h][:-1] > 0)[0]\n",
    "        chi2_sum = chi2_all[h][where_not_zero].sum(axis = 0)\n",
    "        total_post[h] = trapz(trapz(np.exp(-chi2_sum/2)*c_prior, c_vals)*x1_prior, x1_vals)\n",
    "        nans, x= nan_helper(total_post[h])\n",
    "        if len(np.where(nans)[0]) != 0:\n",
    "            if len(np.where(nans)[0]) == len(z_range):\n",
    "                continue\n",
    "            total_post[h][nans]= np.interp(x(nans), x(~nans), total_post[h][~nans])\n",
    "        if total_post[h].mean() == 0:\n",
    "            total_post[h] = np.ones(len(z_range))\n",
    "        if host_photo_z[h].mean() == 0:\n",
    "            host_photo_z[h] = np.ones(len(z_range))\n",
    "        total_post[h] = total_post[h] * host_photo_z[h]\n",
    "        max_ind = np.argmax(total_post[h])\n",
    "        max_ind_z_interp = np.where(np.round(z_interp, 5) == np.round(z_range[max_ind], 2))[0]\n",
    "        cdf = interp1d(z_range, np.cumsum(total_post[h])/np.sum(total_post[h]), fill_value='extrapolate')\n",
    "        z_pred_CDF50[h] = z_interp[find_nearest(cdf(z_interp), [0.5, 0.5 - sig, 0.5 + sig])[0]]\n",
    "        z_pred_peaks[h] = z_interp[find_nearest(cdf(z_interp), [cdf(z_interp[max_ind_z_interp]), cdf(z_interp[max_ind_z_interp]) - sig, cdf(z_interp[max_ind_z_interp]) + sig])[0]]\n",
    "        z_quantiles[h] = z_interp[find_nearest(cdf(z_interp), np.linspace(0, 1, num = no_quantiles))[0]]\n",
    "    return z_pred_CDF50, z_pred_peaks, total_post, z_quantiles"
   ]
  },
  {
   "cell_type": "code",
   "execution_count": 27,
   "id": "b8295d4e-42fa-445b-b020-90847098810d",
   "metadata": {
    "tags": []
   },
   "outputs": [],
   "source": [
    "def z_pred_photoz(host_photo_z, z_range, sig = 0.34135, zmin = 0.00, zmax = 1.2001, zprecision = 1e-4):\n",
    "    z_interp = np.arange(zmin, zmax, zprecision)\n",
    "    z_pred_CDF50, z_pred_peaks = np.zeros([len(host_photo_z), 3]), np.zeros([len(host_photo_z), 3]) #value, +- 1sigma\n",
    "    for h in range(len(host_photo_z)):\n",
    "        if host_photo_z[h].mean() == 0:\n",
    "            host_photo_z[h] = np.ones(len(z_range))\n",
    "        max_ind = np.argmax(host_photo_z[h])\n",
    "        max_ind_z_interp = np.where(np.round(z_interp, 5) == np.round(z_range[max_ind], 2))[0]\n",
    "        cdf = interp1d(z_range, np.cumsum(host_photo_z[h])/np.sum(host_photo_z[h]), fill_value='extrapolate')\n",
    "        z_pred_CDF50[h] = z_interp[find_nearest(cdf(z_interp), [0.5, 0.5 - sig, 0.5 + sig])[0]]\n",
    "        z_pred_peaks[h] = z_interp[find_nearest(cdf(z_interp), [cdf(z_interp[max_ind_z_interp]), cdf(z_interp[max_ind_z_interp]) - sig, cdf(z_interp[max_ind_z_interp]) + sig])[0]]\n",
    "    return z_pred_CDF50, z_pred_peaks, host_photo_z"
   ]
  },
  {
   "cell_type": "code",
   "execution_count": 28,
   "id": "503cbc0f-76ae-41fe-a854-8fc397c89e26",
   "metadata": {
    "tags": []
   },
   "outputs": [],
   "source": [
    "def combine_pdfs(astro_z, host_photo_z, z_range, sig = 0.34135, zmin = 0.00, zmax = 1.2001, zprecision = 1e-4, no_quantiles = 11):\n",
    "    z_interp = np.arange(zmin, zmax, zprecision)\n",
    "    z_pred_CDF50, z_pred_peaks = np.zeros([len(astro_z), 3]), np.zeros([len(astro_z), 3]) #value, +- 1sigma\n",
    "    total_post, z_quantiles = np.zeros([len(astro_z), len(z_range)]), np.zeros([len(astro_z), no_quantiles])\n",
    "    for h in range(len(astro_z)):\n",
    "        nans, x= nan_helper(astro_z[h])\n",
    "        if len(np.where(nans)[0]) != 0:\n",
    "            if len(np.where(nans)[0]) == len(z_range):\n",
    "                continue\n",
    "            astro_z[h][nans]= np.interp(x(nans), x(~nans), total_post[h][~nans])\n",
    "        if astro_z[h].mean() == 0:\n",
    "            astro_z[h] = np.ones(len(z_range))\n",
    "        if host_photo_z[h].mean() == 0:\n",
    "            host_photo_z[h] = np.ones(len(z_range))\n",
    "        total_post[h] = astro_z[h] * host_photo_z[h]\n",
    "        max_ind = np.argmax(total_post[h])\n",
    "        max_ind_z_interp = np.where(np.round(z_interp, 5) == np.round(z_range[max_ind], 2))[0]\n",
    "        cdf = interp1d(z_range, np.cumsum(total_post[h])/np.sum(total_post[h]), fill_value='extrapolate')\n",
    "        z_pred_CDF50[h] = z_interp[find_nearest(cdf(z_interp), [0.5, 0.5 - sig, 0.5 + sig])[0]]\n",
    "        z_pred_peaks[h] = z_interp[find_nearest(cdf(z_interp), [cdf(z_interp[max_ind_z_interp]), cdf(z_interp[max_ind_z_interp]) - sig, cdf(z_interp[max_ind_z_interp]) + sig])[0]]\n",
    "        z_quantiles[h] = z_interp[find_nearest(cdf(z_interp), np.linspace(0, 1, num = no_quantiles))[0]]\n",
    "    return z_pred_CDF50, z_pred_peaks, total_post, z_quantiles"
   ]
  },
  {
   "cell_type": "code",
   "execution_count": 29,
   "id": "14ffba11-2924-465f-a002-d189a8aa5885",
   "metadata": {
    "tags": []
   },
   "outputs": [],
   "source": [
    "where_Y_not_zero_inds = np.loadtxt('DCR_AstroZ/' + dir_str + 'where_Y_not_zero_header_inds.txt').astype(int)\n",
    "\n",
    "def combine_wrt_zY(z_preds_z, z_preds_Y, where_Y_not_zero = where_Y_not_zero_inds):\n",
    "    z_CDF50, z_Peaks, z_PDFs, z_quantiles = z_preds_z\n",
    "    Y_CDF50, Y_Peaks, Y_PDFs, Y_quantiles = z_preds_Y\n",
    "    zY_CDF50, zY_Peaks, zY_PDFs, zY_quantiles = np.zeros(z_preds_z[0].shape), np.zeros(z_preds_z[1].shape), np.zeros(z_preds_z[2].shape), np.zeros(z_preds_z[3].shape)\n",
    "    zY_CDF50[:], zY_Peaks[:], zY_PDFs[:], zY_quantiles[:] = z_CDF50[:], z_Peaks[:], z_PDFs[:], z_quantiles[:]\n",
    "    zY_CDF50[where_Y_not_zero], zY_Peaks[where_Y_not_zero], zY_PDFs[where_Y_not_zero] = Y_CDF50[where_Y_not_zero], Y_Peaks[where_Y_not_zero], Y_PDFs[where_Y_not_zero]\n",
    "    zY_quantiles[where_Y_not_zero] = Y_quantiles[where_Y_not_zero]\n",
    "    return zY_CDF50, zY_Peaks, zY_PDFs, zY_quantiles\n"
   ]
  },
  {
   "cell_type": "code",
   "execution_count": null,
   "id": "4a464261-4035-47d2-933c-a419f509bdc5",
   "metadata": {},
   "outputs": [],
   "source": [
    "#Fmax-clump tobs\n",
    "\n",
    "chi2_z = np.zeros([len(t_head), len(LSST_bands[:-1]), len(z_range), len(x1_vals), len(c_vals)])\n",
    "chi2_z_wrt_Y = np.zeros([len(t_head), len(LSST_bands[:-1]), len(z_range), len(x1_vals), len(c_vals)])\n",
    "\n",
    "chunk_size = 800\n",
    "no_chi2_loops = int(len(t_head)/chunk_size)\n",
    "\n",
    "for i in range(no_chi2_loops):\n",
    "    chi2_z[chunk_size*i:chunk_size*(i+1)] = np.load('DCR_AstroZ/' + dir_str + 'chi2_z_wrt_z_%d_realistic_tobs.npy' %i)\n",
    "    chi2_z_wrt_Y[chunk_size*i:chunk_size*(i+1)] = np.load('DCR_AstroZ/' + dir_str + 'chi2_z_wrt_Y_%d_realistic_tobs.npy' %i)\n"
   ]
  },
  {
   "cell_type": "code",
   "execution_count": 31,
   "id": "dab49595-a64d-4fb2-82da-92798f9ffa8a",
   "metadata": {
    "tags": []
   },
   "outputs": [
    {
     "name": "stdout",
     "output_type": "stream",
     "text": [
      "56.61623549461365\n"
     ]
    }
   ],
   "source": [
    "#Fmax clump\n",
    "\n",
    "tobs_type = 'fmax_clump_tobs'\n",
    "\n",
    "t_st = time.time()\n",
    "z_preds = z_pred(chi2_z, z_range, np.ones([len(t_head), len(z_range)]), no_obs_all = no_obs_all.transpose()[:-1].transpose())\n",
    "z_preds_wrt_Y = z_pred(chi2_z_wrt_Y, z_range, np.ones([len(t_head), len(z_range)]), no_obs_all)\n",
    "\n",
    "print(time.time() - t_st)\n",
    "\n",
    "z_preds_wrt_zY = combine_wrt_zY(z_preds, z_preds_wrt_Y)\n",
    "\n",
    "np.save('DCR_AstroZ/results/Data_for_Paper/realistic/%s_z_preds_wrt_zY.npy' %tobs_type, z_preds_wrt_zY[:2])\n",
    "np.save('DCR_AstroZ/results/Data_for_Paper/realistic/%s_z_pdfs_wrt_zY.npy' %tobs_type, z_preds_wrt_zY[2])\n",
    "np.save('DCR_AstroZ/results/Data_for_Paper/realistic/%s_z_quantiles_wrt_zY.npy' %tobs_type, z_preds_wrt_zY[3])\n"
   ]
  },
  {
   "cell_type": "code",
   "execution_count": 113,
   "id": "d1998343-a8ba-4b9c-9bce-76a529388239",
   "metadata": {
    "tags": []
   },
   "outputs": [
    {
     "data": {
      "text/plain": [
       "(7881,)"
      ]
     },
     "execution_count": 113,
     "metadata": {},
     "output_type": "execute_result"
    }
   ],
   "source": [
    "np.intersect1d(lcfit_CIDs, where_epoch_and_SNR).shape"
   ]
  },
  {
   "cell_type": "code",
   "execution_count": 33,
   "id": "59c43fd0-ae10-43aa-b48f-635968ad49bd",
   "metadata": {
    "tags": []
   },
   "outputs": [],
   "source": [
    "del chi2_z, chi2_z_wrt_Y"
   ]
  },
  {
   "cell_type": "code",
   "execution_count": 34,
   "id": "f68b74f3-7a9a-4fba-a02c-bd5c20a59efc",
   "metadata": {
    "tags": []
   },
   "outputs": [],
   "source": [
    "#lcfit tobs\n",
    "\n",
    "chi2_z_lcfit_tobs = np.zeros([len(t_head), len(LSST_bands[:-1]), len(z_range), len(x1_vals), len(c_vals)])\n",
    "chi2_z_wrt_Y_lcfit_tobs = np.zeros([len(t_head), len(LSST_bands[:-1]), len(z_range), len(x1_vals), len(c_vals)])\n",
    "\n",
    "chunk_size = 800\n",
    "no_chi2_loops = int(len(t_head)/chunk_size)\n",
    "\n",
    "for i in range(no_chi2_loops):\n",
    "    chi2_z_lcfit_tobs[chunk_size*i:chunk_size*(i+1)] = np.load('DCR_AstroZ/' + dir_str + 'chi2_z_wrt_z_%d_lcfit_tobs.npy' %i)\n",
    "    chi2_z_wrt_Y_lcfit_tobs[chunk_size*i:chunk_size*(i+1)] = np.load('DCR_AstroZ/' + dir_str + 'chi2_z_wrt_Y_%d_lcfit_tobs.npy' %i)\n"
   ]
  },
  {
   "cell_type": "code",
   "execution_count": 35,
   "id": "b214b35c-6aa8-4bfb-b5aa-00b10129eaca",
   "metadata": {
    "tags": []
   },
   "outputs": [
    {
     "name": "stdout",
     "output_type": "stream",
     "text": [
      "55.27952599525452\n"
     ]
    }
   ],
   "source": [
    "#LCFIT TOBS\n",
    "\n",
    "tobs_type = 'lcfit_tobs'\n",
    "\n",
    "t_st = time.time()\n",
    "z_preds_lcfit_tobs = z_pred(chi2_z_lcfit_tobs, z_range, np.ones([len(t_head), len(z_range)]), no_obs_all = no_obs_all.transpose()[:-1].transpose())\n",
    "z_preds_wrt_Y_lcfit_tobs = z_pred(chi2_z_wrt_Y_lcfit_tobs, z_range, np.ones([len(t_head), len(z_range)]), no_obs_all)\n",
    "\n",
    "print(time.time() - t_st)\n",
    "\n",
    "z_preds_wrt_zY_lcfit_tobs = combine_wrt_zY(z_preds_lcfit_tobs, z_preds_wrt_Y_lcfit_tobs)\n",
    "\n",
    "np.save('DCR_AstroZ/results/Data_for_Paper/realistic/%s_z_preds_wrt_zY_lcfit_tobs.npy' %tobs_type, z_preds_wrt_zY_lcfit_tobs[:2])\n",
    "np.save('DCR_AstroZ/results/Data_for_Paper/realistic/%s_z_pdfs_wrt_zY_lcfit_tobs.npy' %tobs_type, z_preds_wrt_zY_lcfit_tobs[2])\n",
    "np.save('DCR_AstroZ/results/Data_for_Paper/realistic/%s_z_quantiles_wrt_zY_lcfit_tobs.npy' %tobs_type, z_preds_wrt_zY_lcfit_tobs[3])\n"
   ]
  },
  {
   "cell_type": "code",
   "execution_count": 36,
   "id": "d6879544-aac9-4d4d-a96d-3651f98de65e",
   "metadata": {
    "tags": []
   },
   "outputs": [],
   "source": [
    "#Reading in Fmax clump z_estimates to combine with lcfit_tobs\n",
    "\n",
    "tobs_type = 'fmax_clump_tobs'\n",
    "\n",
    "z_preds_wrt_zY = np.load('DCR_AstroZ/results/Data_for_Paper/realistic/%s_z_preds_wrt_zY.npy' %tobs_type), np.load('DCR_AstroZ/results/Data_for_Paper/realistic/%s_z_pdfs_wrt_zY.npy' %tobs_type), np.load('DCR_AstroZ/results/Data_for_Paper/realistic/%s_z_quantiles_wrt_zY.npy' %tobs_type)\n",
    "a, b, c, d = z_preds_wrt_zY[0][0], z_preds_wrt_zY[0][1], z_preds_wrt_zY[1], z_preds_wrt_zY[2]\n",
    "z_preds_wrt_zY = a, b, c, d"
   ]
  },
  {
   "cell_type": "code",
   "execution_count": 38,
   "id": "3bd66516-f70c-4501-b18f-48b3d2e20762",
   "metadata": {
    "tags": []
   },
   "outputs": [],
   "source": [
    "lcfit_CIDs = np.loadtxt(SIM_dir_str + 'lcfit_CIDs_v240111.txt').astype(int)"
   ]
  },
  {
   "cell_type": "code",
   "execution_count": 39,
   "id": "1b22051d-794a-424d-87e3-481ee5074a88",
   "metadata": {
    "tags": []
   },
   "outputs": [],
   "source": [
    "z_preds_wrt_zY_combined_with_lcfit_tobs = combine_wrt_zY(z_preds_wrt_zY, z_preds_wrt_zY_lcfit_tobs, lcfit_CIDs)"
   ]
  },
  {
   "cell_type": "code",
   "execution_count": 41,
   "id": "a23bd302-15e0-490b-9145-670694b709cd",
   "metadata": {
    "tags": []
   },
   "outputs": [],
   "source": [
    "tobs_type = 'combined_with_lcfit_tobs'\n",
    "\n",
    "np.save('DCR_AstroZ/results/Data_for_Paper/realistic/%s_z_preds_wrt_zY.npy' %tobs_type, z_preds_wrt_zY_combined_with_lcfit_tobs[:2])\n",
    "np.save('DCR_AstroZ/results/Data_for_Paper/realistic/%s_z_pdfs_wrt_zY.npy' %tobs_type, z_preds_wrt_zY_combined_with_lcfit_tobs[2])\n",
    "np.save('DCR_AstroZ/results/Data_for_Paper/realistic/%s_z_quantiles_wrt_zY.npy' %tobs_type, z_preds_wrt_zY_combined_with_lcfit_tobs[3])\n"
   ]
  },
  {
   "cell_type": "code",
   "execution_count": 30,
   "id": "f5e2e7fa-9201-4486-b1e4-55e1ee6b1836",
   "metadata": {
    "tags": []
   },
   "outputs": [],
   "source": [
    "#Reading in lcfit_tobs combined z_preds \n",
    "\n",
    "tobs_type = 'combined_with_lcfit_tobs'\n",
    "\n",
    "z_preds_wrt_zY_combined_with_lcfit_tobs = np.load('DCR_AstroZ/results/Data_for_Paper/realistic/%s_z_preds_wrt_zY.npy' %tobs_type), np.load('DCR_AstroZ/results/Data_for_Paper/realistic/%s_z_pdfs_wrt_zY.npy' %tobs_type), np.load('DCR_AstroZ/results/Data_for_Paper/realistic/%s_z_quantiles_wrt_zY.npy' %tobs_type)\n",
    "a, b, c, d = z_preds_wrt_zY_combined_with_lcfit_tobs[0][0], z_preds_wrt_zY_combined_with_lcfit_tobs[0][1], z_preds_wrt_zY_combined_with_lcfit_tobs[1], z_preds_wrt_zY_combined_with_lcfit_tobs[2]\n",
    "z_preds_wrt_zY_combined_with_lcfit_tobs = a, b, c, d"
   ]
  },
  {
   "cell_type": "code",
   "execution_count": 29,
   "id": "78b46596-1ce2-47b6-b474-eb4ad1763f52",
   "metadata": {
    "tags": []
   },
   "outputs": [],
   "source": [
    "chi2_z_ideal_tobs = np.zeros([len(t_head), len(LSST_bands[:-1]), len(z_range), len(x1_vals), len(c_vals)])\n",
    "chi2_z_wrt_Y_ideal_tobs = np.zeros([len(t_head), len(LSST_bands[:-1]), len(z_range), len(x1_vals), len(c_vals)])\n",
    "\n",
    "chunk_size = 800\n",
    "no_chi2_loops = int(len(t_head)/chunk_size)\n",
    "\n",
    "for i in range(no_chi2_loops):\n",
    "    chi2_z_ideal_tobs[chunk_size*i:chunk_size*(i+1)] = np.load('DCR_AstroZ/' + dir_str + 'chi2_z_wrt_z_%d_ideal_tobs.npy' %i)\n",
    "    chi2_z_wrt_Y_ideal_tobs[chunk_size*i:chunk_size*(i+1)] = np.load('DCR_AstroZ/' + dir_str + 'chi2_z_wrt_Y_%d_ideal_tobs.npy' %i)\n"
   ]
  },
  {
   "cell_type": "code",
   "execution_count": 32,
   "id": "93851954-a61d-4e7a-9207-002e6accf01d",
   "metadata": {},
   "outputs": [
    {
     "name": "stdout",
     "output_type": "stream",
     "text": [
      "57.600839376449585\n"
     ]
    }
   ],
   "source": [
    "#Ideal tobs\n",
    "\n",
    "tobs_type = 'ideal_tobs'\n",
    "\n",
    "t_st = time.time()\n",
    "z_preds_ideal_tobs = z_pred(chi2_z_ideal_tobs, z_range, np.ones([len(t_head), len(z_range)]), no_obs_all = no_obs_all.transpose()[:-1].transpose())\n",
    "z_preds_wrt_Y_ideal_tobs = z_pred(chi2_z_wrt_Y_ideal_tobs, z_range, np.ones([len(t_head), len(z_range)]), no_obs_all)\n",
    "\n",
    "print(time.time() - t_st)\n",
    "\n",
    "z_preds_wrt_zY_ideal_tobs = combine_wrt_zY(z_preds_ideal_tobs, z_preds_wrt_Y_ideal_tobs)\n",
    "\n",
    "np.save('DCR_AstroZ/results/Data_for_Paper/realistic/%s_z_preds_wrt_zY_ideal_tobs.npy' %tobs_type, z_preds_wrt_zY_ideal_tobs[:2])\n",
    "np.save('DCR_AstroZ/results/Data_for_Paper/realistic/%s_z_pdfs_wrt_zY_ideal_tobs.npy' %tobs_type, z_preds_wrt_zY_ideal_tobs[2])\n",
    "np.save('DCR_AstroZ/results/Data_for_Paper/realistic/%s_z_quantiles_wrt_zY_ideal_tobs.npy' %tobs_type, z_preds_wrt_zY_ideal_tobs[3])\n"
   ]
  },
  {
   "cell_type": "code",
   "execution_count": 32,
   "id": "001a7b24-2f31-4a75-8b4f-19e4c63fb048",
   "metadata": {
    "tags": []
   },
   "outputs": [],
   "source": [
    "#Reading in Host Photo-z's\n",
    "\n",
    "gal_photoz_pdfs = np.loadtxt(SIM_dir_str + dir_str[:-1] + '_gal_photoz_pdfs.txt')"
   ]
  },
  {
   "cell_type": "code",
   "execution_count": 33,
   "id": "f3e31857-2ecf-42b5-8285-ca9ee3ca3a7f",
   "metadata": {
    "tags": []
   },
   "outputs": [
    {
     "name": "stderr",
     "output_type": "stream",
     "text": [
      "/global/homes/a/astjason/.conda/envs/SN_Ia/lib/python3.7/site-packages/ipykernel_launcher.py:18: RuntimeWarning: invalid value encountered in true_divide\n"
     ]
    }
   ],
   "source": [
    "z_preds_with_host_photo_z = combine_pdfs(z_preds_wrt_zY_combined_with_lcfit_tobs[2], gal_photoz_pdfs, z_range)"
   ]
  },
  {
   "cell_type": "code",
   "execution_count": 34,
   "id": "88beee80-8d05-4f28-b2fe-a6d66980ae62",
   "metadata": {
    "tags": []
   },
   "outputs": [
    {
     "data": {
      "text/plain": [
       "array([[0.    , 0.4864, 0.5181, ..., 0.6089, 0.6352, 0.71  ],\n",
       "       [0.    , 0.4422, 0.5772, ..., 0.7518, 0.7847, 0.85  ],\n",
       "       [0.    , 0.7377, 0.7484, ..., 0.8043, 0.8215, 0.85  ],\n",
       "       ...,\n",
       "       [0.    , 0.7997, 0.8112, ..., 0.8632, 0.8759, 0.9   ],\n",
       "       [0.    , 0.2543, 0.2634, ..., 0.2956, 0.3031, 0.33  ],\n",
       "       [0.    , 0.1159, 0.2406, ..., 0.9667, 1.0842, 1.2   ]])"
      ]
     },
     "execution_count": 34,
     "metadata": {},
     "output_type": "execute_result"
    }
   ],
   "source": [
    "z_preds_with_host_photo_z[3]"
   ]
  },
  {
   "cell_type": "code",
   "execution_count": 35,
   "id": "f79d1a18-21ec-4f86-bb77-f518c746a29c",
   "metadata": {
    "tags": []
   },
   "outputs": [
    {
     "name": "stdout",
     "output_type": "stream",
     "text": [
      "[ 9143 19361]\n"
     ]
    }
   ],
   "source": [
    "#Checking that Host Photo-z having P(z) = 0 doesn't mess up things\n",
    "where_astro_host_z_zero = np.where(z_preds_with_host_photo_z[3].transpose()[-1] == 0.0)[0]\n",
    "print(where_astro_host_z_zero)"
   ]
  },
  {
   "cell_type": "code",
   "execution_count": 36,
   "id": "8a10fec4-58c1-40e7-9a1d-6394bb6d04a9",
   "metadata": {
    "tags": []
   },
   "outputs": [],
   "source": [
    "z_preds_with_host_photo_z[3][where_astro_host_z_zero] = np.linspace(0, 1.2, num = 11)"
   ]
  },
  {
   "cell_type": "code",
   "execution_count": 37,
   "id": "69db9ac1-1d7a-4073-95b3-eb54cb011635",
   "metadata": {
    "tags": []
   },
   "outputs": [],
   "source": [
    "column_names = []\n",
    "#column_names.append('SNID')\n",
    "\n",
    "no_quants = 11\n",
    "\n",
    "column_names.append('SNID')\n",
    "\n",
    "for i in range(no_quants):\n",
    "    column_names.append('HOSTGAL_ZPHOT_Q%02d0' %i)\n",
    "    \n",
    "column_names.append('NZPHOT_Q')"
   ]
  },
  {
   "cell_type": "code",
   "execution_count": 38,
   "id": "fd65407a-ae9d-4d34-b47f-c1c78ef43835",
   "metadata": {
    "tags": []
   },
   "outputs": [],
   "source": [
    "where_no_galz = np.where(t_head['HOSTGAL_ZPHOT_Q100'] <= 0.0)[0]\n",
    "\n",
    "no_quants = 11\n",
    "for i in range(no_quants):\n",
    "    t_head['HOSTGAL_ZPHOT_Q%02d0' %i][where_no_galz] = 0.12 * i"
   ]
  },
  {
   "cell_type": "code",
   "execution_count": 39,
   "id": "fb956bc7-821c-402c-afc0-78e928621d3d",
   "metadata": {
    "tags": []
   },
   "outputs": [],
   "source": [
    "t_head['VARNAMES:'] = 'SN:'\n",
    "t_head['NZPHOT_Q'] = 11\n",
    "\n",
    "df_test = pd.DataFrame(data = t_head['VARNAMES:']) #pd.DataFrame(data = d[0].astype(int)) #\n",
    "\n",
    "for p in column_names:\n",
    "    df_test[p] = t_head[p]\n",
    "\n",
    "df_test['SNID'] = df_test['SNID'].astype(int)"
   ]
  },
  {
   "cell_type": "code",
   "execution_count": 40,
   "id": "8c676c6e-029a-4a0b-993c-5a6492d407b3",
   "metadata": {
    "tags": []
   },
   "outputs": [
    {
     "data": {
      "text/plain": [
       "0            1\n",
       "1            2\n",
       "2            3\n",
       "3            4\n",
       "4            5\n",
       "         ...  \n",
       "19995    19996\n",
       "19996    19997\n",
       "19997    19998\n",
       "19998    19999\n",
       "19999    20000\n",
       "Name: SNID, Length: 20000, dtype: int64"
      ]
     },
     "execution_count": 40,
     "metadata": {},
     "output_type": "execute_result"
    }
   ],
   "source": [
    "df_test['SNID'].astype(int)"
   ]
  },
  {
   "cell_type": "code",
   "execution_count": 41,
   "id": "1728b2be-298a-401d-b988-79e270f70fb9",
   "metadata": {
    "tags": []
   },
   "outputs": [
    {
     "data": {
      "text/html": [
       "<div>\n",
       "<style scoped>\n",
       "    .dataframe tbody tr th:only-of-type {\n",
       "        vertical-align: middle;\n",
       "    }\n",
       "\n",
       "    .dataframe tbody tr th {\n",
       "        vertical-align: top;\n",
       "    }\n",
       "\n",
       "    .dataframe thead th {\n",
       "        text-align: right;\n",
       "    }\n",
       "</style>\n",
       "<table border=\"1\" class=\"dataframe\">\n",
       "  <thead>\n",
       "    <tr style=\"text-align: right;\">\n",
       "      <th></th>\n",
       "      <th>VARNAMES:</th>\n",
       "      <th>SNID</th>\n",
       "      <th>HOSTGAL_ZPHOT_Q000</th>\n",
       "      <th>HOSTGAL_ZPHOT_Q010</th>\n",
       "      <th>HOSTGAL_ZPHOT_Q020</th>\n",
       "      <th>HOSTGAL_ZPHOT_Q030</th>\n",
       "      <th>HOSTGAL_ZPHOT_Q040</th>\n",
       "      <th>HOSTGAL_ZPHOT_Q050</th>\n",
       "      <th>HOSTGAL_ZPHOT_Q060</th>\n",
       "      <th>HOSTGAL_ZPHOT_Q070</th>\n",
       "      <th>HOSTGAL_ZPHOT_Q080</th>\n",
       "      <th>HOSTGAL_ZPHOT_Q090</th>\n",
       "      <th>HOSTGAL_ZPHOT_Q100</th>\n",
       "      <th>NZPHOT_Q</th>\n",
       "    </tr>\n",
       "  </thead>\n",
       "  <tbody>\n",
       "    <tr>\n",
       "      <th>0</th>\n",
       "      <td>SN:</td>\n",
       "      <td>1</td>\n",
       "      <td>0.097628</td>\n",
       "      <td>0.365111</td>\n",
       "      <td>0.432854</td>\n",
       "      <td>0.520058</td>\n",
       "      <td>0.548165</td>\n",
       "      <td>0.564334</td>\n",
       "      <td>0.580874</td>\n",
       "      <td>0.598088</td>\n",
       "      <td>0.619875</td>\n",
       "      <td>0.653336</td>\n",
       "      <td>0.773356</td>\n",
       "      <td>11</td>\n",
       "    </tr>\n",
       "    <tr>\n",
       "      <th>1</th>\n",
       "      <td>SN:</td>\n",
       "      <td>2</td>\n",
       "      <td>0.079210</td>\n",
       "      <td>0.205966</td>\n",
       "      <td>0.638370</td>\n",
       "      <td>0.689795</td>\n",
       "      <td>0.706567</td>\n",
       "      <td>0.718263</td>\n",
       "      <td>0.728989</td>\n",
       "      <td>0.741566</td>\n",
       "      <td>0.759298</td>\n",
       "      <td>0.792733</td>\n",
       "      <td>0.921191</td>\n",
       "      <td>11</td>\n",
       "    </tr>\n",
       "    <tr>\n",
       "      <th>2</th>\n",
       "      <td>SN:</td>\n",
       "      <td>3</td>\n",
       "      <td>0.713396</td>\n",
       "      <td>0.740251</td>\n",
       "      <td>0.752305</td>\n",
       "      <td>0.760718</td>\n",
       "      <td>0.768656</td>\n",
       "      <td>0.776944</td>\n",
       "      <td>0.786354</td>\n",
       "      <td>0.795764</td>\n",
       "      <td>0.809647</td>\n",
       "      <td>0.827858</td>\n",
       "      <td>0.889189</td>\n",
       "      <td>11</td>\n",
       "    </tr>\n",
       "    <tr>\n",
       "      <th>3</th>\n",
       "      <td>SN:</td>\n",
       "      <td>4</td>\n",
       "      <td>0.719731</td>\n",
       "      <td>0.796223</td>\n",
       "      <td>0.819750</td>\n",
       "      <td>0.842820</td>\n",
       "      <td>0.864258</td>\n",
       "      <td>0.887013</td>\n",
       "      <td>0.911869</td>\n",
       "      <td>0.931613</td>\n",
       "      <td>0.951286</td>\n",
       "      <td>0.980582</td>\n",
       "      <td>1.178064</td>\n",
       "      <td>11</td>\n",
       "    </tr>\n",
       "    <tr>\n",
       "      <th>4</th>\n",
       "      <td>SN:</td>\n",
       "      <td>5</td>\n",
       "      <td>0.444038</td>\n",
       "      <td>0.715792</td>\n",
       "      <td>0.748815</td>\n",
       "      <td>0.767381</td>\n",
       "      <td>0.782611</td>\n",
       "      <td>0.797552</td>\n",
       "      <td>0.812854</td>\n",
       "      <td>0.829000</td>\n",
       "      <td>0.846999</td>\n",
       "      <td>0.880877</td>\n",
       "      <td>0.996907</td>\n",
       "      <td>11</td>\n",
       "    </tr>\n",
       "    <tr>\n",
       "      <th>...</th>\n",
       "      <td>...</td>\n",
       "      <td>...</td>\n",
       "      <td>...</td>\n",
       "      <td>...</td>\n",
       "      <td>...</td>\n",
       "      <td>...</td>\n",
       "      <td>...</td>\n",
       "      <td>...</td>\n",
       "      <td>...</td>\n",
       "      <td>...</td>\n",
       "      <td>...</td>\n",
       "      <td>...</td>\n",
       "      <td>...</td>\n",
       "      <td>...</td>\n",
       "    </tr>\n",
       "    <tr>\n",
       "      <th>19995</th>\n",
       "      <td>SN:</td>\n",
       "      <td>19996</td>\n",
       "      <td>0.056119</td>\n",
       "      <td>0.191887</td>\n",
       "      <td>0.282874</td>\n",
       "      <td>0.313492</td>\n",
       "      <td>0.336118</td>\n",
       "      <td>0.359971</td>\n",
       "      <td>0.390749</td>\n",
       "      <td>0.460176</td>\n",
       "      <td>0.555868</td>\n",
       "      <td>0.619575</td>\n",
       "      <td>0.814206</td>\n",
       "      <td>11</td>\n",
       "    </tr>\n",
       "    <tr>\n",
       "      <th>19996</th>\n",
       "      <td>SN:</td>\n",
       "      <td>19997</td>\n",
       "      <td>0.086305</td>\n",
       "      <td>0.207209</td>\n",
       "      <td>0.233773</td>\n",
       "      <td>0.265943</td>\n",
       "      <td>0.298290</td>\n",
       "      <td>0.339761</td>\n",
       "      <td>0.381441</td>\n",
       "      <td>0.438059</td>\n",
       "      <td>0.756881</td>\n",
       "      <td>0.872285</td>\n",
       "      <td>1.901823</td>\n",
       "      <td>11</td>\n",
       "    </tr>\n",
       "    <tr>\n",
       "      <th>19997</th>\n",
       "      <td>SN:</td>\n",
       "      <td>19998</td>\n",
       "      <td>0.748802</td>\n",
       "      <td>0.812786</td>\n",
       "      <td>0.822998</td>\n",
       "      <td>0.833211</td>\n",
       "      <td>0.840599</td>\n",
       "      <td>0.847345</td>\n",
       "      <td>0.854081</td>\n",
       "      <td>0.861874</td>\n",
       "      <td>0.871583</td>\n",
       "      <td>0.881302</td>\n",
       "      <td>0.924454</td>\n",
       "      <td>11</td>\n",
       "    </tr>\n",
       "    <tr>\n",
       "      <th>19998</th>\n",
       "      <td>SN:</td>\n",
       "      <td>19999</td>\n",
       "      <td>0.041414</td>\n",
       "      <td>0.100038</td>\n",
       "      <td>0.123127</td>\n",
       "      <td>0.138163</td>\n",
       "      <td>0.150348</td>\n",
       "      <td>0.162376</td>\n",
       "      <td>0.174852</td>\n",
       "      <td>0.190263</td>\n",
       "      <td>0.206922</td>\n",
       "      <td>0.232935</td>\n",
       "      <td>0.430898</td>\n",
       "      <td>11</td>\n",
       "    </tr>\n",
       "    <tr>\n",
       "      <th>19999</th>\n",
       "      <td>SN:</td>\n",
       "      <td>20000</td>\n",
       "      <td>0.000000</td>\n",
       "      <td>0.120000</td>\n",
       "      <td>0.240000</td>\n",
       "      <td>0.360000</td>\n",
       "      <td>0.480000</td>\n",
       "      <td>0.600000</td>\n",
       "      <td>0.720000</td>\n",
       "      <td>0.840000</td>\n",
       "      <td>0.960000</td>\n",
       "      <td>1.080000</td>\n",
       "      <td>1.200000</td>\n",
       "      <td>11</td>\n",
       "    </tr>\n",
       "  </tbody>\n",
       "</table>\n",
       "<p>20000 rows × 14 columns</p>\n",
       "</div>"
      ],
      "text/plain": [
       "      VARNAMES:   SNID  HOSTGAL_ZPHOT_Q000  HOSTGAL_ZPHOT_Q010  \\\n",
       "0           SN:      1            0.097628            0.365111   \n",
       "1           SN:      2            0.079210            0.205966   \n",
       "2           SN:      3            0.713396            0.740251   \n",
       "3           SN:      4            0.719731            0.796223   \n",
       "4           SN:      5            0.444038            0.715792   \n",
       "...         ...    ...                 ...                 ...   \n",
       "19995       SN:  19996            0.056119            0.191887   \n",
       "19996       SN:  19997            0.086305            0.207209   \n",
       "19997       SN:  19998            0.748802            0.812786   \n",
       "19998       SN:  19999            0.041414            0.100038   \n",
       "19999       SN:  20000            0.000000            0.120000   \n",
       "\n",
       "       HOSTGAL_ZPHOT_Q020  HOSTGAL_ZPHOT_Q030  HOSTGAL_ZPHOT_Q040  \\\n",
       "0                0.432854            0.520058            0.548165   \n",
       "1                0.638370            0.689795            0.706567   \n",
       "2                0.752305            0.760718            0.768656   \n",
       "3                0.819750            0.842820            0.864258   \n",
       "4                0.748815            0.767381            0.782611   \n",
       "...                   ...                 ...                 ...   \n",
       "19995            0.282874            0.313492            0.336118   \n",
       "19996            0.233773            0.265943            0.298290   \n",
       "19997            0.822998            0.833211            0.840599   \n",
       "19998            0.123127            0.138163            0.150348   \n",
       "19999            0.240000            0.360000            0.480000   \n",
       "\n",
       "       HOSTGAL_ZPHOT_Q050  HOSTGAL_ZPHOT_Q060  HOSTGAL_ZPHOT_Q070  \\\n",
       "0                0.564334            0.580874            0.598088   \n",
       "1                0.718263            0.728989            0.741566   \n",
       "2                0.776944            0.786354            0.795764   \n",
       "3                0.887013            0.911869            0.931613   \n",
       "4                0.797552            0.812854            0.829000   \n",
       "...                   ...                 ...                 ...   \n",
       "19995            0.359971            0.390749            0.460176   \n",
       "19996            0.339761            0.381441            0.438059   \n",
       "19997            0.847345            0.854081            0.861874   \n",
       "19998            0.162376            0.174852            0.190263   \n",
       "19999            0.600000            0.720000            0.840000   \n",
       "\n",
       "       HOSTGAL_ZPHOT_Q080  HOSTGAL_ZPHOT_Q090  HOSTGAL_ZPHOT_Q100  NZPHOT_Q  \n",
       "0                0.619875            0.653336            0.773356        11  \n",
       "1                0.759298            0.792733            0.921191        11  \n",
       "2                0.809647            0.827858            0.889189        11  \n",
       "3                0.951286            0.980582            1.178064        11  \n",
       "4                0.846999            0.880877            0.996907        11  \n",
       "...                   ...                 ...                 ...       ...  \n",
       "19995            0.555868            0.619575            0.814206        11  \n",
       "19996            0.756881            0.872285            1.901823        11  \n",
       "19997            0.871583            0.881302            0.924454        11  \n",
       "19998            0.206922            0.232935            0.430898        11  \n",
       "19999            0.960000            1.080000            1.200000        11  \n",
       "\n",
       "[20000 rows x 14 columns]"
      ]
     },
     "execution_count": 41,
     "metadata": {},
     "output_type": "execute_result"
    }
   ],
   "source": [
    "df_test"
   ]
  },
  {
   "cell_type": "code",
   "execution_count": 43,
   "id": "e551c699-50b5-4390-aa57-6e6243fd30c1",
   "metadata": {
    "tags": []
   },
   "outputs": [],
   "source": [
    "df_test.to_csv('DCR_AstroZ/' + dir_str + 'HOST_PHOTOZ_Q.dat', sep = \" \", index=False)"
   ]
  },
  {
   "cell_type": "code",
   "execution_count": 58,
   "id": "a047273e-22ec-45a3-ab42-e78c73340a45",
   "metadata": {
    "tags": []
   },
   "outputs": [],
   "source": [
    "df_astro_z = pd.DataFrame(data = t_head['VARNAMES:']) #pd.DataFrame(data = d[0].astype(int)) #\n",
    "df_astro_z['VARNAMES:'] = 'SN:'\n",
    "df_astro_z['SNID'] = t_head['SNID'].astype(int)\n",
    "\n",
    "\n",
    "for i, p in enumerate(column_names[1:12]):\n",
    "    df_astro_z[p] = z_preds_wrt_zY_combined_with_lcfit_tobs[3].transpose()[i]\n",
    "\n",
    "df_astro_z['NZPHOT_Q'] = 11"
   ]
  },
  {
   "cell_type": "code",
   "execution_count": 63,
   "id": "ad7ff934-0a54-4458-9a8c-1f2842a2449c",
   "metadata": {
    "tags": []
   },
   "outputs": [
    {
     "data": {
      "text/plain": [
       "array(['SN:', 2312, 0.0, 0.0, 0.0027, 0.008400000000000001,\n",
       "       0.013900000000000001, 0.0194, 0.0256, 0.0324, 0.0414, 0.0713, 1.2,\n",
       "       11], dtype=object)"
      ]
     },
     "execution_count": 63,
     "metadata": {},
     "output_type": "execute_result"
    }
   ],
   "source": [
    "df_astro_z.values[2311]"
   ]
  },
  {
   "cell_type": "code",
   "execution_count": 70,
   "id": "23fc5607-e907-4edf-a1f7-3a2199c2fecc",
   "metadata": {
    "tags": []
   },
   "outputs": [
    {
     "data": {
      "text/plain": [
       "array([ 2311, 13371, 18399])"
      ]
     },
     "execution_count": 70,
     "metadata": {},
     "output_type": "execute_result"
    }
   ],
   "source": [
    "np.where(df_astro_z['HOSTGAL_ZPHOT_Q010'] == 0)[0]"
   ]
  },
  {
   "cell_type": "code",
   "execution_count": 53,
   "id": "12b8f50b-e56f-4dc5-8f3c-5da5e7ef2770",
   "metadata": {
    "tags": []
   },
   "outputs": [],
   "source": [
    "where_no_astroz = np.where(t_head['HOSTGAL_ZPHOT_Q010'].value <= 1e-5)[0]\n"
   ]
  },
  {
   "cell_type": "code",
   "execution_count": 59,
   "id": "f207a0f2-2651-4994-bc4b-b58041376076",
   "metadata": {},
   "outputs": [],
   "source": [
    "where_no_astroz = np.where(t_head['HOSTGAL_ZPHOT_Q010'] <= 0.0)[0]\n",
    "\n",
    "no_quants = 11\n",
    "for i in range(no_quants):\n",
    "    t_head['HOSTGAL_ZPHOT_Q%02d0' %i][where_no_galz] = 0.12 * i"
   ]
  },
  {
   "cell_type": "code",
   "execution_count": 72,
   "id": "00894e2c-2823-4529-8f92-847697f6be29",
   "metadata": {
    "tags": []
   },
   "outputs": [
    {
     "name": "stderr",
     "output_type": "stream",
     "text": [
      "/global/homes/a/astjason/.conda/envs/SN_Ia/lib/python3.7/site-packages/ipykernel_launcher.py:1: SettingWithCopyWarning: \n",
      "A value is trying to be set on a copy of a slice from a DataFrame\n",
      "\n",
      "See the caveats in the documentation: https://pandas.pydata.org/pandas-docs/stable/user_guide/indexing.html#returning-a-view-versus-a-copy\n",
      "  \"\"\"Entry point for launching an IPython kernel.\n"
     ]
    }
   ],
   "source": [
    "df_astro_z['HOSTGAL_ZPHOT_Q010'][np.where(df_astro_z['HOSTGAL_ZPHOT_Q010'] == 0)[0]] = 0.0001"
   ]
  },
  {
   "cell_type": "code",
   "execution_count": 73,
   "id": "6f78ee62-6f15-4f74-b688-3aacdc1fe084",
   "metadata": {
    "tags": []
   },
   "outputs": [],
   "source": [
    "df_astro_z.to_csv('DCR_AstroZ/' + dir_str + 'ASTROZ_Q.dat', sep = \" \", index=False)"
   ]
  },
  {
   "cell_type": "code",
   "execution_count": 70,
   "id": "3030479f-99c9-4d3d-8d8c-18c6aa2b1cc2",
   "metadata": {
    "tags": []
   },
   "outputs": [
    {
     "data": {
      "text/plain": [
       "(20000, 11)"
      ]
     },
     "execution_count": 70,
     "metadata": {},
     "output_type": "execute_result"
    }
   ],
   "source": [
    "z_preds_wrt_zY_combined_with_lcfit_tobs[3].shape"
   ]
  },
  {
   "cell_type": "code",
   "execution_count": 71,
   "id": "572a0ec8-89b1-4ce5-9ebd-8bc355a1832a",
   "metadata": {
    "tags": []
   },
   "outputs": [],
   "source": [
    "df_astro_host_z = pd.DataFrame(data = t_head['VARNAMES:']) #pd.DataFrame(data = d[0].astype(int)) #\n",
    "df_astro_host_z['VARNAMES:'] = 'SN:'\n",
    "df_astro_host_z['SNID'] = t_head['SNID'].astype(int)\n",
    "\n",
    "\n",
    "for i, p in enumerate(column_names[1:12]):\n",
    "    df_astro_host_z[p] = z_preds_with_host_photo_z[3].transpose()[i]\n",
    "\n",
    "df_astro_host_z['NZPHOT_Q'] = 11"
   ]
  },
  {
   "cell_type": "code",
   "execution_count": 72,
   "id": "c2167877-ac27-4624-bad5-9c9959231e2a",
   "metadata": {
    "tags": []
   },
   "outputs": [
    {
     "data": {
      "text/html": [
       "<div>\n",
       "<style scoped>\n",
       "    .dataframe tbody tr th:only-of-type {\n",
       "        vertical-align: middle;\n",
       "    }\n",
       "\n",
       "    .dataframe tbody tr th {\n",
       "        vertical-align: top;\n",
       "    }\n",
       "\n",
       "    .dataframe thead th {\n",
       "        text-align: right;\n",
       "    }\n",
       "</style>\n",
       "<table border=\"1\" class=\"dataframe\">\n",
       "  <thead>\n",
       "    <tr style=\"text-align: right;\">\n",
       "      <th></th>\n",
       "      <th>VARNAMES:</th>\n",
       "      <th>SNID</th>\n",
       "      <th>HOSTGAL_ZPHOT_Q000</th>\n",
       "      <th>HOSTGAL_ZPHOT_Q010</th>\n",
       "      <th>HOSTGAL_ZPHOT_Q020</th>\n",
       "      <th>HOSTGAL_ZPHOT_Q030</th>\n",
       "      <th>HOSTGAL_ZPHOT_Q040</th>\n",
       "      <th>HOSTGAL_ZPHOT_Q050</th>\n",
       "      <th>HOSTGAL_ZPHOT_Q060</th>\n",
       "      <th>HOSTGAL_ZPHOT_Q070</th>\n",
       "      <th>HOSTGAL_ZPHOT_Q080</th>\n",
       "      <th>HOSTGAL_ZPHOT_Q090</th>\n",
       "      <th>HOSTGAL_ZPHOT_Q100</th>\n",
       "      <th>NZPHOT_Q</th>\n",
       "    </tr>\n",
       "  </thead>\n",
       "  <tbody>\n",
       "    <tr>\n",
       "      <th>0</th>\n",
       "      <td>SN:</td>\n",
       "      <td>1</td>\n",
       "      <td>0.0</td>\n",
       "      <td>0.4864</td>\n",
       "      <td>0.5181</td>\n",
       "      <td>0.5389</td>\n",
       "      <td>0.5532</td>\n",
       "      <td>0.5660</td>\n",
       "      <td>0.5788</td>\n",
       "      <td>0.5923</td>\n",
       "      <td>0.6089</td>\n",
       "      <td>0.6352</td>\n",
       "      <td>0.710</td>\n",
       "      <td>11</td>\n",
       "    </tr>\n",
       "    <tr>\n",
       "      <th>1</th>\n",
       "      <td>SN:</td>\n",
       "      <td>2</td>\n",
       "      <td>0.0</td>\n",
       "      <td>0.4422</td>\n",
       "      <td>0.5772</td>\n",
       "      <td>0.6517</td>\n",
       "      <td>0.6874</td>\n",
       "      <td>0.7050</td>\n",
       "      <td>0.7186</td>\n",
       "      <td>0.7329</td>\n",
       "      <td>0.7518</td>\n",
       "      <td>0.7847</td>\n",
       "      <td>0.850</td>\n",
       "      <td>11</td>\n",
       "    </tr>\n",
       "    <tr>\n",
       "      <th>2</th>\n",
       "      <td>SN:</td>\n",
       "      <td>3</td>\n",
       "      <td>0.0</td>\n",
       "      <td>0.7377</td>\n",
       "      <td>0.7484</td>\n",
       "      <td>0.7567</td>\n",
       "      <td>0.7646</td>\n",
       "      <td>0.7729</td>\n",
       "      <td>0.7818</td>\n",
       "      <td>0.7913</td>\n",
       "      <td>0.8043</td>\n",
       "      <td>0.8215</td>\n",
       "      <td>0.850</td>\n",
       "      <td>11</td>\n",
       "    </tr>\n",
       "    <tr>\n",
       "      <th>3</th>\n",
       "      <td>SN:</td>\n",
       "      <td>4</td>\n",
       "      <td>0.0</td>\n",
       "      <td>0.8005</td>\n",
       "      <td>0.8268</td>\n",
       "      <td>0.8498</td>\n",
       "      <td>0.8715</td>\n",
       "      <td>0.8946</td>\n",
       "      <td>0.9165</td>\n",
       "      <td>0.9365</td>\n",
       "      <td>0.9603</td>\n",
       "      <td>0.9958</td>\n",
       "      <td>1.070</td>\n",
       "      <td>11</td>\n",
       "    </tr>\n",
       "    <tr>\n",
       "      <th>4</th>\n",
       "      <td>SN:</td>\n",
       "      <td>5</td>\n",
       "      <td>0.0</td>\n",
       "      <td>0.6650</td>\n",
       "      <td>0.7122</td>\n",
       "      <td>0.7454</td>\n",
       "      <td>0.7658</td>\n",
       "      <td>0.7828</td>\n",
       "      <td>0.7995</td>\n",
       "      <td>0.8170</td>\n",
       "      <td>0.8366</td>\n",
       "      <td>0.8666</td>\n",
       "      <td>0.930</td>\n",
       "      <td>11</td>\n",
       "    </tr>\n",
       "    <tr>\n",
       "      <th>...</th>\n",
       "      <td>...</td>\n",
       "      <td>...</td>\n",
       "      <td>...</td>\n",
       "      <td>...</td>\n",
       "      <td>...</td>\n",
       "      <td>...</td>\n",
       "      <td>...</td>\n",
       "      <td>...</td>\n",
       "      <td>...</td>\n",
       "      <td>...</td>\n",
       "      <td>...</td>\n",
       "      <td>...</td>\n",
       "      <td>...</td>\n",
       "      <td>...</td>\n",
       "    </tr>\n",
       "    <tr>\n",
       "      <th>19995</th>\n",
       "      <td>SN:</td>\n",
       "      <td>19996</td>\n",
       "      <td>0.0</td>\n",
       "      <td>0.2182</td>\n",
       "      <td>0.2354</td>\n",
       "      <td>0.2442</td>\n",
       "      <td>0.2507</td>\n",
       "      <td>0.2563</td>\n",
       "      <td>0.2629</td>\n",
       "      <td>0.2722</td>\n",
       "      <td>0.2860</td>\n",
       "      <td>0.3025</td>\n",
       "      <td>0.639</td>\n",
       "      <td>11</td>\n",
       "    </tr>\n",
       "    <tr>\n",
       "      <th>19996</th>\n",
       "      <td>SN:</td>\n",
       "      <td>19997</td>\n",
       "      <td>0.0</td>\n",
       "      <td>0.2019</td>\n",
       "      <td>0.2370</td>\n",
       "      <td>0.2767</td>\n",
       "      <td>0.3226</td>\n",
       "      <td>0.3750</td>\n",
       "      <td>0.4453</td>\n",
       "      <td>0.5755</td>\n",
       "      <td>0.7964</td>\n",
       "      <td>0.9559</td>\n",
       "      <td>1.200</td>\n",
       "      <td>11</td>\n",
       "    </tr>\n",
       "    <tr>\n",
       "      <th>19997</th>\n",
       "      <td>SN:</td>\n",
       "      <td>19998</td>\n",
       "      <td>0.0</td>\n",
       "      <td>0.7997</td>\n",
       "      <td>0.8112</td>\n",
       "      <td>0.8209</td>\n",
       "      <td>0.8302</td>\n",
       "      <td>0.8376</td>\n",
       "      <td>0.8450</td>\n",
       "      <td>0.8530</td>\n",
       "      <td>0.8632</td>\n",
       "      <td>0.8759</td>\n",
       "      <td>0.900</td>\n",
       "      <td>11</td>\n",
       "    </tr>\n",
       "    <tr>\n",
       "      <th>19998</th>\n",
       "      <td>SN:</td>\n",
       "      <td>19999</td>\n",
       "      <td>0.0</td>\n",
       "      <td>0.2543</td>\n",
       "      <td>0.2634</td>\n",
       "      <td>0.2702</td>\n",
       "      <td>0.2751</td>\n",
       "      <td>0.2799</td>\n",
       "      <td>0.2848</td>\n",
       "      <td>0.2896</td>\n",
       "      <td>0.2956</td>\n",
       "      <td>0.3031</td>\n",
       "      <td>0.330</td>\n",
       "      <td>11</td>\n",
       "    </tr>\n",
       "    <tr>\n",
       "      <th>19999</th>\n",
       "      <td>SN:</td>\n",
       "      <td>20000</td>\n",
       "      <td>0.0</td>\n",
       "      <td>0.1159</td>\n",
       "      <td>0.2406</td>\n",
       "      <td>0.3694</td>\n",
       "      <td>0.4999</td>\n",
       "      <td>0.6195</td>\n",
       "      <td>0.7351</td>\n",
       "      <td>0.8489</td>\n",
       "      <td>0.9667</td>\n",
       "      <td>1.0842</td>\n",
       "      <td>1.200</td>\n",
       "      <td>11</td>\n",
       "    </tr>\n",
       "  </tbody>\n",
       "</table>\n",
       "<p>20000 rows × 14 columns</p>\n",
       "</div>"
      ],
      "text/plain": [
       "      VARNAMES:   SNID  HOSTGAL_ZPHOT_Q000  HOSTGAL_ZPHOT_Q010  \\\n",
       "0           SN:      1                 0.0              0.4864   \n",
       "1           SN:      2                 0.0              0.4422   \n",
       "2           SN:      3                 0.0              0.7377   \n",
       "3           SN:      4                 0.0              0.8005   \n",
       "4           SN:      5                 0.0              0.6650   \n",
       "...         ...    ...                 ...                 ...   \n",
       "19995       SN:  19996                 0.0              0.2182   \n",
       "19996       SN:  19997                 0.0              0.2019   \n",
       "19997       SN:  19998                 0.0              0.7997   \n",
       "19998       SN:  19999                 0.0              0.2543   \n",
       "19999       SN:  20000                 0.0              0.1159   \n",
       "\n",
       "       HOSTGAL_ZPHOT_Q020  HOSTGAL_ZPHOT_Q030  HOSTGAL_ZPHOT_Q040  \\\n",
       "0                  0.5181              0.5389              0.5532   \n",
       "1                  0.5772              0.6517              0.6874   \n",
       "2                  0.7484              0.7567              0.7646   \n",
       "3                  0.8268              0.8498              0.8715   \n",
       "4                  0.7122              0.7454              0.7658   \n",
       "...                   ...                 ...                 ...   \n",
       "19995              0.2354              0.2442              0.2507   \n",
       "19996              0.2370              0.2767              0.3226   \n",
       "19997              0.8112              0.8209              0.8302   \n",
       "19998              0.2634              0.2702              0.2751   \n",
       "19999              0.2406              0.3694              0.4999   \n",
       "\n",
       "       HOSTGAL_ZPHOT_Q050  HOSTGAL_ZPHOT_Q060  HOSTGAL_ZPHOT_Q070  \\\n",
       "0                  0.5660              0.5788              0.5923   \n",
       "1                  0.7050              0.7186              0.7329   \n",
       "2                  0.7729              0.7818              0.7913   \n",
       "3                  0.8946              0.9165              0.9365   \n",
       "4                  0.7828              0.7995              0.8170   \n",
       "...                   ...                 ...                 ...   \n",
       "19995              0.2563              0.2629              0.2722   \n",
       "19996              0.3750              0.4453              0.5755   \n",
       "19997              0.8376              0.8450              0.8530   \n",
       "19998              0.2799              0.2848              0.2896   \n",
       "19999              0.6195              0.7351              0.8489   \n",
       "\n",
       "       HOSTGAL_ZPHOT_Q080  HOSTGAL_ZPHOT_Q090  HOSTGAL_ZPHOT_Q100  NZPHOT_Q  \n",
       "0                  0.6089              0.6352               0.710        11  \n",
       "1                  0.7518              0.7847               0.850        11  \n",
       "2                  0.8043              0.8215               0.850        11  \n",
       "3                  0.9603              0.9958               1.070        11  \n",
       "4                  0.8366              0.8666               0.930        11  \n",
       "...                   ...                 ...                 ...       ...  \n",
       "19995              0.2860              0.3025               0.639        11  \n",
       "19996              0.7964              0.9559               1.200        11  \n",
       "19997              0.8632              0.8759               0.900        11  \n",
       "19998              0.2956              0.3031               0.330        11  \n",
       "19999              0.9667              1.0842               1.200        11  \n",
       "\n",
       "[20000 rows x 14 columns]"
      ]
     },
     "execution_count": 72,
     "metadata": {},
     "output_type": "execute_result"
    }
   ],
   "source": [
    "df_astro_host_z"
   ]
  },
  {
   "cell_type": "code",
   "execution_count": 73,
   "id": "8a6716f1-944b-447b-811d-91663651ff9f",
   "metadata": {
    "tags": []
   },
   "outputs": [],
   "source": [
    "df_astro_host_z.to_csv('DCR_AstroZ/' + dir_str + 'ASTROZ+HOSTZ_Q.dat', sep = \" \", index=False)"
   ]
  }
 ],
 "metadata": {
  "kernelspec": {
   "display_name": "SN_Ia",
   "language": "python",
   "name": "sn_ia"
  },
  "language_info": {
   "codemirror_mode": {
    "name": "ipython",
    "version": 3
   },
   "file_extension": ".py",
   "mimetype": "text/x-python",
   "name": "python",
   "nbconvert_exporter": "python",
   "pygments_lexer": "ipython3",
   "version": "3.7.12"
  }
 },
 "nbformat": 4,
 "nbformat_minor": 5
}
