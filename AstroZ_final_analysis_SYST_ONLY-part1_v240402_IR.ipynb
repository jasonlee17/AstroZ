{
 "cells": [
  {
   "cell_type": "code",
   "execution_count": 1,
   "id": "80f33e7b-8310-4de8-bdda-9074728cd2de",
   "metadata": {},
   "outputs": [],
   "source": [
    "#LSST z-pred for SYST_only sims run with SALT3 on NERSC ugrizY, z_DCR for syst-only SIMS\n",
    "#List of systematics: 5mas, 10mas, 20mas syst floor, lcfit+z/fmax-clump tobs, color marginaliztion, x1 marginalization\n",
    "\n",
    "%load_ext autoreload\n",
    "%autoreload 2"
   ]
  },
  {
   "cell_type": "code",
   "execution_count": 2,
   "id": "dbef9fd6-648c-4aa7-89f9-9de3878d922b",
   "metadata": {},
   "outputs": [
    {
     "name": "stdout",
     "output_type": "stream",
     "text": [
      "(1838554.9580025, -5258914.42492168, -3099898.78073271) m\n"
     ]
    }
   ],
   "source": [
    "import numpy as np\n",
    "import math\n",
    "import matplotlib.pyplot as plt\n",
    "import astropy\n",
    "from astropy.utils.data import get_pkg_data_filename\n",
    "from astropy.io import fits\n",
    "from astropy.table import Table\n",
    "import matplotlib\n",
    "import glob\n",
    "\n",
    "import time\n",
    "import sys\n",
    "import os\n",
    "import pandas as pd\n",
    "\n",
    "import astropy.units as u\n",
    "from astropy.coordinates import Angle, SkyCoord, AltAz, EarthLocation\n",
    "from astropy.time import Time\n",
    "from astropy.coordinates import Angle\n",
    "\n",
    "from scipy import interpolate\n",
    "\n",
    "import galsim\n",
    "from scipy import ndimage\n",
    "\n",
    "# location of CTIO\n",
    "earth_location = EarthLocation.of_site('La Silla Observatory')\n",
    "\n",
    "print(earth_location)"
   ]
  },
  {
   "cell_type": "code",
   "execution_count": 3,
   "id": "b3e393b5-1ad1-475d-a873-7dc50b473e30",
   "metadata": {
    "tags": []
   },
   "outputs": [],
   "source": [
    "from scipy.stats import chi2\n",
    "from scipy.interpolate import interp1d\n",
    "from scipy.integrate import trapz"
   ]
  },
  {
   "cell_type": "code",
   "execution_count": 4,
   "id": "b3870676-21ee-47ca-9b3e-2005a8d2c1e9",
   "metadata": {
    "tags": []
   },
   "outputs": [],
   "source": [
    "font = {'family' : 'serif',\n",
    "        'weight' : 'bold',\n",
    "        'style'  : 'normal',\n",
    "        'size'   : 12}\n",
    "matplotlib.rc('font', **font)"
   ]
  },
  {
   "cell_type": "code",
   "execution_count": 5,
   "id": "7d280544-d2df-44da-87a5-378df2fdb781",
   "metadata": {
    "tags": []
   },
   "outputs": [],
   "source": [
    "ref_star_SED = np.loadtxt('/global/cfs/cdirs/des/jlee/SN_Ia/star_SEDs/ukk5v.dat')\n",
    "\n",
    "f_source = interp1d(ref_star_SED.transpose()[0], ref_star_SED.transpose()[1])\n",
    "\n",
    "LSST_bands = ['u', 'g', 'r', 'i', 'z', 'Y']\n",
    "band_colors = ['blue', 'green', 'red', 'orange', 'violet']\n",
    "\n",
    "SNANA_lsst_bands = []\n",
    "for i in range(len(LSST_bands[:-1])):\n",
    "    SNANA_lsst_bands.append(np.loadtxt('DCR_AstroZ/filter_functions/LSST_baseline_1.9/LSST_' + LSST_bands[i] + '.dat', skiprows = 7))\n"
   ]
  },
  {
   "cell_type": "code",
   "execution_count": 6,
   "id": "b8d5e296-e17d-4f8b-a8d9-62e1012f951e",
   "metadata": {
    "tags": []
   },
   "outputs": [],
   "source": [
    "def sky_to_alt_az_coords(SN_fid_pos, mjd, loc = earth_location):\n",
    "    coord0 = SkyCoord(SN_fid_pos[0] * u.deg, SN_fid_pos[1] * u.deg)\n",
    "    aa = AltAz(location=loc, obstime=Time(mjd, scale = 'utc', format = 'mjd', location = loc))\n",
    "    alt, az = coord0.transform_to(aa).alt, coord0.transform_to(aa).az \n",
    "    return alt, az\n",
    "\n",
    "def sky_to_alt_az_shift(DCR_shift_RA, DCR_shift_DEC, SN_fid_pos, mjd, loc = earth_location):\n",
    "    coord0 = SkyCoord(SN_fid_pos[0] * u.deg, SN_fid_pos[1] * u.deg)\n",
    "    aa = AltAz(location=loc, obstime=Time(mjd, scale = 'utc', format = 'mjd', location = loc))\n",
    "    coord = SkyCoord((coord0.ra.value + DCR_shift_RA) * u.deg, (coord0.dec.value + DCR_shift_DEC) * u.deg)\n",
    "    alt_shift, az_shift = coord.transform_to(aa).alt - coord0.transform_to(aa).alt, coord.transform_to(aa).az - coord0.transform_to(aa).az\n",
    "    return alt_shift, az_shift"
   ]
  },
  {
   "cell_type": "code",
   "execution_count": 7,
   "id": "ffb9764b-562c-4be4-b330-dc34c23fe545",
   "metadata": {},
   "outputs": [],
   "source": [
    "def find_nearest(array, values):\n",
    "    array = np.asarray(array)\n",
    "    idxs = np.zeros(len(values))\n",
    "    for i in range(len(values)):\n",
    "        idxs[i] = (np.abs(array - values[i])).argmin()\n",
    "    idxs = idxs.astype(int)\n",
    "    return idxs, array[idxs]"
   ]
  },
  {
   "cell_type": "code",
   "execution_count": 8,
   "id": "393096ae-ef85-4f49-859f-08c1236e1267",
   "metadata": {
    "tags": []
   },
   "outputs": [],
   "source": [
    "#dir_str = 'JASON_DCR_ASTROZ_SYST_ONLY_COADD_2mas/' #'JASON_DCR_ASTROZ_COADD_SYST_ONLY_v1113/'\n",
    "dir_str = 'JASON_DCR_ASTROZ_COADD_SYST_ONLY_v1113/' #'JASON_DCR_ASTROZ_COADD_SYST_ONLY_v1113/'\n",
    "\n",
    "SIM_dir_str = '/pscratch/sd/a/astjason/DCR_AstroZ/' + dir_str\n",
    "t_head = Table.read(glob.glob(SIM_dir_str + '*HEAD.FITS*')[0])\n",
    "t_phot = Table.read(glob.glob(SIM_dir_str + '*PHOT.FITS*')[0])\n",
    "t_DCR = pd.read_csv(glob.glob(SIM_dir_str + '*.DCR*')[0], delim_whitespace=True, skiprows = 6)\n",
    "t_DUMP = pd.read_csv(glob.glob(SIM_dir_str + '*.DUMP*')[0], delim_whitespace=True, skiprows = 5)"
   ]
  },
  {
   "cell_type": "code",
   "execution_count": 9,
   "id": "42af8504-752a-4c6f-a0ea-c4955c2f8916",
   "metadata": {
    "tags": []
   },
   "outputs": [
    {
     "data": {
      "text/plain": [
       "431416"
      ]
     },
     "execution_count": 9,
     "metadata": {},
     "output_type": "execute_result"
    }
   ],
   "source": [
    "len(t_DCR)"
   ]
  },
  {
   "cell_type": "code",
   "execution_count": 10,
   "id": "25d7c5ef-086b-40c9-9508-d8ad00f24884",
   "metadata": {
    "tags": []
   },
   "outputs": [
    {
     "data": {
      "text/plain": [
       "((35992,), (119186,))"
      ]
     },
     "execution_count": 10,
     "metadata": {},
     "output_type": "execute_result"
    }
   ],
   "source": [
    "np.where(t_DCR['BAND'] == 'Y')[0].shape, np.where(t_DCR['BAND'] == 'z')[0].shape"
   ]
  },
  {
   "cell_type": "code",
   "execution_count": 11,
   "id": "19244608-df83-43e6-8cfc-2fe11e8570da",
   "metadata": {
    "tags": []
   },
   "outputs": [
    {
     "data": {
      "text/plain": [
       "array([    1,     4,     5, ..., 19998, 19999, 20000])"
      ]
     },
     "execution_count": 11,
     "metadata": {},
     "output_type": "execute_result"
    }
   ],
   "source": [
    "np.intersect1d(np.unique(t_DCR['CID'][np.where(t_DCR['BAND'] == 'z')[0]].values), np.unique(t_DCR['CID'][np.where(t_DCR['BAND'] == 'Y')[0]].values))"
   ]
  },
  {
   "cell_type": "code",
   "execution_count": 12,
   "id": "0f3b657b-a401-400e-bff3-d64662cb2e94",
   "metadata": {
    "tags": []
   },
   "outputs": [
    {
     "data": {
      "image/png": "[encoded data removed]",
      "text/plain": [
       "<Figure size 864x720 with 4 Axes>"
      ]
     },
     "metadata": {
      "needs_background": "light"
     },
     "output_type": "display_data"
    }
   ],
   "source": [
    "z_range = np.arange(0.01, 1.22, 0.02)\n",
    "x1_vals, x1_vals_bins = np.arange(-3.0, 2.5, 0.5), np.arange(-3.0, 3.0, 0.5) - 0.5/2\n",
    "c_vals, c_vals_bins = np.arange(-0.3, 0.55, 0.05), np.arange(-0.3, 0.60, 0.05) - 0.05/2\n",
    "\n",
    "plt.subplots(2, 2, figsize = [12, 10])\n",
    "\n",
    "plt.subplot(2, 2, 1)\n",
    "plt.hist(t_head['REDSHIFT_FINAL'], bins = z_range);\n",
    "plt.xlabel('Redshift (z)')\n",
    "\n",
    "plt.subplot(2, 2, 2)\n",
    "plt.hist(t_DCR['AIRMASS'].values, density = True, bins = np.arange(1.0, 2.5, 0.05))\n",
    "plt.xlabel('Air Mass (AM)')\n",
    "\n",
    "plt.subplot(2, 2, 3)\n",
    "plt.hist(t_head['SIM_SALT2c'], bins = c_vals)\n",
    "plt.xlabel('color (c)')\n",
    "\n",
    "plt.subplot(2, 2, 4)\n",
    "plt.hist(t_head['SIM_SALT2x1'], bins = x1_vals)\n",
    "plt.xlabel('stretch (x1)')\n",
    "\n",
    "\n",
    "plt.tight_layout()"
   ]
  },
  {
   "cell_type": "code",
   "execution_count": 13,
   "id": "10318cbf-0353-41f6-a2e0-9b0d41a640d9",
   "metadata": {
    "tags": []
   },
   "outputs": [],
   "source": [
    "c_prior = np.histogram(t_head['SIM_SALT2c'], bins = c_vals_bins, density = True)[0]\n",
    "x1_prior = np.histogram(t_head['SIM_SALT2x1'], bins = x1_vals_bins, density = True)[0]"
   ]
  },
  {
   "cell_type": "code",
   "execution_count": 14,
   "id": "cd6c1dca-f4b0-406f-975b-a44127cd671d",
   "metadata": {},
   "outputs": [],
   "source": [
    "#DCR properties: CID, MJD, BAND, LAMAVG_SED_WGTED, SNR, PSF_FWHM, TOBS, AIRMASS, SIM_DCR are important\n"
   ]
  },
  {
   "cell_type": "code",
   "execution_count": 15,
   "id": "b411479d-514e-49e3-991b-b10aa4867fbf",
   "metadata": {
    "tags": []
   },
   "outputs": [],
   "source": [
    "z_range, z_bin_CIDs = np.linspace(0.00, 1.2, num = 13), []\n",
    "for i in range(len(z_range)-1):\n",
    "    z_bin_inds = np.where((t_head['REDSHIFT_FINAL'] > z_range[i]) & (t_head['REDSHIFT_FINAL'] < z_range[i+1]) )[0]\n",
    "    z_bin_CIDs.append(t_head['SNID'][z_bin_inds].astype(int).value)"
   ]
  },
  {
   "cell_type": "code",
   "execution_count": 16,
   "id": "9799c6a9-b9a9-493f-8755-794ebf1dbc12",
   "metadata": {
    "tags": []
   },
   "outputs": [],
   "source": [
    "where_bands = []\n",
    "\n",
    "for b in range(len(LSST_bands)):\n",
    "    where_bands.append(np.where(t_DCR['BAND'] == LSST_bands[b])[0])"
   ]
  },
  {
   "cell_type": "code",
   "execution_count": 17,
   "id": "86e250c5-6f35-4104-ab82-3fecbb05e45c",
   "metadata": {
    "tags": []
   },
   "outputs": [],
   "source": [
    "t_DCR_inds_CID = np.load('DCR_AstroZ/' + dir_str + 't_DCR_inds_CID.npy', allow_pickle=True)\n",
    "t_DCR_inds_band_CID = np.load('DCR_AstroZ/' + dir_str + 't_DCR_inds_band_CID.npy', allow_pickle=True)"
   ]
  },
  {
   "cell_type": "code",
   "execution_count": 18,
   "id": "139b7cca-a6f1-4e7f-a6f5-6a7762e37833",
   "metadata": {
    "tags": []
   },
   "outputs": [
    {
     "data": {
      "image/png": "[encoded data removed]",
      "text/plain": [
       "<Figure size 432x288 with 1 Axes>"
      ]
     },
     "metadata": {
      "needs_background": "light"
     },
     "output_type": "display_data"
    }
   ],
   "source": [
    "def flatten_comprehension(matrix):\n",
    "    return [item for row in matrix for item in row]\n",
    "\n",
    "TOBS_real = []\n",
    "\n",
    "for i in range(len(t_head)):\n",
    "    TOBS_real.append(t_DCR['MJD'].values[t_DCR_inds_CID[i]] - t_head['PEAKMJD'][i])\n",
    "    \n",
    "tobs_obs = np.array(flatten_comprehension(TOBS_real))\n",
    "\n",
    "plt.plot(tobs_obs, t_DCR['TOBS'], '.', alpha = 0.01)\n",
    "plt.plot(np.arange(-40, 100), np.arange(-40, 100))\n",
    "plt.xlabel('From PEAKMJD')\n",
    "plt.ylabel('TRUE TOBS')\n",
    "\n",
    "plt.xlim(-40, 100)\n",
    "plt.ylim(-40, 100)\n",
    "\n",
    "#tobs_obs = np.loadtxt('/pscratch/sd/a/astjason/DCR_AstroZ/' + dir_str + 'TOBS_obs.txt')\n",
    "\n",
    "where_epoch_condition = []\n",
    "for h in range(len(t_head)):\n",
    "    if TOBS_real[h].min() >= -3/2.2 or TOBS_real[h].max() <= 10/2.2:\n",
    "        pass\n",
    "    else:\n",
    "        where_epoch_condition.append(h)\n",
    "        "
   ]
  },
  {
   "cell_type": "code",
   "execution_count": 19,
   "id": "e90118f8-6f65-46bc-8180-930f04fbfcb5",
   "metadata": {
    "tags": []
   },
   "outputs": [
    {
     "data": {
      "text/plain": [
       "13821"
      ]
     },
     "execution_count": 19,
     "metadata": {},
     "output_type": "execute_result"
    }
   ],
   "source": [
    "len(where_epoch_condition)"
   ]
  },
  {
   "cell_type": "code",
   "execution_count": 20,
   "id": "d2b9e2be-e9f2-48a2-95c9-748ec37f2546",
   "metadata": {
    "tags": []
   },
   "outputs": [],
   "source": [
    "z_true = t_head['REDSHIFT_FINAL']"
   ]
  },
  {
   "cell_type": "code",
   "execution_count": 21,
   "id": "7239eb55-cdf8-4306-8c61-2e070fcd42b8",
   "metadata": {
    "tags": []
   },
   "outputs": [],
   "source": [
    "CID_with_u = np.unique(t_DCR['CID'][np.where(t_DCR['BAND'] == LSST_bands[0])[0]].values)"
   ]
  },
  {
   "cell_type": "code",
   "execution_count": 22,
   "id": "d32d2cfc-13f6-4c06-a01e-ca429d5c9dbf",
   "metadata": {
    "tags": []
   },
   "outputs": [
    {
     "data": {
      "text/plain": [
       "(array([  5.,  14.,  20.,  43.,  53.,  68.,  87.,  85., 113., 139.]),\n",
       " array([0.02836445, 0.05817976, 0.08799507, 0.11781039, 0.1476257 ,\n",
       "        0.17744102, 0.20725633, 0.23707165, 0.26688695, 0.29670227,\n",
       "        0.32651758], dtype=float32),\n",
       " <BarContainer object of 10 artists>)"
      ]
     },
     "execution_count": 22,
     "metadata": {},
     "output_type": "execute_result"
    },
    {
     "data": {
      "image/png": "[encoded data removed]",
      "text/plain": [
       "<Figure size 432x288 with 1 Axes>"
      ]
     },
     "metadata": {
      "needs_background": "light"
     },
     "output_type": "display_data"
    }
   ],
   "source": [
    "plt.hist(z_true[CID_with_u-1])"
   ]
  },
  {
   "cell_type": "code",
   "execution_count": 23,
   "id": "eafa49ad-570e-438f-bf1a-64f4d235173b",
   "metadata": {
    "tags": []
   },
   "outputs": [],
   "source": [
    "t_DCR = pd.read_csv('DCR_AstroZ/' + dir_str + dir_str[:-1] + '_with_band_obs.csv')\n",
    "alt_shifts_wrt_z_band = np.load('DCR_AstroZ/' + dir_str + 'alt_shift_obs_all_wrt_z_avg.npy')"
   ]
  },
  {
   "cell_type": "code",
   "execution_count": 24,
   "id": "43b859b8-00b7-4cd3-977a-ff2ea53daa10",
   "metadata": {
    "tags": []
   },
   "outputs": [],
   "source": [
    "AM_range = np.arange(1.00, 3.00, 0.01)"
   ]
  },
  {
   "cell_type": "code",
   "execution_count": 25,
   "id": "95064efb-9d9d-496e-8018-9b2e5ad20078",
   "metadata": {
    "tags": []
   },
   "outputs": [
    {
     "name": "stdout",
     "output_type": "stream",
     "text": [
      "0.00034332275390625 0\n",
      "0.6544911861419678 5000\n",
      "1.2460956573486328 10000\n",
      "1.8439788818359375 15000\n"
     ]
    }
   ],
   "source": [
    "#Run only the first time\n",
    "\n",
    "t_st = time.time()\n",
    "\n",
    "SNRs_all = [] #np.zeros([len(t_heads[0]), len(DES_bands)])\n",
    "no_obs_all = np.zeros([len(t_head), len(LSST_bands)])\n",
    "AMs_all = []\n",
    "\n",
    "for head_ind in range(len(t_head)): #range(len(t_heads[0])): #range(20):\n",
    "    SNID_sim = int(t_head[head_ind]['SNID'])\n",
    "    #t_DCR_inds_where_CID = np.where(t_DCR['CID'] == SNID_sim)[0]\n",
    "    t_DCR_band_inds_used = t_DCR_inds_band_CID[len(LSST_bands)*head_ind:len(LSST_bands)*(head_ind+1)] #[]\n",
    "    \n",
    "    if head_ind % 5000 == 0:\n",
    "        print(time.time() - t_st, head_ind)\n",
    "    \n",
    "    #for i in range(len(LSST_bands)):\n",
    "    #    t_DCR_band_inds_used.append(np.intersect1d(where_bands[i], t_DCR_inds_where_CID))\n",
    "    #For one SN candidate\n",
    "    SNRs_band, AMs_band = [], []\n",
    "    for i in range(len(LSST_bands)):\n",
    "        AM_inds = find_nearest(AM_range, t_DCR['AIRMASS'].values[t_DCR_band_inds_used[i]])[0]\n",
    "        SNRs_band.append(t_DCR['SNR'].values[t_DCR_band_inds_used[i]])\n",
    "        no_obs_all[head_ind][i] = len(SNRs_band[i])\n",
    "        AMs_band.append(t_DCR['AIRMASS'].values[t_DCR_band_inds_used[i]])\n",
    "    SNRs_all.append(SNRs_band)\n",
    "    AMs_all.append(AMs_band)"
   ]
  },
  {
   "cell_type": "code",
   "execution_count": 26,
   "id": "53da7409-b5a9-49bc-899a-bb373ad71a96",
   "metadata": {
    "tags": []
   },
   "outputs": [
    {
     "name": "stderr",
     "output_type": "stream",
     "text": [
      "/global/homes/a/astjason/.conda/envs/SN_Ia/lib/python3.7/site-packages/numpy/lib/npyio.py:528: VisibleDeprecationWarning: Creating an ndarray from ragged nested sequences (which is a list-or-tuple of lists-or-tuples-or ndarrays with different lengths or shapes) is deprecated. If you meant to do this, you must specify 'dtype=object' when creating the ndarray.\n",
      "  arr = np.asanyarray(arr)\n"
     ]
    }
   ],
   "source": [
    "np.savetxt('DCR_AstroZ/' + dir_str + dir_str[:-1] + '_no_obs_all.txt', no_obs_all)\n",
    "np.save('DCR_AstroZ/' + dir_str + dir_str[:-1] + '_SNRs_all.npy', SNRs_all)\n",
    "np.save('DCR_AstroZ/' + dir_str + dir_str[:-1] + '_AMs_all.npy', AMs_all)\n",
    "\n",
    "#no_obs_all = np.loadtxt('DCR_AstroZ/' + dir_str + dir_str[:-1] + '_no_obs_all.txt')\n",
    "#SNRs_all = np.load('DCR_AstroZ/' + dir_str + dir_str[:-1] + '_SNRs_all.npy', allow_pickle=True)\n",
    "#AMs_all = np.load('DCR_AstroZ/' + dir_str + dir_str[:-1] + '_AMs_all.npy', allow_pickle=True)"
   ]
  },
  {
   "cell_type": "code",
   "execution_count": 27,
   "id": "73913691-4301-4ccb-ab91-e690f6f22d67",
   "metadata": {
    "tags": []
   },
   "outputs": [
    {
     "data": {
      "text/plain": [
       "Text(0.5, 0, '# obs per SN Ia where epoch condition')"
      ]
     },
     "execution_count": 27,
     "metadata": {},
     "output_type": "execute_result"
    },
    {
     "data": {
      "image/png": "[encoded data removed]",
      "text/plain": [
       "<Figure size 864x360 with 2 Axes>"
      ]
     },
     "metadata": {
      "needs_background": "light"
     },
     "output_type": "display_data"
    }
   ],
   "source": [
    "plt.subplots(1, 2, figsize = [12, 5])\n",
    "\n",
    "plt.subplot(1, 2, 1)\n",
    "plt.hist(no_obs_all.transpose()[:-1].sum(axis = 0), bins = np.arange(60))\n",
    "plt.xlabel('# obs per SN Ia')\n",
    "\n",
    "plt.subplot(1, 2, 2)\n",
    "plt.hist(no_obs_all[where_epoch_condition].transpose()[:-1].sum(axis = 0), bins = np.arange(60))\n",
    "plt.xlabel('# obs per SN Ia where epoch condition')\n"
   ]
  },
  {
   "cell_type": "code",
   "execution_count": 28,
   "id": "85261451-f9a9-4929-8b40-0d3c14b851f6",
   "metadata": {
    "tags": []
   },
   "outputs": [],
   "source": [
    "z_range = np.arange(0.00, 1.21, 0.01)"
   ]
  },
  {
   "cell_type": "code",
   "execution_count": 29,
   "id": "a495279e-5365-49e9-9029-c2e87bdad8b6",
   "metadata": {
    "tags": []
   },
   "outputs": [],
   "source": [
    "c_head, x1_head = t_head['SIM_SALT2c'].value, t_head['SIM_SALT2x1'].value"
   ]
  },
  {
   "cell_type": "code",
   "execution_count": 30,
   "id": "20ea9e1f-645f-4042-a02e-d2978d71466d",
   "metadata": {
    "tags": []
   },
   "outputs": [],
   "source": [
    "#Getting rid of SNe where predicted z = 0.01 because of all the NaNs\n",
    "def nan_helper(y):\n",
    "    \"\"\"Helper to handle indices and logical indices of NaNs.\n",
    "\n",
    "    Input:\n",
    "        - y, 1d numpy array with possible NaNs\n",
    "    Output:\n",
    "        - nans, logical indices of NaNs\n",
    "        - index, a function, with signature indices= index(logical_indices),\n",
    "          to convert logical indices of NaNs to 'equivalent' indices\n",
    "    Example:\n",
    "        >>> # linear interpolation of NaNs\n",
    "        >>> nans, x= nan_helper(y)\n",
    "        >>> y[nans]= np.interp(x(nans), x(~nans), y[~nans])\n",
    "    \"\"\"\n",
    "\n",
    "    return np.isnan(y), lambda z: z.nonzero()[0]"
   ]
  },
  {
   "cell_type": "code",
   "execution_count": 31,
   "id": "2757e8e4-2dd4-40a5-84fb-29a9cbe4b1f2",
   "metadata": {
    "tags": []
   },
   "outputs": [],
   "source": [
    "#With float128\n",
    "\n",
    "def z_pred_perfect(chi2_all, z_range, no_obs_all = no_obs_all, c_marg = False, c_vals = c_vals, c_head = c_head, x1_marg = False, x1_vals = x1_vals, x1_head = x1_head, sig = 0.34135, zmin = 0.00, zmax = z_range[-1] + 1e-4, zprecision = 1e-4, no_quantiles = 11, chi2_threshold = 500):\n",
    "    z_interp = np.arange(zmin, zmax, zprecision)\n",
    "    c_inds, x1_inds = find_nearest(c_vals, c_head)[0], find_nearest(x1_vals, x1_head)[0]\n",
    "    z_pred_CDF50, z_pred_peaks = np.zeros([len(chi2_all), 3]), np.zeros([len(chi2_all), 3]) #value, +- 1sigma\n",
    "    z_quantiles = np.zeros([len(chi2_all), no_quantiles])\n",
    "    total_post = np.zeros([len(chi2_all), len(z_range)])\n",
    "    for h in range(len(chi2_all)):\n",
    "        where_not_zero = np.where(no_obs_all[h][:-1] > 0)[0]\n",
    "        chi2_sum = chi2_all[h][where_not_zero].sum(axis = 0)\n",
    "        if (c_marg == True) & (x1_marg == True):\n",
    "            chi2_exp = -chi2_sum/2\n",
    "            if abs(chi2_exp.max()) > chi2_threshold:\n",
    "                chi2_exp = chi2_exp - chi2_exp.max()\n",
    "            total_post[h] = trapz(trapz(np.exp(chi2_exp)*c_prior, c_vals)*x1_prior, x1_vals)\n",
    "        elif (c_marg == True) & (x1_marg == False):\n",
    "            chi2_exp = -chi2_sum.transpose([1, 0, 2])[x1_inds[h]]/2\n",
    "            if abs(chi2_exp.max()) > chi2_threshold:\n",
    "                chi2_exp = chi2_exp - chi2_exp.max()\n",
    "            total_post[h] = trapz(np.exp(chi2_exp)*c_prior, c_vals)\n",
    "        elif (c_marg == False) & (x1_marg == True):\n",
    "            chi2_exp = -chi2_sum.transpose([2, 0, 1])[c_inds[h]]/2\n",
    "            if abs(chi2_exp.max()) > chi2_threshold:\n",
    "                chi2_exp = chi2_exp - chi2_exp.max()\n",
    "            total_post[h] = trapz(np.exp(chi2_exp)*x1_prior, x1_vals)\n",
    "        else:\n",
    "            chi2_exp = -chi2_sum.transpose()[c_inds[h]][x1_inds[h]]/2\n",
    "            if abs(chi2_exp.max()) > chi2_threshold:\n",
    "                chi2_exp = chi2_exp - chi2_exp.max()\n",
    "            total_post[h] = np.exp(chi2_exp, dtype = np.float128)\n",
    "        nans, x= nan_helper(total_post[h])\n",
    "        if len(np.where(nans)[0]) != 0:\n",
    "            total_post[h][nans]= np.interp(x(nans), x(~nans), total_post[h][~nans])\n",
    "        max_ind = np.argmax(total_post[h])\n",
    "        max_ind_z_interp = np.where(np.round(z_interp, 5) == np.round(z_range[max_ind], 2))[0]\n",
    "        cdf = interp1d(z_range, np.cumsum(total_post[h], dtype = np.float128)/np.sum(total_post[h], dtype = np.float128), fill_value='extrapolate')\n",
    "        z_pred_CDF50[h] = z_interp[find_nearest(cdf(z_interp), [0.5, 0.5 - sig, 0.5 + sig])[0]]\n",
    "        z_pred_peaks[h] = z_interp[find_nearest(cdf(z_interp), [cdf(z_interp[max_ind_z_interp]), cdf(z_interp[max_ind_z_interp]) - sig, cdf(z_interp[max_ind_z_interp]) + sig])[0]]\n",
    "        z_quantiles[h] = z_interp[find_nearest(cdf(z_interp), np.linspace(0, 1, num = no_quantiles))[0]]\n",
    "    return z_pred_CDF50, z_pred_peaks, total_post, z_quantiles"
   ]
  },
  {
   "cell_type": "code",
   "execution_count": 32,
   "id": "94fc03cb-0f2e-4170-bf02-2c9d6d0e5fe3",
   "metadata": {
    "tags": []
   },
   "outputs": [],
   "source": [
    "def outlier_rates(z_true_values, z_pred_values, precision):\n",
    "    where_outlier = np.where(abs((z_pred_values - z_true_values)/(1 + z_true_values)) > precision)[0]\n",
    "    return len(where_outlier)/len(z_true_values), where_outlier"
   ]
  },
  {
   "cell_type": "code",
   "execution_count": 33,
   "id": "7c9ba6de-4f7d-4920-86c2-c3959063edc9",
   "metadata": {
    "tags": []
   },
   "outputs": [],
   "source": [
    "where_Y_not_zero_inds = np.loadtxt('DCR_AstroZ/' + dir_str + 'where_Y_not_zero_header_inds.txt').astype(int)"
   ]
  },
  {
   "cell_type": "code",
   "execution_count": 34,
   "id": "b86ab150-cd40-4817-8cef-0e79225600b5",
   "metadata": {
    "tags": []
   },
   "outputs": [],
   "source": [
    "def combine_wrt_zY(z_preds_z, z_preds_Y, where_Y_not_zero = where_Y_not_zero_inds):\n",
    "    z_CDF50, z_Peaks, z_PDFs, z_quantiles = z_preds_z\n",
    "    Y_CDF50, Y_Peaks, Y_PDFs, Y_quantiles = z_preds_Y\n",
    "    zY_CDF50, zY_Peaks, zY_PDFs, zY_quantiles = np.zeros(z_preds_z[0].shape), np.zeros(z_preds_z[1].shape), np.zeros(z_preds_z[2].shape), np.zeros(z_preds_z[3].shape)\n",
    "    zY_CDF50[:], zY_Peaks[:], zY_PDFs[:], zY_quantiles[:] = z_CDF50[:], z_Peaks[:], z_PDFs[:], z_quantiles[:]\n",
    "    print(len(where_Y_not_zero))\n",
    "    zY_CDF50[where_Y_not_zero], zY_Peaks[where_Y_not_zero], zY_PDFs[where_Y_not_zero] = Y_CDF50[where_Y_not_zero], Y_Peaks[where_Y_not_zero], Y_PDFs[where_Y_not_zero]\n",
    "    zY_quantiles[where_Y_not_zero] = Y_quantiles[where_Y_not_zero]\n",
    "    return zY_CDF50, zY_Peaks, zY_PDFs, zY_quantiles\n",
    "#z_preds_zY_combined[np.where(z_preds_wrt_Y[1].transpose()[0] != 0)[0]] = "
   ]
  },
  {
   "cell_type": "code",
   "execution_count": 37,
   "id": "61722e9f-b93a-4783-8331-6007e1bfd217",
   "metadata": {
    "tags": []
   },
   "outputs": [],
   "source": [
    "#Ideal tobs - 2 mas\n",
    "\n",
    "dir_strs = ['JASON_DCR_ASTROZ_COADD_SYST_ONLY_v1113/', 'JASON_DCR_ASTROZ_SYST_ONLY_COADD_10mas/', 'JASON_DCR_ASTROZ_SYST_ONLY_COADD_2mas/']\n",
    "dir_str = dir_strs[2]\n",
    "\n",
    "chi2_z_ideal_tobs = np.zeros([len(t_head), len(LSST_bands[:-1]), len(z_range), len(x1_vals), len(c_vals)])\n",
    "chi2_z_wrt_Y_ideal_tobs = np.zeros([len(t_head), len(LSST_bands[:-1]), len(z_range), len(x1_vals), len(c_vals)])\n",
    "\n",
    "chunk_size = 800\n",
    "no_chi2_loops = int(len(t_head)/chunk_size)\n",
    "\n",
    "for i in range(no_chi2_loops):\n",
    "    chi2_z_ideal_tobs[chunk_size*i:chunk_size*(i+1)] = np.load('DCR_AstroZ/' + dir_str + 'chi2_z_wrt_z_%d_ideal_tobs.npy' %i)\n",
    "    chi2_z_wrt_Y_ideal_tobs[chunk_size*i:chunk_size*(i+1)] = np.load('DCR_AstroZ/' + dir_str + 'chi2_z_wrt_Y_%d_ideal_tobs.npy' %i)\n"
   ]
  },
  {
   "cell_type": "code",
   "execution_count": 38,
   "id": "55f7d191-f4ff-4257-b8a0-bf1118633907",
   "metadata": {
    "tags": []
   },
   "outputs": [
    {
     "name": "stdout",
     "output_type": "stream",
     "text": [
      "12702\n",
      "133.0343463420868 Time Elapsed\n"
     ]
    }
   ],
   "source": [
    "# Ideal tobs, 2 mas\n",
    "\n",
    "t_st = time.time()\n",
    "\n",
    "c_marg_val, x1_marg_val = False, False\n",
    "\n",
    "z_preds_no_marg_2mas = z_pred_perfect(chi2_z_ideal_tobs, z_range, no_obs_all = no_obs_all.transpose()[:-1].transpose(), c_marg = c_marg_val, x1_marg = x1_marg_val)\n",
    "z_preds_no_marg_wrt_Y_2mas = z_pred_perfect(chi2_z_wrt_Y_ideal_tobs, z_range, no_obs_all = no_obs_all, c_marg = c_marg_val, x1_marg = x1_marg_val)\n",
    "\n",
    "z_preds_no_marg_wrt_zY_2mas = combine_wrt_zY(z_preds_no_marg_2mas, z_preds_no_marg_wrt_Y_2mas, where_Y_not_zero_inds)\n",
    "\n",
    "print(time.time() - t_st, 'Time Elapsed')"
   ]
  },
  {
   "cell_type": "code",
   "execution_count": 39,
   "id": "bb6d3831-a591-4f92-a3f7-ca070d0c7a44",
   "metadata": {
    "tags": []
   },
   "outputs": [],
   "source": [
    "np.save('DCR_AstroZ/results/Data_for_Paper/systematics/z_preds_wrt_zY_ideal_tobs_2mas.npy', z_preds_no_marg_wrt_zY_2mas[:2])\n",
    "np.save('DCR_AstroZ/results/Data_for_Paper/systematics/z_pdfs_wrt_zY_ideal_tobs_2mas.npy', z_preds_no_marg_wrt_zY_2mas[2])\n",
    "np.save('DCR_AstroZ/results/Data_for_Paper/systematics/z_quantiles_wrt_zY_ideal_tobs_2mas.npy', z_preds_no_marg_wrt_zY_2mas[3])\n"
   ]
  },
  {
   "cell_type": "code",
   "execution_count": 67,
   "id": "cca19fb0-4989-4249-b573-c5ea43670306",
   "metadata": {
    "tags": []
   },
   "outputs": [
    {
     "name": "stdout",
     "output_type": "stream",
     "text": [
      "12720\n",
      "138.02038383483887 Time Elapsed\n"
     ]
    }
   ],
   "source": [
    "#Ideal tobs - 5 mas\n",
    "\n",
    "dir_strs = ['JASON_DCR_ASTROZ_COADD_SYST_ONLY_v1113/', 'JASON_DCR_ASTROZ_SYST_ONLY_COADD_10mas/', 'JASON_DCR_ASTROZ_SYST_ONLY_COADD_2mas/']\n",
    "dir_str = dir_strs[0]\n",
    "\n",
    "chi2_z_ideal_tobs = np.zeros([len(t_head), len(LSST_bands[:-1]), len(z_range), len(x1_vals), len(c_vals)])\n",
    "chi2_z_wrt_Y_ideal_tobs = np.zeros([len(t_head), len(LSST_bands[:-1]), len(z_range), len(x1_vals), len(c_vals)])\n",
    "\n",
    "chunk_size = 800\n",
    "no_chi2_loops = int(len(t_head)/chunk_size)\n",
    "\n",
    "for i in range(no_chi2_loops):\n",
    "    chi2_z_ideal_tobs[chunk_size*i:chunk_size*(i+1)] = np.load('DCR_AstroZ/' + dir_str + 'chi2_z_wrt_z_%d_ideal_tobs.npy' %i)\n",
    "    chi2_z_wrt_Y_ideal_tobs[chunk_size*i:chunk_size*(i+1)] = np.load('DCR_AstroZ/' + dir_str + 'chi2_z_wrt_Y_%d_ideal_tobs.npy' %i)\n",
    "\n",
    "# Ideal tobs, 2 mas\n",
    "\n",
    "t_st = time.time()\n",
    "\n",
    "c_marg_val, x1_marg_val = False, False\n",
    "\n",
    "z_preds_no_marg_5mas = z_pred_perfect(chi2_z_ideal_tobs, z_range, no_obs_all = no_obs_all.transpose()[:-1].transpose(), c_marg = c_marg_val, x1_marg = x1_marg_val)\n",
    "z_preds_no_marg_wrt_Y_5mas = z_pred_perfect(chi2_z_wrt_Y_ideal_tobs, z_range, no_obs_all = no_obs_all, c_marg = c_marg_val, x1_marg = x1_marg_val)\n",
    "\n",
    "z_preds_no_marg_wrt_zY_5mas = combine_wrt_zY(z_preds_no_marg_5mas, z_preds_no_marg_wrt_Y_5mas, where_Y_not_zero_inds)\n",
    "\n",
    "print(time.time() - t_st, 'Time Elapsed')"
   ]
  },
  {
   "cell_type": "code",
   "execution_count": 68,
   "id": "80c77efa-6933-4c4f-9fcd-ce8008e10c09",
   "metadata": {
    "tags": []
   },
   "outputs": [],
   "source": [
    "np.save('DCR_AstroZ/results/Data_for_Paper/systematics/z_preds_wrt_zY_ideal_tobs_5mas.npy', z_preds_no_marg_wrt_zY_5mas[:2])\n",
    "np.save('DCR_AstroZ/results/Data_for_Paper/systematics/z_pdfs_wrt_zY_ideal_tobs_5mas.npy', z_preds_no_marg_wrt_zY_5mas[2])\n",
    "np.save('DCR_AstroZ/results/Data_for_Paper/systematics/z_quantiles_wrt_zY_ideal_tobs_5mas.npy', z_preds_no_marg_wrt_zY_5mas[3])\n"
   ]
  },
  {
   "cell_type": "code",
   "execution_count": 69,
   "id": "59ff6a99-0014-4efc-8c10-fba1d7c70ac5",
   "metadata": {
    "tags": []
   },
   "outputs": [
    {
     "name": "stdout",
     "output_type": "stream",
     "text": [
      "12720\n",
      "138.80736088752747 Time Elapsed\n"
     ]
    }
   ],
   "source": [
    "#Ideal tobs - 10 mas\n",
    "\n",
    "dir_strs = ['JASON_DCR_ASTROZ_COADD_SYST_ONLY_v1113/', 'JASON_DCR_ASTROZ_SYST_ONLY_COADD_10mas/', 'JASON_DCR_ASTROZ_SYST_ONLY_COADD_2mas/']\n",
    "dir_str = dir_strs[1]\n",
    "\n",
    "chi2_z_ideal_tobs = np.zeros([len(t_head), len(LSST_bands[:-1]), len(z_range), len(x1_vals), len(c_vals)])\n",
    "chi2_z_wrt_Y_ideal_tobs = np.zeros([len(t_head), len(LSST_bands[:-1]), len(z_range), len(x1_vals), len(c_vals)])\n",
    "\n",
    "chunk_size = 800\n",
    "no_chi2_loops = int(len(t_head)/chunk_size)\n",
    "\n",
    "for i in range(no_chi2_loops):\n",
    "    chi2_z_ideal_tobs[chunk_size*i:chunk_size*(i+1)] = np.load('DCR_AstroZ/' + dir_str + 'chi2_z_wrt_z_%d_ideal_tobs.npy' %i)\n",
    "    chi2_z_wrt_Y_ideal_tobs[chunk_size*i:chunk_size*(i+1)] = np.load('DCR_AstroZ/' + dir_str + 'chi2_z_wrt_Y_%d_ideal_tobs.npy' %i)\n",
    "\n",
    "# Ideal tobs, 10 mas\n",
    "\n",
    "t_st = time.time()\n",
    "\n",
    "c_marg_val, x1_marg_val = False, False\n",
    "\n",
    "z_preds_no_marg_10mas = z_pred_perfect(chi2_z_ideal_tobs, z_range, no_obs_all = no_obs_all.transpose()[:-1].transpose(), c_marg = c_marg_val, x1_marg = x1_marg_val)\n",
    "z_preds_no_marg_wrt_Y_10mas = z_pred_perfect(chi2_z_wrt_Y_ideal_tobs, z_range, no_obs_all = no_obs_all, c_marg = c_marg_val, x1_marg = x1_marg_val)\n",
    "\n",
    "z_preds_no_marg_wrt_zY_10mas = combine_wrt_zY(z_preds_no_marg_10mas, z_preds_no_marg_wrt_Y_10mas, where_Y_not_zero_inds)\n",
    "\n",
    "print(time.time() - t_st, 'Time Elapsed')"
   ]
  },
  {
   "cell_type": "code",
   "execution_count": 70,
   "id": "e17bf897-2a2c-4bc7-ad6e-81d755dfee03",
   "metadata": {
    "tags": []
   },
   "outputs": [],
   "source": [
    "np.save('DCR_AstroZ/results/Data_for_Paper/systematics/z_preds_wrt_zY_ideal_tobs_10mas.npy', z_preds_no_marg_wrt_zY_10mas[:2])\n",
    "np.save('DCR_AstroZ/results/Data_for_Paper/systematics/z_pdfs_wrt_zY_ideal_tobs_10mas.npy', z_preds_no_marg_wrt_zY_10mas[2])\n",
    "np.save('DCR_AstroZ/results/Data_for_Paper/systematics/z_quantiles_wrt_zY_ideal_tobs_10mas.npy', z_preds_no_marg_wrt_zY_10mas[3])\n"
   ]
  },
  {
   "cell_type": "code",
   "execution_count": 71,
   "id": "3a7b8b4e-28e4-417f-b783-9ef08016150e",
   "metadata": {
    "tags": []
   },
   "outputs": [],
   "source": [
    "## All syst for realistic, place holder 240402 6PM, make sure marg = True for all syst for realistic"
   ]
  },
  {
   "cell_type": "code",
   "execution_count": 36,
   "id": "3e7dcc44-eacf-4dd4-8b07-61ee1a204ab5",
   "metadata": {
    "tags": []
   },
   "outputs": [
    {
     "data": {
      "text/plain": [
       "'JASON_DCR_ASTROZ_COADD_SYST_ONLY_v1113/'"
      ]
     },
     "execution_count": 36,
     "metadata": {},
     "output_type": "execute_result"
    }
   ],
   "source": [
    "dir_str"
   ]
  },
  {
   "cell_type": "code",
   "execution_count": 35,
   "id": "1f3b26b9-c84b-4b2e-af6e-4965b24c0a2c",
   "metadata": {
    "tags": []
   },
   "outputs": [],
   "source": [
    "lcfit_CIDs = np.loadtxt(SIM_dir_str + 'lcfit_CIDs_v240111.txt')\n",
    "tobs_lcfit = np.loadtxt(SIM_dir_str + 'lcfit_TOBS_v240111.txt')\n"
   ]
  },
  {
   "cell_type": "code",
   "execution_count": 38,
   "id": "d8570e12-835b-46f7-acec-10ba7d8a8e54",
   "metadata": {
    "tags": []
   },
   "outputs": [],
   "source": [
    "#Realistic tobs\n",
    "\n",
    "chi2_z = np.zeros([len(t_head), len(LSST_bands[:-1]), len(z_range), len(x1_vals), len(c_vals)])\n",
    "chi2_z_wrt_Y = np.zeros([len(t_head), len(LSST_bands[:-1]), len(z_range), len(x1_vals), len(c_vals)])\n",
    "\n",
    "chunk_size = 800\n",
    "no_chi2_loops = int(len(t_head)/chunk_size)\n",
    "\n",
    "for i in range(no_chi2_loops):\n",
    "    chi2_z[chunk_size*i:chunk_size*(i+1)] = np.load('DCR_AstroZ/' + dir_str + 'chi2_z_wrt_z_%d_realistic_tobs.npy' %i)\n",
    "    chi2_z_wrt_Y[chunk_size*i:chunk_size*(i+1)] = np.load('DCR_AstroZ/' + dir_str + 'chi2_z_wrt_Y_%d_realistic_tobs.npy' %i)\n"
   ]
  },
  {
   "cell_type": "code",
   "execution_count": 39,
   "id": "26ee8bcd-3790-4d37-a23d-1c82341040ce",
   "metadata": {
    "tags": []
   },
   "outputs": [
    {
     "name": "stderr",
     "output_type": "stream",
     "text": [
      "/global/homes/a/astjason/.conda/envs/SN_Ia/lib/python3.7/site-packages/ipykernel_launcher.py:37: RuntimeWarning: invalid value encountered in true_divide\n"
     ]
    },
    {
     "name": "stdout",
     "output_type": "stream",
     "text": [
      "12720\n",
      "151.4310040473938 Time Elapsed\n"
     ]
    }
   ],
   "source": [
    "#Fmax clump, all syst for realistic\n",
    "\n",
    "t_st = time.time()\n",
    "\n",
    "c_marg_val, x1_marg_val = True, True\n",
    "\n",
    "z_preds_no_marg_fmax_clump = z_pred_perfect(chi2_z, z_range, no_obs_all = no_obs_all.transpose()[:-1].transpose(), c_marg = c_marg_val, x1_marg = x1_marg_val)\n",
    "z_preds_no_marg_wrt_Y_fmax_clump = z_pred_perfect(chi2_z_wrt_Y, z_range, no_obs_all = no_obs_all, c_marg = c_marg_val, x1_marg = x1_marg_val)\n",
    "\n",
    "z_preds_no_marg_wrt_zY_fmax_clump = combine_wrt_zY(z_preds_no_marg_fmax_clump, z_preds_no_marg_wrt_Y_fmax_clump, where_Y_not_zero_inds)\n",
    "\n",
    "print(time.time() - t_st, 'Time Elapsed')"
   ]
  },
  {
   "cell_type": "code",
   "execution_count": 41,
   "id": "b0f9629e-8e63-434b-9325-409e9834fd5d",
   "metadata": {
    "tags": []
   },
   "outputs": [],
   "source": [
    "np.save('DCR_AstroZ/results/Data_for_Paper/systematics/z_preds_wrt_zY_fmax_clump_5mas_yes_marg.npy', z_preds_no_marg_wrt_zY_fmax_clump[:2])\n",
    "np.save('DCR_AstroZ/results/Data_for_Paper/systematics/z_pdfs_wrt_zY_fmax_clump_5mas_yes_marg.npy', z_preds_no_marg_wrt_zY_fmax_clump[2])\n",
    "np.save('DCR_AstroZ/results/Data_for_Paper/systematics/z_quantiles_wrt_zY_fmax_clump_5mas_yes_marg.npy', z_preds_no_marg_wrt_zY_fmax_clump[3])\n"
   ]
  },
  {
   "cell_type": "code",
   "execution_count": 39,
   "id": "5989aef1-9011-4835-b54a-639b30573372",
   "metadata": {
    "tags": []
   },
   "outputs": [],
   "source": [
    "z_preds_wrt_zY_fmax_clump_yes_marg = np.load('DCR_AstroZ/results/Data_for_Paper/systematics/z_preds_wrt_zY_fmax_clump_5mas_yes_marg.npy'), np.load('DCR_AstroZ/results/Data_for_Paper/systematics/z_pdfs_wrt_zY_fmax_clump_5mas_yes_marg.npy'), np.load('DCR_AstroZ/results/Data_for_Paper/systematics/z_quantiles_wrt_zY_fmax_clump_5mas_yes_marg.npy')\n",
    "a, b, c, d = z_preds_wrt_zY_fmax_clump_yes_marg[0][0], z_preds_wrt_zY_fmax_clump_yes_marg[0][1], z_preds_wrt_zY_fmax_clump_yes_marg[1], z_preds_wrt_zY_fmax_clump_yes_marg[2]\n",
    "z_preds_wrt_zY_fmax_clump_yes_marg = a, b, c, d"
   ]
  },
  {
   "cell_type": "code",
   "execution_count": 40,
   "id": "d1998343-a8ba-4b9c-9bce-76a529388239",
   "metadata": {
    "tags": []
   },
   "outputs": [
    {
     "data": {
      "text/plain": [
       "(11828,)"
      ]
     },
     "execution_count": 40,
     "metadata": {},
     "output_type": "execute_result"
    }
   ],
   "source": [
    "np.intersect1d(lcfit_CIDs, where_epoch_condition).shape"
   ]
  },
  {
   "cell_type": "code",
   "execution_count": 36,
   "id": "809e8682-5040-4a66-9e96-d866184a05f3",
   "metadata": {
    "tags": []
   },
   "outputs": [],
   "source": [
    "#lcfit tobs\n",
    "\n",
    "chi2_z_lcfit_tobs = np.zeros([len(t_head), len(LSST_bands[:-1]), len(z_range), len(x1_vals), len(c_vals)])\n",
    "chi2_z_wrt_Y_lcfit_tobs = np.zeros([len(t_head), len(LSST_bands[:-1]), len(z_range), len(x1_vals), len(c_vals)])\n",
    "\n",
    "chunk_size = 800\n",
    "no_chi2_loops = int(len(t_head)/chunk_size)\n",
    "\n",
    "for i in range(no_chi2_loops):\n",
    "    chi2_z_lcfit_tobs[chunk_size*i:chunk_size*(i+1)] = np.load('DCR_AstroZ/' + dir_str + 'chi2_z_wrt_z_%d_lcfit_tobs.npy' %i)\n",
    "    chi2_z_wrt_Y_lcfit_tobs[chunk_size*i:chunk_size*(i+1)] = np.load('DCR_AstroZ/' + dir_str + 'chi2_z_wrt_Y_%d_lcfit_tobs.npy' %i)\n"
   ]
  },
  {
   "cell_type": "code",
   "execution_count": 37,
   "id": "0c4e3bc7-cc56-45ef-b827-95dd4d5ba3c2",
   "metadata": {
    "tags": []
   },
   "outputs": [
    {
     "name": "stderr",
     "output_type": "stream",
     "text": [
      "/global/homes/a/astjason/.conda/envs/SN_Ia/lib/python3.7/site-packages/ipykernel_launcher.py:37: RuntimeWarning: invalid value encountered in true_divide\n"
     ]
    },
    {
     "name": "stdout",
     "output_type": "stream",
     "text": [
      "12720\n",
      "160.6958954334259 Time Elapsed\n"
     ]
    }
   ],
   "source": [
    "#Fmax clump, all syst for realistic\n",
    "\n",
    "t_st = time.time()\n",
    "\n",
    "c_marg_val, x1_marg_val = True, True\n",
    "\n",
    "z_preds_no_marg_lcfit_tobs = z_pred_perfect(chi2_z_lcfit_tobs, z_range, no_obs_all = no_obs_all.transpose()[:-1].transpose(), c_marg = c_marg_val, x1_marg = x1_marg_val)\n",
    "z_preds_no_marg_wrt_Y_lcfit_tobs = z_pred_perfect(chi2_z_wrt_Y_lcfit_tobs, z_range, no_obs_all = no_obs_all, c_marg = c_marg_val, x1_marg = x1_marg_val)\n",
    "\n",
    "z_preds_no_marg_wrt_zY_lcfit_tobs = combine_wrt_zY(z_preds_no_marg_lcfit_tobs, z_preds_no_marg_wrt_Y_lcfit_tobs, where_Y_not_zero_inds)\n",
    "\n",
    "print(time.time() - t_st, 'Time Elapsed')"
   ]
  },
  {
   "cell_type": "code",
   "execution_count": 38,
   "id": "e49ec6d1-62ff-41e5-b79b-400d42dfc449",
   "metadata": {
    "tags": []
   },
   "outputs": [],
   "source": [
    "np.save('DCR_AstroZ/results/Data_for_Paper/systematics/z_preds_wrt_zY_lcfit_tobs_5mas_yes_marg.npy', z_preds_no_marg_wrt_zY_lcfit_tobs[:2])\n",
    "np.save('DCR_AstroZ/results/Data_for_Paper/systematics/z_pdfs_wrt_zY_lcfit_tobs_5mas_yes_marg.npy', z_preds_no_marg_wrt_zY_lcfit_tobs[2])\n",
    "np.save('DCR_AstroZ/results/Data_for_Paper/systematics/z_quantiles_wrt_zY_lcfit_tobs_5mas_yes_marg.npy', z_preds_no_marg_wrt_zY_lcfit_tobs[3])\n"
   ]
  },
  {
   "cell_type": "code",
   "execution_count": 42,
   "id": "1b22051d-794a-424d-87e3-481ee5074a88",
   "metadata": {
    "tags": []
   },
   "outputs": [
    {
     "name": "stdout",
     "output_type": "stream",
     "text": [
      "14170\n"
     ]
    }
   ],
   "source": [
    "z_preds_wrt_zY_combined_with_lcfit_tobs = combine_wrt_zY(z_preds_wrt_zY_fmax_clump_yes_marg, z_preds_no_marg_wrt_zY_lcfit_tobs, lcfit_CIDs.astype(int))"
   ]
  },
  {
   "cell_type": "code",
   "execution_count": 43,
   "id": "51ff085c-6e6d-4512-894b-5ca3257221b6",
   "metadata": {},
   "outputs": [],
   "source": [
    "np.save('DCR_AstroZ/results/Data_for_Paper/systematics/z_preds_wrt_zY_all_syst_for_realistic.npy', z_preds_wrt_zY_combined_with_lcfit_tobs[:2])\n",
    "np.save('DCR_AstroZ/results/Data_for_Paper/systematics/z_pdfs_wrt_zY_all_syst_for_realistic.npy', z_preds_wrt_zY_combined_with_lcfit_tobs[2])\n",
    "np.save('DCR_AstroZ/results/Data_for_Paper/systematics/z_quantiles_wrt_zY_all_syst_for_realistic.npy', z_preds_wrt_zY_combined_with_lcfit_tobs[3])\n"
   ]
  }
 ],
 "metadata": {
  "kernelspec": {
   "display_name": "SN_Ia",
   "language": "python",
   "name": "sn_ia"
  },
  "language_info": {
   "codemirror_mode": {
    "name": "ipython",
    "version": 3
   },
   "file_extension": ".py",
   "mimetype": "text/x-python",
   "name": "python",
   "nbconvert_exporter": "python",
   "pygments_lexer": "ipython3",
   "version": "3.7.12"
  }
 },
 "nbformat": 4,
 "nbformat_minor": 5
}
